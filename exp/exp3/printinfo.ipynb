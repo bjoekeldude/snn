{
 "cells": [
  {
   "cell_type": "code",
   "execution_count": 1,
   "id": "operating-charles",
   "metadata": {},
   "outputs": [],
   "source": [
    "import math\n",
    "import numpy as np\n",
    "import matplotlib.pyplot as plt"
   ]
  },
  {
   "cell_type": "code",
   "execution_count": 2,
   "id": "russian-cricket",
   "metadata": {},
   "outputs": [],
   "source": [
    "def sigificant_digit(number, digits=4):\n",
    "    return round(number, digits - int(math.floor(math.log10(abs(number)))) - 1)\n",
    "\n",
    "\n",
    "def print_sigificant_array(arr):\n",
    "    for i in arr:\n",
    "        if i != arr[-1]:\n",
    "            print(str(sigificant_digit(1000*i)), end=' &')\n",
    "        else:\n",
    "            print(str(sigificant_digit(1000*i)))"
   ]
  },
  {
   "cell_type": "markdown",
   "id": "healthy-fiction",
   "metadata": {},
   "source": [
    "#### real world"
   ]
  },
  {
   "cell_type": "code",
   "execution_count": 3,
   "id": "centered-metropolitan",
   "metadata": {},
   "outputs": [
    {
     "name": "stdout",
     "output_type": "stream",
     "text": [
      "1914.0 &463.9 &431.9 &30.2\n",
      "1739.0 &454.5 &434.3 &48.67\n",
      "1968.0 &452.0 &438.8 &50.61\n",
      "1759.0 &457.5 &442.4 &51.21\n",
      "1752.0 &477.2 &449.8 &53.01\n"
     ]
    }
   ],
   "source": [
    "with open('result/dbscan_real_timing/runtimeBFBanknote.npy', 'rb') as f:\n",
    "    runtime_brute = np.load(f).mean(axis=1)\n",
    "\n",
    "with open('result/dbscan_real_timing/runtimeKTBanknote.npy', 'rb') as f:\n",
    "    runtime_kt = np.load(f).mean(axis=1)\n",
    "\n",
    "with open('result/dbscan_real_timing/runtimeBTBanknote.npy', 'rb') as f:\n",
    "    runtime_bt = np.load(f).mean(axis=1)\n",
    "\n",
    "with open('result/dbscan_real_timing/runtimeSNNBanknote.npy', 'rb') as f:\n",
    "    runtime_snn = np.load(f).mean(axis=1)\n",
    "    \n",
    "T = np.vstack((runtime_brute, runtime_kt, runtime_bt, runtime_snn)).T\n",
    "print_sigificant_array(T[0])\n",
    "print_sigificant_array(T[1])\n",
    "print_sigificant_array(T[2])\n",
    "print_sigificant_array(T[3])\n",
    "print_sigificant_array(T[4])"
   ]
  },
  {
   "cell_type": "code",
   "execution_count": 4,
   "id": "searching-tower",
   "metadata": {},
   "outputs": [
    {
     "name": "stdout",
     "output_type": "stream",
     "text": [
      "706.8 &138.8 &124.3 &86.81\n",
      "654.0 &142.2 &127.8 &64.62\n",
      "651.8 &139.2 &123.2 &63.74\n",
      "650.7 &138.2 &121.5 &60.75\n",
      "638.6 &138.4 &121.2 &58.17\n"
     ]
    }
   ],
   "source": [
    "with open('result/dbscan_real_timing/runtimeBFDermatology.npy', 'rb') as f:\n",
    "    runtime_brute = np.load(f).mean(axis=1)\n",
    "\n",
    "with open('result/dbscan_real_timing/runtimeKTDermatology.npy', 'rb') as f:\n",
    "    runtime_kt = np.load(f).mean(axis=1)\n",
    "\n",
    "with open('result/dbscan_real_timing/runtimeBTDermatology.npy', 'rb') as f:\n",
    "    runtime_bt = np.load(f).mean(axis=1)\n",
    "\n",
    "with open('result/dbscan_real_timing/runtimeSNNDermatology.npy', 'rb') as f:\n",
    "    runtime_snn = np.load(f).mean(axis=1)\n",
    "    \n",
    "    \n",
    "T = np.vstack((runtime_brute, runtime_kt, runtime_bt, runtime_snn)).T\n",
    "print_sigificant_array(T[0])\n",
    "print_sigificant_array(T[1])\n",
    "print_sigificant_array(T[2])\n",
    "print_sigificant_array(T[3])\n",
    "print_sigificant_array(T[4])"
   ]
  },
  {
   "cell_type": "code",
   "execution_count": 5,
   "id": "preceding-cursor",
   "metadata": {},
   "outputs": [
    {
     "name": "stdout",
     "output_type": "stream",
     "text": [
      "506.9 &116.0 &104.9 &7.674\n",
      "491.9 &116.0 &105.2 &8.105\n",
      "496.0 &116.5 &107.2 &9.263\n",
      "500.9 &116.7 &105.1 &10.97\n",
      "499.8 &116.3 &105.0 &11.39\n"
     ]
    }
   ],
   "source": [
    "with open('result/dbscan_real_timing/runtimeBFEcoli.npy', 'rb') as f:\n",
    "    runtime_brute = np.load(f).mean(axis=1)\n",
    "\n",
    "with open('result/dbscan_real_timing/runtimeKTEcoli.npy', 'rb') as f:\n",
    "    runtime_kt = np.load(f).mean(axis=1)\n",
    "\n",
    "with open('result/dbscan_real_timing/runtimeBTEcoli.npy', 'rb') as f:\n",
    "    runtime_bt = np.load(f).mean(axis=1)\n",
    "\n",
    "with open('result/dbscan_real_timing/runtimeSNNEcoli.npy', 'rb') as f:\n",
    "    runtime_snn = np.load(f).mean(axis=1)\n",
    "    \n",
    "T = np.vstack((runtime_brute, runtime_kt, runtime_bt, runtime_snn)).T\n",
    "print_sigificant_array(T[0])\n",
    "print_sigificant_array(T[1])\n",
    "print_sigificant_array(T[2])\n",
    "print_sigificant_array(T[3])\n",
    "print_sigificant_array(T[4])"
   ]
  },
  {
   "cell_type": "code",
   "execution_count": 6,
   "id": "smooth-charm",
   "metadata": {},
   "outputs": [
    {
     "name": "stdout",
     "output_type": "stream",
     "text": [
      "3497.0 &17290.0 &7685.0 &926.9\n",
      "3511.0 &17480.0 &7738.0 &954.1\n",
      "3300.0 &17490.0 &7727.0 &937.9\n",
      "3257.0 &17600.0 &7768.0 &975.2\n",
      "3499.0 &17570.0 &7734.0 &1065.0\n"
     ]
    }
   ],
   "source": [
    "with open('result/dbscan_real_timing/runtimeBFPhoneme.npy', 'rb') as f:\n",
    "    runtime_brute = np.load(f).mean(axis=1)\n",
    "\n",
    "with open('result/dbscan_real_timing/runtimeKTPhoneme.npy', 'rb') as f:\n",
    "    runtime_kt = np.load(f).mean(axis=1)\n",
    "\n",
    "with open('result/dbscan_real_timing/runtimeBTPhoneme.npy', 'rb') as f:\n",
    "    runtime_bt = np.load(f).mean(axis=1)\n",
    "\n",
    "with open('result/dbscan_real_timing/runtimeSNNPhoneme.npy', 'rb') as f:\n",
    "    runtime_snn = np.load(f).mean(axis=1)\n",
    "\n",
    "T = np.vstack((runtime_brute, runtime_kt, runtime_bt, runtime_snn)).T\n",
    "print_sigificant_array(T[0])\n",
    "print_sigificant_array(T[1])\n",
    "print_sigificant_array(T[2])\n",
    "print_sigificant_array(T[3])\n",
    "print_sigificant_array(T[4])"
   ]
  },
  {
   "cell_type": "code",
   "execution_count": 7,
   "id": "maritime-olive",
   "metadata": {},
   "outputs": [
    {
     "name": "stdout",
     "output_type": "stream",
     "text": [
      "73.37 &64.02 &56.7 &5.753\n",
      "64.65 &63.84 &56.29 &5.703\n",
      "66.91 &63.26 &55.74 &5.612\n",
      "67.29 &63.11 &56.34 &6.106\n",
      "67.12 &63.45 &56.25 &6.094\n"
     ]
    }
   ],
   "source": [
    "with open('result/dbscan_real_timing/runtimeBFWine.npy', 'rb') as f:\n",
    "    runtime_brute = np.load(f).mean(axis=1)\n",
    "\n",
    "with open('result/dbscan_real_timing/runtimeKTWine.npy', 'rb') as f:\n",
    "    runtime_kt = np.load(f).mean(axis=1)\n",
    "\n",
    "with open('result/dbscan_real_timing/runtimeBTWine.npy', 'rb') as f:\n",
    "    runtime_bt = np.load(f).mean(axis=1)\n",
    "\n",
    "with open('result/dbscan_real_timing/runtimeSNNWine.npy', 'rb') as f:\n",
    "    runtime_snn = np.load(f).mean(axis=1)\n",
    "    \n",
    "T = np.vstack((runtime_brute, runtime_kt, runtime_bt, runtime_snn)).T\n",
    "print_sigificant_array(T[0])\n",
    "print_sigificant_array(T[1])\n",
    "print_sigificant_array(T[2])\n",
    "print_sigificant_array(T[3])\n",
    "print_sigificant_array(T[4])"
   ]
  },
  {
   "cell_type": "code",
   "execution_count": null,
   "id": "legitimate-interpretation",
   "metadata": {},
   "outputs": [],
   "source": []
  },
  {
   "cell_type": "code",
   "execution_count": null,
   "id": "entertaining-irish",
   "metadata": {},
   "outputs": [],
   "source": []
  },
  {
   "cell_type": "code",
   "execution_count": null,
   "id": "613ecf79-c0b7-4b0a-a48f-ae77d86ea2fa",
   "metadata": {},
   "outputs": [],
   "source": []
  }
 ],
 "metadata": {
  "kernelspec": {
   "display_name": "Python 3 (ipykernel)",
   "language": "python",
   "name": "python3"
  },
  "language_info": {
   "codemirror_mode": {
    "name": "ipython",
    "version": 3
   },
   "file_extension": ".py",
   "mimetype": "text/x-python",
   "name": "python",
   "nbconvert_exporter": "python",
   "pygments_lexer": "ipython3",
   "version": "3.11.2"
  }
 },
 "nbformat": 4,
 "nbformat_minor": 5
}
