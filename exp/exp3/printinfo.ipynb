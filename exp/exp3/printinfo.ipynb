{
 "cells": [
  {
   "cell_type": "code",
   "execution_count": 1,
   "id": "operating-charles",
   "metadata": {},
   "outputs": [],
   "source": [
    "import math\n",
    "import numpy as np\n",
    "import matplotlib.pyplot as plt"
   ]
  },
  {
   "cell_type": "code",
   "execution_count": 2,
   "id": "russian-cricket",
   "metadata": {},
   "outputs": [],
   "source": [
    "def sigificant_digit(number, digits=4):\n",
    "    return round(number, digits - int(math.floor(math.log10(abs(number)))) - 1)\n",
    "\n",
    "\n",
    "def print_sigificant_array(arr):\n",
    "    for i in arr:\n",
    "        if i != arr[-1]:\n",
    "            print(str(sigificant_digit(1000*i)), end=' &')\n",
    "        else:\n",
    "            print(str(sigificant_digit(1000*i)))"
   ]
  },
  {
   "cell_type": "markdown",
   "id": "healthy-fiction",
   "metadata": {},
   "source": [
    "#### real world"
   ]
  },
  {
   "cell_type": "code",
   "execution_count": 3,
   "id": "centered-metropolitan",
   "metadata": {},
   "outputs": [
    {
     "name": "stdout",
     "output_type": "stream",
     "text": [
      "1069.0 &801.7 &826.4 &67.14\n",
      "1079.0 &795.7 &758.8 &94.85\n",
      "1009.0 &855.1 &817.6 &81.89\n",
      "1037.0 &841.8 &769.0 &76.29\n",
      "990.6 &784.6 &794.8 &49.37\n"
     ]
    }
   ],
   "source": [
    "with open('result/dbscan_real_timing/runtimeBFBanknote.npy', 'rb') as f:\n",
    "    runtime_brute = np.load(f)\n",
    "\n",
    "with open('result/dbscan_real_timing/runtimeKTBanknote.npy', 'rb') as f:\n",
    "    runtime_kt = np.load(f)\n",
    "\n",
    "with open('result/dbscan_real_timing/runtimeBTBanknote.npy', 'rb') as f:\n",
    "    runtime_bt = np.load(f)\n",
    "\n",
    "with open('result/dbscan_real_timing/runtimeSNNBanknote.npy', 'rb') as f:\n",
    "    runtime_snn = np.load(f)\n",
    "    \n",
    "T = np.vstack((runtime_brute, runtime_kt, runtime_bt, runtime_snn)).T\n",
    "print_sigificant_array(T[0])\n",
    "print_sigificant_array(T[1])\n",
    "print_sigificant_array(T[2])\n",
    "print_sigificant_array(T[3])\n",
    "print_sigificant_array(T[4])"
   ]
  },
  {
   "cell_type": "code",
   "execution_count": 4,
   "id": "searching-tower",
   "metadata": {},
   "outputs": [
    {
     "name": "stdout",
     "output_type": "stream",
     "text": [
      "1206.0 &223.4 &200.9 &42.57\n",
      "1238.0 &222.9 &206.2 &44.43\n",
      "1240.0 &224.1 &200.7 &44.87\n",
      "1279.0 &225.8 &252.2 &15.21\n",
      "1250.0 &252.3 &216.1 &16.12\n"
     ]
    }
   ],
   "source": [
    "with open('result/dbscan_real_timing/runtimeBFDermatology.npy', 'rb') as f:\n",
    "    runtime_brute = np.load(f)\n",
    "\n",
    "with open('result/dbscan_real_timing/runtimeKTDermatology.npy', 'rb') as f:\n",
    "    runtime_kt = np.load(f)\n",
    "\n",
    "with open('result/dbscan_real_timing/runtimeBTDermatology.npy', 'rb') as f:\n",
    "    runtime_bt = np.load(f)\n",
    "\n",
    "with open('result/dbscan_real_timing/runtimeSNNDermatology.npy', 'rb') as f:\n",
    "    runtime_snn = np.load(f)\n",
    "    \n",
    "    \n",
    "T = np.vstack((runtime_brute, runtime_kt, runtime_bt, runtime_snn)).T\n",
    "print_sigificant_array(T[0])\n",
    "print_sigificant_array(T[1])\n",
    "print_sigificant_array(T[2])\n",
    "print_sigificant_array(T[3])\n",
    "print_sigificant_array(T[4])"
   ]
  },
  {
   "cell_type": "code",
   "execution_count": 5,
   "id": "preceding-cursor",
   "metadata": {},
   "outputs": [
    {
     "name": "stdout",
     "output_type": "stream",
     "text": [
      "123.8 &109.5 &107.2 &8.1\n",
      "127.0 &114.0 &108.9 &7.818\n",
      "123.2 &115.4 &113.5 &8.056\n",
      "126.0 &109.9 &109.1 &9.799\n",
      "124.9 &110.1 &107.8 &10.8\n"
     ]
    }
   ],
   "source": [
    "with open('result/dbscan_real_timing/runtimeBFEcoli.npy', 'rb') as f:\n",
    "    runtime_brute = np.load(f)\n",
    "\n",
    "with open('result/dbscan_real_timing/runtimeKTEcoli.npy', 'rb') as f:\n",
    "    runtime_kt = np.load(f)\n",
    "\n",
    "with open('result/dbscan_real_timing/runtimeBTEcoli.npy', 'rb') as f:\n",
    "    runtime_bt = np.load(f)\n",
    "\n",
    "with open('result/dbscan_real_timing/runtimeSNNEcoli.npy', 'rb') as f:\n",
    "    runtime_snn = np.load(f)\n",
    "    \n",
    "T = np.vstack((runtime_brute, runtime_kt, runtime_bt, runtime_snn)).T\n",
    "print_sigificant_array(T[0])\n",
    "print_sigificant_array(T[1])\n",
    "print_sigificant_array(T[2])\n",
    "print_sigificant_array(T[3])\n",
    "print_sigificant_array(T[4])"
   ]
  },
  {
   "cell_type": "code",
   "execution_count": 6,
   "id": "smooth-charm",
   "metadata": {},
   "outputs": [
    {
     "name": "stdout",
     "output_type": "stream",
     "text": [
      "21530.0 &30560.0 &15420.0 &1952.0\n",
      "21690.0 &30750.0 &15560.0 &1930.0\n",
      "21670.0 &30810.0 &15700.0 &1814.0\n",
      "21550.0 &30950.0 &15770.0 &1880.0\n",
      "21590.0 &31160.0 &15930.0 &1955.0\n"
     ]
    }
   ],
   "source": [
    "with open('result/dbscan_real_timing/runtimeBFPhoneme.npy', 'rb') as f:\n",
    "    runtime_brute = np.load(f)\n",
    "\n",
    "with open('result/dbscan_real_timing/runtimeKTPhoneme.npy', 'rb') as f:\n",
    "    runtime_kt = np.load(f)\n",
    "\n",
    "with open('result/dbscan_real_timing/runtimeBTPhoneme.npy', 'rb') as f:\n",
    "    runtime_bt = np.load(f)\n",
    "\n",
    "with open('result/dbscan_real_timing/runtimeSNNPhoneme.npy', 'rb') as f:\n",
    "    runtime_snn = np.load(f)\n",
    "\n",
    "T = np.vstack((runtime_brute, runtime_kt, runtime_bt, runtime_snn)).T\n",
    "print_sigificant_array(T[0])\n",
    "print_sigificant_array(T[1])\n",
    "print_sigificant_array(T[2])\n",
    "print_sigificant_array(T[3])\n",
    "print_sigificant_array(T[4])"
   ]
  },
  {
   "cell_type": "code",
   "execution_count": 7,
   "id": "maritime-olive",
   "metadata": {},
   "outputs": [
    {
     "name": "stdout",
     "output_type": "stream",
     "text": [
      "97.27 &89.78 &87.16 &7.641\n",
      "97.38 &90.03 &87.96 &7.514\n",
      "94.76 &86.98 &63.6 &18.04\n",
      "95.82 &66.65 &85.47 &6.083\n",
      "96.04 &88.69 &88.0 &7.496\n"
     ]
    }
   ],
   "source": [
    "with open('result/dbscan_real_timing/runtimeBFWine.npy', 'rb') as f:\n",
    "    runtime_brute = np.load(f)\n",
    "\n",
    "with open('result/dbscan_real_timing/runtimeKTWine.npy', 'rb') as f:\n",
    "    runtime_kt = np.load(f)\n",
    "\n",
    "with open('result/dbscan_real_timing/runtimeBTWine.npy', 'rb') as f:\n",
    "    runtime_bt = np.load(f)\n",
    "\n",
    "with open('result/dbscan_real_timing/runtimeSNNWine.npy', 'rb') as f:\n",
    "    runtime_snn = np.load(f)\n",
    "    \n",
    "T = np.vstack((runtime_brute, runtime_kt, runtime_bt, runtime_snn)).T\n",
    "print_sigificant_array(T[0])\n",
    "print_sigificant_array(T[1])\n",
    "print_sigificant_array(T[2])\n",
    "print_sigificant_array(T[3])\n",
    "print_sigificant_array(T[4])"
   ]
  },
  {
   "cell_type": "code",
   "execution_count": null,
   "id": "legitimate-interpretation",
   "metadata": {},
   "outputs": [],
   "source": []
  },
  {
   "cell_type": "code",
   "execution_count": null,
   "id": "entertaining-irish",
   "metadata": {},
   "outputs": [],
   "source": []
  }
 ],
 "metadata": {
  "kernelspec": {
   "display_name": "Python 3",
   "language": "python",
   "name": "python3"
  },
  "language_info": {
   "codemirror_mode": {
    "name": "ipython",
    "version": 3
   },
   "file_extension": ".py",
   "mimetype": "text/x-python",
   "name": "python",
   "nbconvert_exporter": "python",
   "pygments_lexer": "ipython3",
   "version": "3.9.2"
  }
 },
 "nbformat": 4,
 "nbformat_minor": 5
}
