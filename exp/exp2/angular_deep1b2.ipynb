{
 "cells": [
  {
   "cell_type": "code",
   "execution_count": 1,
   "id": "shared-witch",
   "metadata": {},
   "outputs": [],
   "source": [
    "import time\n",
    "import numpy as np\n",
    "from snnpy import *\n",
    "from sklearn.preprocessing import Normalizer\n",
    "from bf_search import *"
   ]
  },
  {
   "cell_type": "markdown",
   "id": "transsexual-berry",
   "metadata": {},
   "source": [
    "### deep\n"
   ]
  },
  {
   "cell_type": "code",
   "execution_count": 2,
   "id": "legislative-possibility",
   "metadata": {},
   "outputs": [],
   "source": [
    "deep_train = np.load(\"Angular_data/deep/train.npy\")\n",
    "deep_query = np.load(\"Angular_data/deep/queries.npy\")\n",
    "\n",
    "deep_bf_run_timing2 = list()"
   ]
  },
  {
   "cell_type": "code",
   "execution_count": 3,
   "id": "christian-andorra",
   "metadata": {},
   "outputs": [],
   "source": [
    "transformer = Normalizer().fit(deep_train)\n",
    "deep_train = transformer.transform(deep_train)\n",
    "deep_query = transformer.transform(deep_query)\n"
   ]
  },
  {
   "cell_type": "code",
   "execution_count": 4,
   "id": "thrown-alpha",
   "metadata": {},
   "outputs": [],
   "source": [
    "radius =  np.array([0.22, 0.24, 0.26, 0.28, 0.30])*np.pi # test various radius"
   ]
  },
  {
   "cell_type": "code",
   "execution_count": 5,
   "id": "empirical-hobby",
   "metadata": {},
   "outputs": [],
   "source": [
    "\n",
    "# Brute force 2\n",
    "def run_bf2(deep_bf_run_timing2):\n",
    "    for R in radius:\n",
    "        st = time.time()\n",
    "        for j in range(deep_query.shape[0]): \n",
    "            ind = bf_radius_fairness(deep_query[j], deep_train, R, return_distance=False)\n",
    "        et = time.time() - st\n",
    "        deep_bf_run_timing2.append(et)\n",
    "        print(\"radius=\", R, \", brute force 2 query time:\", et)\n",
    "\n",
    "    "
   ]
  },
  {
   "cell_type": "code",
   "execution_count": 6,
   "id": "sized-formation",
   "metadata": {},
   "outputs": [
    {
     "name": "stdout",
     "output_type": "stream",
     "text": [
      "radius= 0.6911503837897545 , brute force 2 query time: 10793.526621103287\n",
      "radius= 0.7539822368615503 , brute force 2 query time: 10645.19351363182\n",
      "radius= 0.8168140899333463 , brute force 2 query time: 10822.002062559128\n",
      "radius= 0.8796459430051422 , brute force 2 query time: 10801.719715595245\n",
      "radius= 0.9424777960769379 , brute force 2 query time: 10840.803371667862\n"
     ]
    }
   ],
   "source": [
    "run_bf2(deep_bf_run_timing2)\n",
    "\n",
    "with open('result/deep_bf_run_timing2_norm.npy', 'wb') as f:\n",
    "    np.save(f, np.array(deep_bf_run_timing2))\n",
    "    "
   ]
  },
  {
   "cell_type": "code",
   "execution_count": null,
   "id": "electrical-acrylic",
   "metadata": {},
   "outputs": [],
   "source": []
  },
  {
   "cell_type": "code",
   "execution_count": null,
   "id": "prompt-universe",
   "metadata": {},
   "outputs": [],
   "source": []
  },
  {
   "cell_type": "code",
   "execution_count": null,
   "id": "durable-lying",
   "metadata": {},
   "outputs": [],
   "source": []
  },
  {
   "cell_type": "code",
   "execution_count": null,
   "id": "purple-eclipse",
   "metadata": {},
   "outputs": [],
   "source": []
  },
  {
   "cell_type": "code",
   "execution_count": null,
   "id": "czech-screw",
   "metadata": {},
   "outputs": [],
   "source": []
  },
  {
   "cell_type": "code",
   "execution_count": null,
   "id": "veterinary-ribbon",
   "metadata": {},
   "outputs": [],
   "source": []
  }
 ],
 "metadata": {
  "kernelspec": {
   "display_name": "Python 3 (ipykernel)",
   "language": "python",
   "name": "python3"
  },
  "language_info": {
   "codemirror_mode": {
    "name": "ipython",
    "version": 3
   },
   "file_extension": ".py",
   "mimetype": "text/x-python",
   "name": "python",
   "nbconvert_exporter": "python",
   "pygments_lexer": "ipython3",
   "version": "3.9.12"
  }
 },
 "nbformat": 4,
 "nbformat_minor": 5
}
