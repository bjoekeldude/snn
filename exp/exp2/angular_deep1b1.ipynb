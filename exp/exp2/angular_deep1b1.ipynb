{
 "cells": [
  {
   "cell_type": "code",
   "execution_count": 1,
   "id": "specialized-delivery",
   "metadata": {},
   "outputs": [],
   "source": [
    "import time\n",
    "import numpy as np\n",
    "from snnpy import *\n",
    "from sklearn.preprocessing import Normalizer\n",
    "from sklearn.neighbors import NearestNeighbors\n",
    "from bf_search import *"
   ]
  },
  {
   "cell_type": "markdown",
   "id": "delayed-disclosure",
   "metadata": {},
   "source": [
    "### deep\n"
   ]
  },
  {
   "cell_type": "code",
   "execution_count": 2,
   "id": "boolean-delicious",
   "metadata": {},
   "outputs": [],
   "source": [
    "deep_train = np.load(\"Angular_data/deep/train.npy\")\n",
    "deep_query = np.load(\"Angular_data/deep/queries.npy\")\n",
    "\n",
    "deep_bf_run_timing1 = list()"
   ]
  },
  {
   "cell_type": "code",
   "execution_count": 3,
   "id": "vulnerable-event",
   "metadata": {},
   "outputs": [],
   "source": [
    "transformer = Normalizer().fit(deep_train)\n",
    "deep_train = transformer.transform(deep_train)\n",
    "deep_query = transformer.transform(deep_query)"
   ]
  },
  {
   "cell_type": "code",
   "execution_count": 4,
   "id": "cosmetic-poverty",
   "metadata": {},
   "outputs": [],
   "source": [
    "radius = np.array([0.22, 0.24, 0.26, 0.28, 0.30])*np.pi # test various radius"
   ]
  },
  {
   "cell_type": "code",
   "execution_count": 5,
   "id": "incoming-tampa",
   "metadata": {
    "tags": []
   },
   "outputs": [],
   "source": [
    "# Brute force 1\n",
    "def run_bf1(deep_bf_run_timing1):\n",
    "    for R in radius:\n",
    "        st = time.time()\n",
    "        neigh = NearestNeighbors(radius=R, algorithm='brute')\n",
    "        neigh.fit(deep_train)\n",
    "        for j in range(deep_query.shape[0]): \n",
    "            ind = neigh.radius_neighbors(\n",
    "               deep_query[j:j+1], radius=R, return_distance=False\n",
    "            )\n",
    "        et = time.time() - st\n",
    "        deep_bf_run_timing1.append(et)\n",
    "        print(\"radius=\", R, \", brute force 1 query time:\", et)\n",
    "\n",
    "    \n"
   ]
  },
  {
   "cell_type": "code",
   "execution_count": 6,
   "id": "collect-pride",
   "metadata": {
    "tags": []
   },
   "outputs": [
    {
     "name": "stdout",
     "output_type": "stream",
     "text": [
      "radius= 0.6911503837897545 , brute force 1 query time: 42805.47986292839\n",
      "radius= 0.7539822368615503 , brute force 1 query time: 42286.67800140381\n",
      "radius= 0.8168140899333463 , brute force 1 query time: 42024.06650018692\n",
      "radius= 0.8796459430051422 , brute force 1 query time: 42298.47245001793\n",
      "radius= 0.9424777960769379 , brute force 1 query time: 42735.69137120247\n"
     ]
    }
   ],
   "source": [
    "run_bf1(deep_bf_run_timing1)\n",
    "\n",
    "with open('result/deep_bf_run_timing1_norm.npy', 'wb') as f:\n",
    "    np.save(f, np.array(deep_bf_run_timing1))"
   ]
  },
  {
   "cell_type": "code",
   "execution_count": null,
   "id": "found-history",
   "metadata": {},
   "outputs": [],
   "source": []
  },
  {
   "cell_type": "code",
   "execution_count": null,
   "id": "persistent-kelly",
   "metadata": {},
   "outputs": [],
   "source": []
  },
  {
   "cell_type": "code",
   "execution_count": null,
   "id": "pretty-radius",
   "metadata": {},
   "outputs": [],
   "source": []
  },
  {
   "cell_type": "code",
   "execution_count": null,
   "id": "modified-grant",
   "metadata": {},
   "outputs": [],
   "source": []
  },
  {
   "cell_type": "code",
   "execution_count": null,
   "id": "tamil-composer",
   "metadata": {},
   "outputs": [],
   "source": []
  },
  {
   "cell_type": "code",
   "execution_count": null,
   "id": "rotary-murder",
   "metadata": {},
   "outputs": [],
   "source": []
  }
 ],
 "metadata": {
  "kernelspec": {
   "display_name": "Python 3 (ipykernel)",
   "language": "python",
   "name": "python3"
  },
  "language_info": {
   "codemirror_mode": {
    "name": "ipython",
    "version": 3
   },
   "file_extension": ".py",
   "mimetype": "text/x-python",
   "name": "python",
   "nbconvert_exporter": "python",
   "pygments_lexer": "ipython3",
   "version": "3.9.12"
  }
 },
 "nbformat": 4,
 "nbformat_minor": 5
}
