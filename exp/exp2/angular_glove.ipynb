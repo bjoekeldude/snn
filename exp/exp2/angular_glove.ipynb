{
 "cells": [
  {
   "cell_type": "code",
   "execution_count": 1,
   "id": "fourth-spiritual",
   "metadata": {},
   "outputs": [],
   "source": [
    "import time\n",
    "import numpy as np\n",
    "from snnpy import *\n",
    "from sklearn.preprocessing import Normalizer\n",
    "from sklearn.neighbors import BallTree\n",
    "from sklearn.neighbors import NearestNeighbors\n",
    "from sklearn.neighbors import KDTree\n",
    "from bf_search import *"
   ]
  },
  {
   "cell_type": "markdown",
   "id": "revolutionary-balance",
   "metadata": {},
   "source": [
    "### glove"
   ]
  },
  {
   "cell_type": "code",
   "execution_count": 2,
   "id": "split-arkansas",
   "metadata": {},
   "outputs": [],
   "source": [
    "glo_train = np.load(\"Angular_data/glove/train.npy\")\n",
    "glo_query = np.load(\"Angular_data/glove/queries.npy\")\n",
    "\n",
    "\n",
    "glo_kdtree_index_timing = list()\n",
    "glo_balltree_index_timing = list()\n",
    "glo_snn_index_timing = list()\n",
    "\n",
    "glo_bf_run_timing1 = list()\n",
    "glo_bf_run_timing2 = list()\n",
    "glo_kdtree_run_timing = list()\n",
    "glo_balltree_run_timing = list()\n",
    "glo_snn_run_timing = list()\n"
   ]
  },
  {
   "cell_type": "code",
   "execution_count": 3,
   "id": "stone-concrete",
   "metadata": {},
   "outputs": [],
   "source": [
    "transformer = Normalizer().fit(glo_train)\n",
    "glo_train = transformer.transform(glo_train)\n",
    "glo_query = transformer.transform(glo_query)\n"
   ]
  },
  {
   "cell_type": "code",
   "execution_count": 4,
   "id": "final-christopher",
   "metadata": {},
   "outputs": [],
   "source": [
    "radius = np.array([0.3, 0.31, 0.32, 0.33, 0.34])*np.pi # test various radius"
   ]
  },
  {
   "cell_type": "code",
   "execution_count": 5,
   "id": "harmful-lying",
   "metadata": {},
   "outputs": [
    {
     "name": "stdout",
     "output_type": "stream",
     "text": [
      "brute force 1 query time: 5169.211848974228\n",
      "brute force 1 query time: 5140.920110702515\n",
      "brute force 1 query time: 5147.184922456741\n",
      "brute force 1 query time: 5201.149308681488\n",
      "brute force 1 query time: 5220.306466817856\n",
      "\n",
      "brute force 2 query time: 1272.5856957435608\n",
      "brute force 2 query time: 1268.7173070907593\n",
      "brute force 2 query time: 1267.8216750621796\n",
      "brute force 2 query time: 1265.3503448963165\n",
      "brute force 2 query time: 1278.3153648376465\n",
      "\n",
      "kdtree index time: 41.20866847038269\n",
      "kdtree query time: 6715.308529138565\n",
      "kdtree query time: 6732.466593742371\n",
      "kdtree query time: 6705.652412414551\n",
      "kdtree query time: 6748.568563699722\n",
      "kdtree query time: 6745.901397943497\n",
      "\n",
      "ball tree index time: 39.80410122871399\n",
      "ball tree query time: 5674.9054915905\n",
      "ball tree query time: 5617.704619169235\n",
      "ball tree query time: 5648.804111242294\n",
      "ball tree query time: 5609.530064821243\n",
      "ball tree query time: 5621.5708796978\n",
      "\n",
      "snn index time: 1.5493049621582031\n",
      "snn query time: 783.789053440094\n",
      "snn query time: 794.7009840011597\n",
      "snn query time: 768.3217673301697\n",
      "snn query time: 772.7072911262512\n",
      "snn query time: 770.0340712070465\n"
     ]
    }
   ],
   "source": [
    "# Brute force 1\n",
    "for R in radius:\n",
    "    st = time.time()\n",
    "    neigh = NearestNeighbors(radius=R, algorithm='brute')\n",
    "    neigh.fit(glo_train)\n",
    "    for j in range(glo_query.shape[0]): \n",
    "        ind = neigh.radius_neighbors(\n",
    "           glo_query[j:j+1], radius=R, return_distance=False\n",
    "        )\n",
    "    et = time.time() - st\n",
    "    glo_bf_run_timing1.append(et)\n",
    "    print(\"brute force 1 query time:\", et)\n",
    "print()\n",
    "\n",
    "# Brute force 2\n",
    "for R in radius:\n",
    "    st = time.time()\n",
    "    for j in range(glo_query.shape[0]): \n",
    "        ind = bf_radius_fairness(glo_query[j], glo_train, R, return_distance=False)\n",
    "    et = time.time() - st\n",
    "    glo_bf_run_timing2.append(et)\n",
    "    print(\"brute force 2 query time:\", et)\n",
    "print()\n",
    "\n",
    "\n",
    "    \n",
    "# KDtree\n",
    "st = time.time()\n",
    "tree = KDTree(glo_train)   \n",
    "et = time.time() - st\n",
    "glo_kdtree_index_timing.append(et)\n",
    "print(\"kdtree index time:\", et)\n",
    "    \n",
    "for R in radius:\n",
    "    st = time.time()\n",
    "    for j in range(glo_query.shape[0]): \n",
    "        ind = tree.query_radius(glo_query[j:j+1], r=R, return_distance=False)\n",
    "    et = time.time() - st\n",
    "    glo_kdtree_run_timing.append(et)\n",
    "    print(\"kdtree query time:\", et)\n",
    "print()\n",
    "\n",
    "\n",
    "# Balltree\n",
    "st = time.time()\n",
    "tree = BallTree(glo_train)   \n",
    "et = time.time() - st\n",
    "glo_balltree_index_timing.append(et)\n",
    "print(\"ball tree index time:\", et)\n",
    "\n",
    "for R in radius:\n",
    "    st = time.time()\n",
    "    for j in range(glo_query.shape[0]): \n",
    "        ind = tree.query_radius(glo_query[j:j+1], r=R, return_distance=False)\n",
    "    et = time.time() - st\n",
    "    glo_balltree_run_timing.append(et)\n",
    "    print(\"ball tree query time:\", et)\n",
    "print()\n",
    "\n",
    "# SNN\n",
    "st = time.time()\n",
    "snn = build_snn_model(glo_train)\n",
    "et = time.time() - st\n",
    "glo_snn_index_timing.append(et)\n",
    "print(\"snn index time:\", et)\n",
    "\n",
    "\n",
    "for R in radius:\n",
    "    st = time.time()\n",
    "    for j in range(glo_query.shape[0]): \n",
    "        ind = snn.query_radius(glo_query[j], R)\n",
    "    et = time.time() - st\n",
    "    glo_snn_run_timing.append(et)\n",
    "    print(\"snn query time:\", et)"
   ]
  },
  {
   "cell_type": "code",
   "execution_count": 6,
   "id": "cooperative-layout",
   "metadata": {},
   "outputs": [],
   "source": [
    "with open('result/glo_kdtree_index_timing_norm.npy', 'wb') as f:\n",
    "    np.save(f, np.array(glo_kdtree_index_timing))\n",
    "\n",
    "with open('result/glo_balltree_index_timing_norm.npy', 'wb') as f:\n",
    "    np.save(f, np.array(glo_balltree_index_timing))\n",
    "\n",
    "with open('result/glo_snn_index_timing_norm.npy', 'wb') as f:\n",
    "    np.save(f, np.array(glo_snn_index_timing))\n",
    "\n",
    "with open('result/glo_bf_run_timing1_norm.npy', 'wb') as f:\n",
    "    np.save(f, np.array(glo_bf_run_timing1))\n",
    "    \n",
    "with open('result/glo_bf_run_timing2_norm.npy', 'wb') as f:\n",
    "    np.save(f, np.array(glo_bf_run_timing2))\n",
    "    \n",
    "with open('result/glo_kdtree_run_timing_norm.npy', 'wb') as f:\n",
    "    np.save(f, np.array(glo_kdtree_run_timing))\n",
    "\n",
    "with open('result/glo_balltree_run_timing_norm.npy', 'wb') as f:\n",
    "    np.save(f, np.array(glo_balltree_run_timing))\n",
    "\n",
    "with open('result/glo_snn_run_timing_norm.npy', 'wb') as f:\n",
    "    np.save(f, np.array(glo_snn_run_timing))\n",
    "    \n"
   ]
  },
  {
   "cell_type": "code",
   "execution_count": null,
   "id": "extra-retrieval",
   "metadata": {},
   "outputs": [],
   "source": []
  },
  {
   "cell_type": "code",
   "execution_count": null,
   "id": "alive-legend",
   "metadata": {},
   "outputs": [],
   "source": []
  },
  {
   "cell_type": "code",
   "execution_count": null,
   "id": "furnished-landscape",
   "metadata": {},
   "outputs": [],
   "source": []
  },
  {
   "cell_type": "code",
   "execution_count": null,
   "id": "cheap-variable",
   "metadata": {},
   "outputs": [],
   "source": []
  },
  {
   "cell_type": "code",
   "execution_count": null,
   "id": "incoming-financing",
   "metadata": {},
   "outputs": [],
   "source": []
  }
 ],
 "metadata": {
  "kernelspec": {
   "display_name": "Python 3 (ipykernel)",
   "language": "python",
   "name": "python3"
  },
  "language_info": {
   "codemirror_mode": {
    "name": "ipython",
    "version": 3
   },
   "file_extension": ".py",
   "mimetype": "text/x-python",
   "name": "python",
   "nbconvert_exporter": "python",
   "pygments_lexer": "ipython3",
   "version": "3.9.12"
  }
 },
 "nbformat": 4,
 "nbformat_minor": 5
}
