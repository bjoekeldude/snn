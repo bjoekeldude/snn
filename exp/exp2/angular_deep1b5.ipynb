{
 "cells": [
  {
   "cell_type": "code",
   "execution_count": 1,
   "id": "intimate-profile",
   "metadata": {},
   "outputs": [],
   "source": [
    "import time\n",
    "import numpy as np\n",
    "from snnpy import *\n",
    "from sklearn.preprocessing import Normalizer\n",
    "from bf_search import *"
   ]
  },
  {
   "cell_type": "markdown",
   "id": "sunrise-subject",
   "metadata": {},
   "source": [
    "### deep\n"
   ]
  },
  {
   "cell_type": "code",
   "execution_count": 2,
   "id": "revised-healthcare",
   "metadata": {},
   "outputs": [],
   "source": [
    "deep_train = np.load(\"Angular_data/deep/train.npy\")\n",
    "deep_query = np.load(\"Angular_data/deep/queries.npy\")\n",
    "\n",
    "deep_snn_index_timing = list()\n",
    "deep_snn_run_timing = list()"
   ]
  },
  {
   "cell_type": "code",
   "execution_count": 3,
   "id": "superb-stopping",
   "metadata": {},
   "outputs": [],
   "source": [
    "transformer = Normalizer().fit(deep_train)\n",
    "deep_train = transformer.transform(deep_train)\n",
    "deep_query = transformer.transform(deep_query)\n"
   ]
  },
  {
   "cell_type": "code",
   "execution_count": 4,
   "id": "imposed-serbia",
   "metadata": {},
   "outputs": [],
   "source": [
    "radius = np.array([0.22, 0.24, 0.26, 0.28, 0.30])*np.pi # test various radius"
   ]
  },
  {
   "cell_type": "code",
   "execution_count": 5,
   "id": "earned-distributor",
   "metadata": {},
   "outputs": [],
   "source": [
    "# SNN\n",
    "def run_snn(deep_snn_index_timing, deep_snn_run_timing):\n",
    "    st = time.time()\n",
    "    snn = build_snn_model(deep_train)\n",
    "    et = time.time() - st\n",
    "    deep_snn_index_timing.append(et)\n",
    "    print(\"snn build time:\", et)\n",
    "    \n",
    "    for R in radius:\n",
    "        st = time.time()\n",
    "        for j in range(deep_query.shape[0]):\n",
    "            ind = snn.query_radius(deep_query[j], R)\n",
    "        et = time.time() - st\n",
    "        deep_snn_run_timing.append(et)\n",
    "        print(\"radius=\", R, \"snn query time:\", et)"
   ]
  },
  {
   "cell_type": "code",
   "execution_count": 6,
   "id": "killing-competition",
   "metadata": {},
   "outputs": [
    {
     "name": "stdout",
     "output_type": "stream",
     "text": [
      "snn build time: 14.726911544799805\n",
      "radius= 0.6911503837897545 snn query time: 8030.32670378685\n",
      "radius= 0.7539822368615503 snn query time: 7047.794796943665\n",
      "radius= 0.8168140899333463 snn query time: 7198.956505060196\n",
      "radius= 0.8796459430051422 snn query time: 7342.696977376938\n",
      "radius= 0.9424777960769379 snn query time: 7230.90253162384\n"
     ]
    }
   ],
   "source": [
    "run_snn(deep_snn_index_timing, deep_snn_run_timing)\n",
    "\n",
    "\n",
    "with open('result/deep_snn_index_timing_norm.npy', 'wb') as f:\n",
    "    np.save(f, np.array(deep_snn_index_timing))\n",
    "    \n",
    "with open('result/deep_snn_run_timing_norm.npy', 'wb') as f:\n",
    "    np.save(f, np.array(deep_snn_run_timing))\n",
    "    "
   ]
  },
  {
   "cell_type": "code",
   "execution_count": null,
   "id": "considered-alignment",
   "metadata": {},
   "outputs": [],
   "source": []
  },
  {
   "cell_type": "code",
   "execution_count": null,
   "id": "lyric-outline",
   "metadata": {},
   "outputs": [],
   "source": []
  },
  {
   "cell_type": "code",
   "execution_count": null,
   "id": "signed-selection",
   "metadata": {},
   "outputs": [],
   "source": []
  },
  {
   "cell_type": "code",
   "execution_count": null,
   "id": "north-telescope",
   "metadata": {},
   "outputs": [],
   "source": []
  },
  {
   "cell_type": "code",
   "execution_count": null,
   "id": "listed-programming",
   "metadata": {},
   "outputs": [],
   "source": []
  },
  {
   "cell_type": "code",
   "execution_count": null,
   "id": "excited-hobby",
   "metadata": {},
   "outputs": [],
   "source": []
  }
 ],
 "metadata": {
  "kernelspec": {
   "display_name": "Python 3 (ipykernel)",
   "language": "python",
   "name": "python3"
  },
  "language_info": {
   "codemirror_mode": {
    "name": "ipython",
    "version": 3
   },
   "file_extension": ".py",
   "mimetype": "text/x-python",
   "name": "python",
   "nbconvert_exporter": "python",
   "pygments_lexer": "ipython3",
   "version": "3.9.12"
  }
 },
 "nbformat": 4,
 "nbformat_minor": 5
}
