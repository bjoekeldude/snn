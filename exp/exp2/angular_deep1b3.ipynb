{
 "cells": [
  {
   "cell_type": "code",
   "execution_count": 1,
   "id": "automated-august",
   "metadata": {},
   "outputs": [],
   "source": [
    "import time\n",
    "import numpy as np\n",
    "from snnpy import *\n",
    "from sklearn.preprocessing import Normalizer\n",
    "\n",
    "from sklearn.neighbors import KDTree\n",
    "from bf_search import *"
   ]
  },
  {
   "cell_type": "markdown",
   "id": "documented-drain",
   "metadata": {},
   "source": [
    "### deep\n"
   ]
  },
  {
   "cell_type": "code",
   "execution_count": 2,
   "id": "downtown-studio",
   "metadata": {},
   "outputs": [],
   "source": [
    "deep_train = np.load(\"Angular_data/deep/train.npy\")\n",
    "deep_query = np.load(\"Angular_data/deep/queries.npy\")\n",
    "\n",
    "\n",
    "deep_kdtree_index_timing = list()\n",
    "deep_kdtree_run_timing = list()"
   ]
  },
  {
   "cell_type": "code",
   "execution_count": 3,
   "id": "considered-adolescent",
   "metadata": {},
   "outputs": [],
   "source": [
    "transformer = Normalizer().fit(deep_train)\n",
    "deep_train = transformer.transform(deep_train)\n",
    "deep_query = transformer.transform(deep_query)\n"
   ]
  },
  {
   "cell_type": "code",
   "execution_count": 4,
   "id": "monetary-giving",
   "metadata": {},
   "outputs": [],
   "source": [
    "radius = np.array([0.22, 0.24, 0.26, 0.28, 0.30])*np.pi # test various radius"
   ]
  },
  {
   "cell_type": "code",
   "execution_count": 5,
   "id": "respected-newman",
   "metadata": {},
   "outputs": [],
   "source": [
    "# KDtree\n",
    "def run_kd(deep_kdtree_index_timing, deep_kdtree_run_timing):\n",
    "    st = time.time()\n",
    "    tree = KDTree(deep_train)   \n",
    "    et = time.time() - st\n",
    "    deep_kdtree_index_timing.append(et)\n",
    "    print(\"kdtree build time:\", et)\n",
    "    for R in radius:\n",
    "        st = time.time()\n",
    "        for j in range(deep_query.shape[0]):\n",
    "            ind = tree.query_radius(deep_query[j:j+1], r=R, return_distance=False)\n",
    "        et = time.time() - st\n",
    "        deep_kdtree_run_timing.append(et)\n",
    "        print(\"radius=\", R, \", kdtree query time:\", et)\n"
   ]
  },
  {
   "cell_type": "code",
   "execution_count": 6,
   "id": "metric-hobby",
   "metadata": {},
   "outputs": [
    {
     "name": "stdout",
     "output_type": "stream",
     "text": [
      "kdtree build time: 445.9968464374542\n",
      "radius= 0.6911503837897545 , kdtree query time: 57107.785153865814\n",
      "radius= 0.7539822368615503 , kdtree query time: 56768.77589035034\n",
      "radius= 0.8168140899333463 , kdtree query time: 57317.84131908417\n",
      "radius= 0.8796459430051422 , kdtree query time: 57647.738706827164\n",
      "radius= 0.9424777960769379 , kdtree query time: 56441.31376838684\n"
     ]
    }
   ],
   "source": [
    "run_kd(deep_kdtree_index_timing, deep_kdtree_run_timing)\n",
    "\n",
    "with open('result/deep_kdtree_index_timing_norm.npy', 'wb') as f:\n",
    "    np.save(f, np.array(deep_kdtree_index_timing))\n",
    "    \n",
    "with open('result/deep_kdtree_run_timing_norm.npy', 'wb') as f:\n",
    "    np.save(f, np.array(deep_kdtree_run_timing))"
   ]
  },
  {
   "cell_type": "code",
   "execution_count": null,
   "id": "loving-manchester",
   "metadata": {},
   "outputs": [],
   "source": []
  },
  {
   "cell_type": "code",
   "execution_count": null,
   "id": "after-alabama",
   "metadata": {},
   "outputs": [],
   "source": []
  },
  {
   "cell_type": "code",
   "execution_count": null,
   "id": "logical-serbia",
   "metadata": {},
   "outputs": [],
   "source": []
  },
  {
   "cell_type": "code",
   "execution_count": null,
   "id": "colonial-escape",
   "metadata": {},
   "outputs": [],
   "source": []
  },
  {
   "cell_type": "code",
   "execution_count": null,
   "id": "essential-florida",
   "metadata": {},
   "outputs": [],
   "source": []
  }
 ],
 "metadata": {
  "kernelspec": {
   "display_name": "Python 3 (ipykernel)",
   "language": "python",
   "name": "python3"
  },
  "language_info": {
   "codemirror_mode": {
    "name": "ipython",
    "version": 3
   },
   "file_extension": ".py",
   "mimetype": "text/x-python",
   "name": "python",
   "nbconvert_exporter": "python",
   "pygments_lexer": "ipython3",
   "version": "3.9.12"
  }
 },
 "nbformat": 4,
 "nbformat_minor": 5
}
