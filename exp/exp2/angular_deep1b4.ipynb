{
 "cells": [
  {
   "cell_type": "code",
   "execution_count": 1,
   "id": "collaborative-museum",
   "metadata": {},
   "outputs": [],
   "source": [
    "import time\n",
    "import numpy as np\n",
    "from snnpy import *\n",
    "from sklearn.preprocessing import Normalizer\n",
    "from sklearn.neighbors import BallTree\n",
    "from bf_search import *"
   ]
  },
  {
   "cell_type": "markdown",
   "id": "nominated-hearts",
   "metadata": {},
   "source": [
    "### deep\n"
   ]
  },
  {
   "cell_type": "code",
   "execution_count": 2,
   "id": "specific-payday",
   "metadata": {},
   "outputs": [],
   "source": [
    "deep_train = np.load(\"Angular_data/deep/train.npy\")\n",
    "deep_query = np.load(\"Angular_data/deep/queries.npy\")\n",
    "\n",
    "deep_balltree_index_timing = list()\n",
    "deep_balltree_run_timing = list()"
   ]
  },
  {
   "cell_type": "code",
   "execution_count": 3,
   "id": "educated-channels",
   "metadata": {},
   "outputs": [],
   "source": [
    "transformer = Normalizer().fit(deep_train)\n",
    "deep_train = transformer.transform(deep_train)\n",
    "deep_query = transformer.transform(deep_query)\n"
   ]
  },
  {
   "cell_type": "code",
   "execution_count": 4,
   "id": "unexpected-uncertainty",
   "metadata": {},
   "outputs": [],
   "source": [
    "radius = np.array([0.22, 0.24, 0.26, 0.28, 0.30])*np.pi # test various radius"
   ]
  },
  {
   "cell_type": "code",
   "execution_count": 5,
   "id": "dressed-repeat",
   "metadata": {},
   "outputs": [],
   "source": [
    "# Balltree\n",
    "def run_ball(deep_balltree_index_timing, deep_balltree_run_timing):\n",
    "    st = time.time()\n",
    "    tree = BallTree(deep_train)   \n",
    "    et = time.time() - st\n",
    "    deep_balltree_index_timing.append(et)\n",
    "    print(\"balltree build time:\", et)\n",
    "\n",
    "    for R in radius:\n",
    "        st = time.time()\n",
    "        for j in range(deep_query.shape[0]):\n",
    "            ind = tree.query_radius(deep_query[j:j+1], r=R, return_distance=False)\n",
    "        et = time.time() - st\n",
    "        deep_balltree_run_timing.append(et)\n",
    "        print(\"radius=\", R, \"balltree query time:\", et)\n"
   ]
  },
  {
   "cell_type": "code",
   "execution_count": 6,
   "id": "naval-marking",
   "metadata": {},
   "outputs": [
    {
     "name": "stdout",
     "output_type": "stream",
     "text": [
      "balltree build time: 464.06903052330017\n",
      "radius= 0.6911503837897545 balltree query time: 47309.70913481712\n",
      "radius= 0.7539822368615503 balltree query time: 47039.511223077774\n",
      "radius= 0.8168140899333463 balltree query time: 46834.07270240784\n",
      "radius= 0.8796459430051422 balltree query time: 47553.61664843559\n",
      "radius= 0.9424777960769379 balltree query time: 48101.56615662575\n"
     ]
    }
   ],
   "source": [
    "run_ball(deep_balltree_index_timing, deep_balltree_run_timing)\n",
    "\n",
    "with open('result/deep_balltree_index_timing_norm.npy', 'wb') as f:\n",
    "    np.save(f, np.array(deep_balltree_index_timing))\n",
    "\n",
    "with open('result/deep_balltree_run_timing_norm.npy', 'wb') as f:\n",
    "    np.save(f, np.array(deep_balltree_run_timing))"
   ]
  },
  {
   "cell_type": "code",
   "execution_count": null,
   "id": "cutting-banner",
   "metadata": {},
   "outputs": [],
   "source": []
  },
  {
   "cell_type": "code",
   "execution_count": null,
   "id": "adaptive-accent",
   "metadata": {},
   "outputs": [],
   "source": []
  },
  {
   "cell_type": "code",
   "execution_count": null,
   "id": "collaborative-water",
   "metadata": {},
   "outputs": [],
   "source": []
  },
  {
   "cell_type": "code",
   "execution_count": null,
   "id": "presidential-unemployment",
   "metadata": {},
   "outputs": [],
   "source": []
  },
  {
   "cell_type": "code",
   "execution_count": null,
   "id": "spare-tender",
   "metadata": {},
   "outputs": [],
   "source": []
  }
 ],
 "metadata": {
  "kernelspec": {
   "display_name": "Python 3 (ipykernel)",
   "language": "python",
   "name": "python3"
  },
  "language_info": {
   "codemirror_mode": {
    "name": "ipython",
    "version": 3
   },
   "file_extension": ".py",
   "mimetype": "text/x-python",
   "name": "python",
   "nbconvert_exporter": "python",
   "pygments_lexer": "ipython3",
   "version": "3.9.12"
  }
 },
 "nbformat": 4,
 "nbformat_minor": 5
}
