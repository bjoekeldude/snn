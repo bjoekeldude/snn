{
 "cells": [
  {
   "cell_type": "code",
   "execution_count": 1,
   "id": "768ed63b",
   "metadata": {},
   "outputs": [],
   "source": [
    "import numpy as np\n",
    "from snnpy import *\n",
    "import grispy as gsp\n",
    "from time import time\n",
    "from tqdm import tqdm \n",
    "import gc "
   ]
  },
  {
   "cell_type": "markdown",
   "id": "d7dee4af-0263-4fd9-91f8-3913765ced4b",
   "metadata": {},
   "source": [
    "### (varying sizes, fixed dimension)"
   ]
  },
  {
   "cell_type": "code",
   "execution_count": 2,
   "id": "fc0d8e1c",
   "metadata": {},
   "outputs": [],
   "source": [
    "dims = [3]\n",
    "index_sizes = np.logspace(3, 5, num=7, dtype=int)  \n",
    "radius = [0.05, 0.1, 0.15, 0.2, 0.25]\n",
    "query_size = 1000"
   ]
  },
  {
   "cell_type": "code",
   "execution_count": 3,
   "id": "4d8faca1-0a0f-4546-a6b8-a0fa569f92e9",
   "metadata": {},
   "outputs": [],
   "source": [
    "snn_index_time = np.zeros((len(index_sizes), len(dims)))\n",
    "snn_query_time = np.zeros((len(index_sizes), len(dims)))\n",
    "gp_index_time = np.zeros((len(index_sizes), len(dims)))\n",
    "gp_query_time = np.zeros((len(index_sizes), len(dims)))"
   ]
  },
  {
   "cell_type": "code",
   "execution_count": 4,
   "id": "d8277963",
   "metadata": {},
   "outputs": [
    {
     "name": "stdout",
     "output_type": "stream",
     "text": [
      "index size:  1000\n"
     ]
    },
    {
     "name": "stderr",
     "output_type": "stream",
     "text": [
      "100%|██████████| 1/1 [01:47<00:00, 107.22s/it]\n"
     ]
    },
    {
     "name": "stdout",
     "output_type": "stream",
     "text": [
      "index size:  2154\n"
     ]
    },
    {
     "name": "stderr",
     "output_type": "stream",
     "text": [
      "100%|██████████| 1/1 [01:29<00:00, 89.27s/it]\n"
     ]
    },
    {
     "name": "stdout",
     "output_type": "stream",
     "text": [
      "index size:  4641\n"
     ]
    },
    {
     "name": "stderr",
     "output_type": "stream",
     "text": [
      "100%|██████████| 1/1 [01:00<00:00, 60.98s/it]\n"
     ]
    },
    {
     "name": "stdout",
     "output_type": "stream",
     "text": [
      "index size:  10000\n"
     ]
    },
    {
     "name": "stderr",
     "output_type": "stream",
     "text": [
      "100%|██████████| 1/1 [02:15<00:00, 135.86s/it]\n"
     ]
    },
    {
     "name": "stdout",
     "output_type": "stream",
     "text": [
      "index size:  21544\n"
     ]
    },
    {
     "name": "stderr",
     "output_type": "stream",
     "text": [
      "100%|██████████| 1/1 [03:10<00:00, 190.91s/it]\n"
     ]
    },
    {
     "name": "stdout",
     "output_type": "stream",
     "text": [
      "index size:  46415\n"
     ]
    },
    {
     "name": "stderr",
     "output_type": "stream",
     "text": [
      "100%|██████████| 1/1 [03:19<00:00, 199.16s/it]\n"
     ]
    },
    {
     "name": "stdout",
     "output_type": "stream",
     "text": [
      "index size:  100000\n"
     ]
    },
    {
     "name": "stderr",
     "output_type": "stream",
     "text": [
      "100%|██████████| 1/1 [02:41<00:00, 161.29s/it]\n"
     ]
    }
   ],
   "source": [
    "for i in range(len(index_sizes)):\n",
    "    print(\"index size: \", index_sizes[i])\n",
    "    isize = index_sizes[i]\n",
    "    for j in tqdm(range(len(dims))):\n",
    "        n_dim = dims[j]\n",
    "        data = np.random.uniform(size=(isize + query_size, n_dim))  \n",
    "        I = data[:isize]\n",
    "        Q = data[isize:]\n",
    "        \n",
    "        inst = time()\n",
    "        snn_model = build_snn_model(I)  \n",
    "        snn_index_time[i,j] = time() - inst\n",
    "        \n",
    "        inst = time()\n",
    "        grid = gsp.GriSPy(I)\n",
    "        gp_index_time[i,j] = time() - inst\n",
    "\n",
    "        for q in range(query_size):\n",
    "            qst = time()\n",
    "            for r in range(len(radius)):\n",
    "                snnind = snn_model.query_radius(Q[q], radius[r], return_distance=False)\n",
    "            snn_query_time[i,j] += (time() - qst) / len(radius)\n",
    "            \n",
    "            qst = time()\n",
    "            for r in range(len(radius)):\n",
    "                gpdist, gpind = grid.bubble_neighbors(Q[[q]], distance_upper_bound=radius[r])\n",
    "            gp_query_time[i,j] += (time() - qst) / len(radius)\n",
    "        \n",
    "        snn_query_time[i,j] = snn_query_time[i,j] / query_size\n",
    "        gp_query_time[i,j] = gp_query_time[i,j] / query_size\n",
    "        \n",
    "        del snn_model, grid\n",
    "        gc.collect()"
   ]
  },
  {
   "cell_type": "code",
   "execution_count": 5,
   "id": "8b4de6de-0328-4f9a-af9f-1a74574727be",
   "metadata": {},
   "outputs": [],
   "source": [
    "with open('result/add2_snn_index_time.npy', 'wb') as f:\n",
    "    np.save(f, snn_index_time)\n",
    "    \n",
    "with open('result/add2_snn_query_time.npy', 'wb') as f:\n",
    "    np.save(f, snn_query_time)\n",
    "    \n",
    "with open('result/add2_gp_index_time.npy', 'wb') as f:\n",
    "    np.save(f, gp_index_time)\n",
    "\n",
    "with open('result/add2_gp_query_time.npy', 'wb') as f:\n",
    "    np.save(f, gp_query_time)"
   ]
  },
  {
   "cell_type": "code",
   "execution_count": null,
   "id": "56cce41d-e9a7-498a-9389-351edfe4d6e0",
   "metadata": {},
   "outputs": [],
   "source": []
  },
  {
   "cell_type": "code",
   "execution_count": null,
   "id": "a325b3b3-d229-4e39-825f-3b6c97581f10",
   "metadata": {},
   "outputs": [],
   "source": []
  }
 ],
 "metadata": {
  "kernelspec": {
   "display_name": "Python 3 (ipykernel)",
   "language": "python",
   "name": "python3"
  },
  "language_info": {
   "codemirror_mode": {
    "name": "ipython",
    "version": 3
   },
   "file_extension": ".py",
   "mimetype": "text/x-python",
   "name": "python",
   "nbconvert_exporter": "python",
   "pygments_lexer": "ipython3",
   "version": "3.11.2"
  }
 },
 "nbformat": 4,
 "nbformat_minor": 5
}
