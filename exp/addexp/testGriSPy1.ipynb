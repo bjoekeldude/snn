{
 "cells": [
  {
   "cell_type": "code",
   "execution_count": 1,
   "id": "768ed63b",
   "metadata": {},
   "outputs": [],
   "source": [
    "import numpy as np\n",
    "from snnpy import *\n",
    "import grispy as gsp\n",
    "from time import time\n",
    "from tqdm import tqdm \n",
    "import gc "
   ]
  },
  {
   "cell_type": "code",
   "execution_count": 2,
   "id": "7b99657f-8e00-407a-bad7-161dd398bf83",
   "metadata": {},
   "outputs": [],
   "source": [
    "\n",
    "def sigificant_digit(number, digits=2):\n",
    "    return round(number, digits - int(math.floor(math.log10(abs(number)))) - 1)\n",
    "\n",
    "def snn_count_neighbors(snn, train, query, radius:list):\n",
    "    for R in radius:\n",
    "        return_num = list()\n",
    "        for j in range(query.shape[0]): \n",
    "            ind = snn.query_radius(query[j], R)\n",
    "            return_num.append(len(ind))\n",
    "        print(\"Return: \", sigificant_digit(100*np.mean(return_num)/train.shape[0]), \"% neighbors\")"
   ]
  },
  {
   "cell_type": "markdown",
   "id": "3fa932b4-5e88-4900-bb36-075422125ec9",
   "metadata": {},
   "source": [
    "### (varying dimensions, fixed size)"
   ]
  },
  {
   "cell_type": "code",
   "execution_count": 3,
   "id": "e0979042",
   "metadata": {},
   "outputs": [],
   "source": [
    "dims = [2, 3, 4]\n",
    "index_sizes = [10000]\n",
    "query_size = 1000\n",
    "radius = [0.05, 0.1, 0.15, 0.2, 0.25]"
   ]
  },
  {
   "cell_type": "code",
   "execution_count": 4,
   "id": "a2b8bc5b-07be-41e9-ac59-0bf3909bf468",
   "metadata": {},
   "outputs": [],
   "source": [
    "snn_index_time = np.zeros((len(dims), len(index_sizes)))\n",
    "snn_query_time = np.zeros((len(dims), len(index_sizes)))\n",
    "gp_index_time = np.zeros((len(dims), len(index_sizes)))\n",
    "gp_query_time = np.zeros((len(dims), len(index_sizes)))"
   ]
  },
  {
   "cell_type": "code",
   "execution_count": 5,
   "id": "2ca39a0d-c691-4a7e-af08-1258c8b3ce6b",
   "metadata": {},
   "outputs": [
    {
     "name": "stdout",
     "output_type": "stream",
     "text": [
      "dim:  2\n"
     ]
    },
    {
     "name": "stderr",
     "output_type": "stream",
     "text": [
      "100%|██████████| 1/1 [00:19<00:00, 19.41s/it]\n"
     ]
    },
    {
     "name": "stdout",
     "output_type": "stream",
     "text": [
      "dim:  3\n"
     ]
    },
    {
     "name": "stderr",
     "output_type": "stream",
     "text": [
      "100%|██████████| 1/1 [02:06<00:00, 126.91s/it]\n"
     ]
    },
    {
     "name": "stdout",
     "output_type": "stream",
     "text": [
      "dim:  4\n"
     ]
    },
    {
     "name": "stderr",
     "output_type": "stream",
     "text": [
      "100%|██████████| 1/1 [34:12<00:00, 2052.50s/it]\n"
     ]
    }
   ],
   "source": [
    "for i in range(len(dims)):\n",
    "    print(\"dim: \", dims[i])\n",
    "    n_dim = dims[i]\n",
    "    for j in tqdm(range(len(index_sizes))):\n",
    "        isize = index_sizes[j]\n",
    "        data = np.random.uniform(size=(isize + query_size, n_dim))  \n",
    "        I = data[:isize]\n",
    "        Q = data[isize:]\n",
    "        \n",
    "        inst = time()\n",
    "        snn_model = build_snn_model(I)  \n",
    "        snn_index_time[i,j] = time() - inst\n",
    "        \n",
    "        inst = time()\n",
    "        grid = gsp.GriSPy(I)\n",
    "        gp_index_time[i,j] = time() - inst\n",
    "\n",
    "        for q in range(query_size):\n",
    "            qst = time()\n",
    "            for r in range(len(radius)):\n",
    "                snnind = snn_model.query_radius(Q[q], radius[r], return_distance=False)\n",
    "            snn_query_time[i,j] += (time() - qst) / len(radius)\n",
    "            \n",
    "            qst = time()\n",
    "            for r in range(len(radius)):\n",
    "                gpdist, gpind = grid.bubble_neighbors(Q[[q]], distance_upper_bound=radius[r])\n",
    "            gp_query_time[i,j] += (time() - qst) / len(radius)\n",
    "        \n",
    "        snn_query_time[i,j] = snn_query_time[i,j] / query_size\n",
    "        gp_query_time[i,j] = gp_query_time[i,j] / query_size\n",
    "        \n",
    "        del snn_model, grid\n",
    "        gc.collect()"
   ]
  },
  {
   "cell_type": "code",
   "execution_count": 6,
   "id": "f2cbde1c-7d34-42de-8ef7-b771cd1d6aee",
   "metadata": {},
   "outputs": [],
   "source": [
    "with open('result/add1_snn_index_time.npy', 'wb') as f:\n",
    "    np.save(f, snn_index_time)\n",
    "    \n",
    "with open('result/add1_snn_query_time.npy', 'wb') as f:\n",
    "    np.save(f, snn_query_time)\n",
    "    \n",
    "with open('result/add1_gp_index_time.npy', 'wb') as f:\n",
    "    np.save(f, gp_index_time)\n",
    "\n",
    "with open('result/add1_gp_query_time.npy', 'wb') as f:\n",
    "    np.save(f, gp_query_time)"
   ]
  },
  {
   "cell_type": "code",
   "execution_count": null,
   "id": "56cce41d-e9a7-498a-9389-351edfe4d6e0",
   "metadata": {},
   "outputs": [],
   "source": []
  },
  {
   "cell_type": "code",
   "execution_count": null,
   "id": "a325b3b3-d229-4e39-825f-3b6c97581f10",
   "metadata": {},
   "outputs": [],
   "source": []
  }
 ],
 "metadata": {
  "kernelspec": {
   "display_name": "Python 3 (ipykernel)",
   "language": "python",
   "name": "python3"
  },
  "language_info": {
   "codemirror_mode": {
    "name": "ipython",
    "version": 3
   },
   "file_extension": ".py",
   "mimetype": "text/x-python",
   "name": "python",
   "nbconvert_exporter": "python",
   "pygments_lexer": "ipython3",
   "version": "3.11.2"
  }
 },
 "nbformat": 4,
 "nbformat_minor": 5
}
