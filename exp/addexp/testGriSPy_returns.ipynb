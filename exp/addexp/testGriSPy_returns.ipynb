{
 "cells": [
  {
   "cell_type": "code",
   "execution_count": 1,
   "id": "768ed63b",
   "metadata": {},
   "outputs": [],
   "source": [
    "import numpy as np\n",
    "from snnpy import *\n",
    "import grispy as gsp\n",
    "from time import time\n",
    "from tqdm import tqdm \n",
    "import gc \n",
    "import math"
   ]
  },
  {
   "cell_type": "code",
   "execution_count": 2,
   "id": "7b99657f-8e00-407a-bad7-161dd398bf83",
   "metadata": {},
   "outputs": [],
   "source": [
    "def sigificant_digit(number, digits=2):\n",
    "    return round(number, digits - int(math.floor(math.log10(abs(number)))) - 1)\n",
    "\n",
    "def snn_count_neighbors(snn, train, query, radius:list):\n",
    "    results = list()\n",
    "    for R in radius:\n",
    "        return_num = list()\n",
    "        for j in range(query.shape[0]): \n",
    "            ind = snn.query_radius(query[j], R)\n",
    "            return_num.append(len(ind))\n",
    "        result = sigificant_digit(100*np.mean(return_num)/train.shape[0])\n",
    "        results.append(result)\n",
    "        print(\"Return: \", result, \"% neighbors\")\n",
    "    return results\n"
   ]
  },
  {
   "cell_type": "markdown",
   "id": "3fa932b4-5e88-4900-bb36-075422125ec9",
   "metadata": {},
   "source": [
    "### (varying dimensions, fixed size)"
   ]
  },
  {
   "cell_type": "code",
   "execution_count": 3,
   "id": "e0979042",
   "metadata": {},
   "outputs": [],
   "source": [
    "np.random.seed(0)\n",
    "dims = [2, 3, 4]\n",
    "query_size = 1000\n",
    "radius = [0.05, 0.1, 0.15, 0.2, 0.25]\n",
    "results = list()"
   ]
  },
  {
   "cell_type": "code",
   "execution_count": 4,
   "id": "2ca39a0d-c691-4a7e-af08-1258c8b3ce6b",
   "metadata": {},
   "outputs": [
    {
     "name": "stdout",
     "output_type": "stream",
     "text": [
      "dim:  2\n",
      "Return:  0.75 % neighbors\n",
      "Return:  2.9 % neighbors\n",
      "Return:  6.1 % neighbors\n",
      "Return:  10.0 % neighbors\n",
      "Return:  15.0 % neighbors\n",
      "dim:  3\n",
      "Return:  0.05 % neighbors\n",
      "Return:  0.38 % neighbors\n",
      "Return:  1.2 % neighbors\n",
      "Return:  2.7 % neighbors\n",
      "Return:  4.9 % neighbors\n",
      "dim:  4\n",
      "Return:  0.0029 % neighbors\n",
      "Return:  0.042 % neighbors\n",
      "Return:  0.2 % neighbors\n",
      "Return:  0.59 % neighbors\n",
      "Return:  1.3 % neighbors\n"
     ]
    }
   ],
   "source": [
    "for i in range(len(dims)):\n",
    "    print(\"dim: \", dims[i])\n",
    "\n",
    "    n_dim = dims[i]\n",
    "    isize = 10000\n",
    "    data = np.random.uniform(size=(isize + query_size, n_dim))  \n",
    "    I = data[:isize]\n",
    "    Q = data[isize:]\n",
    "\n",
    "    snn_model = build_snn_model(I)  \n",
    "    \n",
    "    _ = snn_count_neighbors(snn_model, I, Q, radius)\n",
    "    results.append(_)\n",
    "    \n",
    "    del snn_model\n",
    "    gc.collect()"
   ]
  },
  {
   "cell_type": "code",
   "execution_count": 5,
   "id": "b18b97bb-7a29-482a-95e7-9d4d92efaa86",
   "metadata": {},
   "outputs": [
    {
     "data": {
      "text/plain": [
       "[[0.75, 0.05, 0.0029],\n",
       " [2.9, 0.38, 0.042],\n",
       " [6.1, 1.2, 0.2],\n",
       " [10.0, 2.7, 0.59],\n",
       " [15.0, 4.9, 1.3]]"
      ]
     },
     "execution_count": 5,
     "metadata": {},
     "output_type": "execute_result"
    }
   ],
   "source": [
    "np.array(results).T.tolist()"
   ]
  },
  {
   "cell_type": "markdown",
   "id": "d7dee4af-0263-4fd9-91f8-3913765ced4b",
   "metadata": {},
   "source": [
    "### (varying sizes, fixed dimension)"
   ]
  },
  {
   "cell_type": "code",
   "execution_count": 6,
   "id": "fc0d8e1c",
   "metadata": {},
   "outputs": [],
   "source": [
    "np.random.seed(0)\n",
    "dims = [3]\n",
    "index_sizes = np.logspace(3, 5, num=7, dtype=int)  \n",
    "radius = [0.05, 0.1, 0.15, 0.2, 0.25]\n",
    "query_size = 1000\n",
    "results = list()"
   ]
  },
  {
   "cell_type": "code",
   "execution_count": 7,
   "id": "d8277963",
   "metadata": {},
   "outputs": [
    {
     "name": "stdout",
     "output_type": "stream",
     "text": [
      "size:  1000\n",
      "Return:  0.05 % neighbors\n",
      "Return:  0.37 % neighbors\n",
      "Return:  1.2 % neighbors\n",
      "Return:  2.6 % neighbors\n",
      "Return:  4.8 % neighbors\n",
      "size:  2154\n",
      "Return:  0.05 % neighbors\n",
      "Return:  0.37 % neighbors\n",
      "Return:  1.2 % neighbors\n",
      "Return:  2.6 % neighbors\n",
      "Return:  4.8 % neighbors\n",
      "size:  4641\n",
      "Return:  0.048 % neighbors\n",
      "Return:  0.36 % neighbors\n",
      "Return:  1.2 % neighbors\n",
      "Return:  2.6 % neighbors\n",
      "Return:  4.8 % neighbors\n",
      "size:  10000\n",
      "Return:  0.049 % neighbors\n",
      "Return:  0.38 % neighbors\n",
      "Return:  1.2 % neighbors\n",
      "Return:  2.7 % neighbors\n",
      "Return:  4.9 % neighbors\n",
      "size:  21544\n",
      "Return:  0.05 % neighbors\n",
      "Return:  0.37 % neighbors\n",
      "Return:  1.2 % neighbors\n",
      "Return:  2.7 % neighbors\n",
      "Return:  4.9 % neighbors\n",
      "size:  46415\n",
      "Return:  0.05 % neighbors\n",
      "Return:  0.37 % neighbors\n",
      "Return:  1.2 % neighbors\n",
      "Return:  2.6 % neighbors\n",
      "Return:  4.9 % neighbors\n",
      "size:  100000\n",
      "Return:  0.049 % neighbors\n",
      "Return:  0.37 % neighbors\n",
      "Return:  1.2 % neighbors\n",
      "Return:  2.6 % neighbors\n",
      "Return:  4.7 % neighbors\n"
     ]
    }
   ],
   "source": [
    "for i in range(len(index_sizes)):\n",
    "    print(\"size: \", index_sizes[i])\n",
    "\n",
    "    n_dim = dims[0]\n",
    "    isize = index_sizes[i]\n",
    "    data = np.random.uniform(size=(isize + query_size, n_dim))  \n",
    "    I = data[:isize]\n",
    "    Q = data[isize:]\n",
    "\n",
    "    snn_model = build_snn_model(I)  \n",
    "    _ = snn_count_neighbors(snn_model, I, Q, radius)\n",
    "    results.append(_)\n",
    "    \n",
    "    del snn_model\n",
    "    gc.collect()"
   ]
  },
  {
   "cell_type": "code",
   "execution_count": 8,
   "id": "197e22da-7ae4-4722-b22d-bc1f38f0340a",
   "metadata": {},
   "outputs": [
    {
     "data": {
      "text/plain": [
       "[[0.05, 0.05, 0.048, 0.049, 0.05, 0.05, 0.049],\n",
       " [0.37, 0.37, 0.36, 0.38, 0.37, 0.37, 0.37],\n",
       " [1.2, 1.2, 1.2, 1.2, 1.2, 1.2, 1.2],\n",
       " [2.6, 2.6, 2.6, 2.7, 2.7, 2.6, 2.6],\n",
       " [4.8, 4.8, 4.8, 4.9, 4.9, 4.9, 4.7]]"
      ]
     },
     "execution_count": 8,
     "metadata": {},
     "output_type": "execute_result"
    }
   ],
   "source": [
    "np.array(results).T.tolist()"
   ]
  },
  {
   "cell_type": "code",
   "execution_count": null,
   "id": "21be3f13-52fb-4f58-9ecb-3bb6c1ec2d63",
   "metadata": {},
   "outputs": [],
   "source": []
  }
 ],
 "metadata": {
  "kernelspec": {
   "display_name": "Python 3 (ipykernel)",
   "language": "python",
   "name": "python3"
  },
  "language_info": {
   "codemirror_mode": {
    "name": "ipython",
    "version": 3
   },
   "file_extension": ".py",
   "mimetype": "text/x-python",
   "name": "python",
   "nbconvert_exporter": "python",
   "pygments_lexer": "ipython3",
   "version": "3.11.2"
  }
 },
 "nbformat": 4,
 "nbformat_minor": 5
}
