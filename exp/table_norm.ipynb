{
 "cells": [
  {
   "cell_type": "code",
   "execution_count": 1,
   "id": "resident-stamp",
   "metadata": {},
   "outputs": [],
   "source": [
    "import numpy as np\n",
    "import math\n",
    "\n",
    "def sigificant_digit(number, digits=2):\n",
    "    return round(number, digits - int(math.floor(math.log10(abs(number)))) - 1)\n"
   ]
  },
  {
   "cell_type": "code",
   "execution_count": 2,
   "id": "tired-arcade",
   "metadata": {},
   "outputs": [],
   "source": [
    "with open('result/real_world/fmn_kdtree_index_timing_norm.npy', 'rb') as f:\n",
    "    fmn_kdtree_index_timing = np.load(f)\n",
    "\n",
    "with open('result/real_world/fmn_balltree_index_timing_norm.npy', 'rb') as f:\n",
    "    fmn_balltree_index_timing = np.load(f)\n",
    "\n",
    "with open('result/real_world/fmn_sn_index_timing_norm.npy', 'rb') as f:\n",
    "    fmn_sn_index_timing = np.load(f)\n",
    "\n",
    "with open('result/real_world/fmn_bf_run_timing1_norm.npy', 'rb') as f:\n",
    "    fmn_bf_run_timing1 = np.load(f)\n",
    "    \n",
    "with open('result/real_world/fmn_bf_run_timing2_norm.npy', 'rb') as f:\n",
    "    fmn_bf_run_timing2 = np.load(f)\n",
    "    \n",
    "with open('result/real_world/fmn_kdtree_run_timing_norm.npy', 'rb') as f:\n",
    "    fmn_kdtree_run_timing = np.load(f)\n",
    "\n",
    "with open('result/real_world/fmn_balltree_run_timing_norm.npy', 'rb') as f:\n",
    "    fmn_balltree_run_timing = np.load(f)\n",
    "\n",
    "with open('result/real_world/fmn_sn_run_timing_norm.npy', 'rb') as f:\n",
    "    fmn_sn_run_timing = np.load(f)\n",
    "    \n",
    "        "
   ]
  },
  {
   "cell_type": "code",
   "execution_count": 3,
   "id": "advanced-employment",
   "metadata": {},
   "outputs": [
    {
     "name": "stdout",
     "output_type": "stream",
     "text": [
      "index time:\n",
      "kdtree:  7.5\n",
      "balltree:  5.7\n",
      "snn:  1.1\n",
      "\n",
      "run time:\n",
      "brute force 1:  1900.0\n",
      "brute force 2:  500.0\n",
      "kdtree:  1400.0\n",
      "balltree:  910.0\n",
      "snn:  100.0\n"
     ]
    }
   ],
   "source": [
    "print('index time:')\n",
    "\n",
    "print('kdtree: ', sigificant_digit(fmn_kdtree_index_timing[0]))\n",
    "print('balltree: ', sigificant_digit(fmn_balltree_index_timing[0]))\n",
    "print('snn: ', sigificant_digit(fmn_sn_index_timing[0]))\n",
    "\n",
    "\n",
    "print('\\nrun time:')\n",
    "print('brute force 1: ', sigificant_digit(np.mean(fmn_bf_run_timing1)))\n",
    "print('brute force 2: ', sigificant_digit(np.mean(fmn_bf_run_timing2)))\n",
    "print('kdtree: ', sigificant_digit(np.mean(fmn_kdtree_run_timing)))\n",
    "print('balltree: ', sigificant_digit(np.mean(fmn_balltree_run_timing)))\n",
    "print('snn: ', sigificant_digit(np.mean(fmn_sn_run_timing)))\n",
    "\n",
    "\n"
   ]
  },
  {
   "cell_type": "code",
   "execution_count": 4,
   "id": "planned-proportion",
   "metadata": {},
   "outputs": [],
   "source": [
    "with open('result/real_world/siftsmall_kdtree_index_timing_norm.npy', 'rb') as f:\n",
    "    siftsmall_kdtree_index_timing = np.load(f)\n",
    "\n",
    "with open('result/real_world/siftsmall_balltree_index_timing_norm.npy', 'rb') as f:\n",
    "    siftsmall_balltree_index_timing = np.load(f)\n",
    "\n",
    "with open('result/real_world/siftsmall_sn_index_timing_norm.npy', 'rb') as f:\n",
    "    siftsmall_sn_index_timing = np.load(f)\n",
    "\n",
    "with open('result/real_world/siftsmall_bf_run_timing1_norm.npy', 'rb') as f:\n",
    "    siftsmall_bf_run_timing1 = np.load(f)\n",
    "    \n",
    "with open('result/real_world/siftsmall_bf_run_timing2_norm.npy', 'rb') as f:\n",
    "    siftsmall_bf_run_timing2 = np.load(f)\n",
    "    \n",
    "with open('result/real_world/siftsmall_kdtree_run_timing_norm.npy', 'rb') as f:\n",
    "    siftsmall_kdtree_run_timing = np.load(f)\n",
    "\n",
    "with open('result/real_world/siftsmall_balltree_run_timing_norm.npy', 'rb') as f:\n",
    "    siftsmall_balltree_run_timing = np.load(f)\n",
    "\n",
    "with open('result/real_world/siftsmall_sn_run_timing_norm.npy', 'rb') as f:\n",
    "    siftsmall_sn_run_timing = np.load(f)\n",
    "\n",
    "\n"
   ]
  },
  {
   "cell_type": "code",
   "execution_count": 5,
   "id": "aboriginal-conclusion",
   "metadata": {},
   "outputs": [
    {
     "name": "stdout",
     "output_type": "stream",
     "text": [
      "index time:\n",
      "kdtree:  0.46\n",
      "balltree:  0.37\n",
      "snn:  0.035\n",
      "\n",
      "run time:\n",
      "brute force 1:  1.0\n",
      "brute force 2:  0.22\n",
      "kdtree:  1.4\n",
      "balltree:  0.94\n",
      "snn:  0.11\n"
     ]
    }
   ],
   "source": [
    "print('index time:')\n",
    "\n",
    "print('kdtree: ', sigificant_digit(siftsmall_kdtree_index_timing[0]))\n",
    "print('balltree: ', sigificant_digit(siftsmall_balltree_index_timing[0]))\n",
    "print('snn: ', sigificant_digit(siftsmall_sn_index_timing[0]))\n",
    "\n",
    "\n",
    "print('\\nrun time:')\n",
    "print('brute force 1: ', sigificant_digit(np.mean(siftsmall_bf_run_timing1)))\n",
    "print('brute force 2: ', sigificant_digit(np.mean(siftsmall_bf_run_timing2)))\n",
    "print('kdtree: ', sigificant_digit(np.mean(siftsmall_kdtree_run_timing)))\n",
    "print('balltree: ', sigificant_digit(np.mean(siftsmall_balltree_run_timing)))\n",
    "print('snn: ', sigificant_digit(np.mean(siftsmall_sn_run_timing)))\n"
   ]
  },
  {
   "cell_type": "code",
   "execution_count": null,
   "id": "smooth-stage",
   "metadata": {},
   "outputs": [],
   "source": []
  },
  {
   "cell_type": "code",
   "execution_count": 6,
   "id": "southern-julian",
   "metadata": {},
   "outputs": [],
   "source": [
    "with open('result/real_world/sift_kdtree_index_timing_norm.npy', 'rb') as f:\n",
    "    sift_kdtree_index_timing = np.load(f)\n",
    "\n",
    "with open('result/real_world/sift_balltree_index_timing_norm.npy', 'rb') as f:\n",
    "    sift_balltree_index_timing = np.load(f)\n",
    "\n",
    "with open('result/real_world/sift_sn_index_timing_norm.npy', 'rb') as f:\n",
    "    sift_sn_index_timing = np.load(f)\n",
    "\n",
    "with open('result/real_world/sift_bf_run_timing1_norm.npy', 'rb') as f:\n",
    "    sift_bf_run_timing1 = np.load(f)\n",
    "    \n",
    "with open('result/real_world/sift_bf_run_timing2_norm.npy', 'rb') as f:\n",
    "    sift_bf_run_timing2 = np.load(f)\n",
    "    \n",
    "with open('result/real_world/sift_kdtree_run_timing_norm.npy', 'rb') as f:\n",
    "    sift_kdtree_run_timing = np.load(f)\n",
    "\n",
    "with open('result/real_world/sift_balltree_run_timing_norm.npy', 'rb') as f:\n",
    "    sift_balltree_run_timing = np.load(f)\n",
    "\n",
    "with open('result/real_world/sift_sn_run_timing_norm.npy', 'rb') as f:\n",
    "    sift_sn_run_timing = np.load(f)"
   ]
  },
  {
   "cell_type": "code",
   "execution_count": 7,
   "id": "human-marsh",
   "metadata": {},
   "outputs": [
    {
     "name": "stdout",
     "output_type": "stream",
     "text": [
      "index time:\n",
      "kdtree:  2.8\n",
      "balltree:  2.3\n",
      "snn:  0.16\n",
      "\n",
      "run time:\n",
      "brute force 1:  460.0\n",
      "brute force 2:  160.0\n",
      "kdtree:  590.0\n",
      "balltree:  400.0\n",
      "snn:  72.0\n"
     ]
    }
   ],
   "source": [
    "print('index time:')\n",
    "\n",
    "print('kdtree: ', sigificant_digit(sift_kdtree_index_timing[0]))\n",
    "print('balltree: ', sigificant_digit(sift_balltree_index_timing[0]))\n",
    "print('snn: ', sigificant_digit(sift_sn_index_timing[0]))\n",
    "\n",
    "\n",
    "print('\\nrun time:')\n",
    "print('brute force 1: ', sigificant_digit(np.mean(sift_bf_run_timing1)))\n",
    "print('brute force 2: ', sigificant_digit(np.mean(sift_bf_run_timing2)))\n",
    "print('kdtree: ', sigificant_digit(np.mean(sift_kdtree_run_timing)))\n",
    "print('balltree: ', sigificant_digit(np.mean(sift_balltree_run_timing)))\n",
    "print('snn: ', sigificant_digit(np.mean(sift_sn_run_timing)))\n"
   ]
  },
  {
   "cell_type": "code",
   "execution_count": null,
   "id": "sensitive-creek",
   "metadata": {},
   "outputs": [],
   "source": []
  },
  {
   "cell_type": "code",
   "execution_count": 8,
   "id": "binding-baltimore",
   "metadata": {},
   "outputs": [],
   "source": [
    "with open('result/real_world/gist_kdtree_index_timing_norm.npy', 'rb') as f:\n",
    "    gist_kdtree_index_timing = np.load(f)\n",
    "\n",
    "with open('result/real_world/gist_balltree_index_timing_norm.npy', 'rb') as f:\n",
    "    gist_balltree_index_timing = np.load(f)\n",
    "\n",
    "with open('result/real_world/gist_sn_index_timing_norm.npy', 'rb') as f:\n",
    "    gist_sn_index_timing = np.load(f)\n",
    "\n",
    "with open('result/real_world/gist_bf_run_timing1_norm.npy', 'rb') as f:\n",
    "    gist_bf_run_timing1 = np.load(f)\n",
    "    \n",
    "with open('result/real_world/gist_bf_run_timing2_norm.npy', 'rb') as f:\n",
    "    gist_bf_run_timing2 = np.load(f)\n",
    "    \n",
    "with open('result/real_world/gist_kdtree_run_timing_norm.npy', 'rb') as f:\n",
    "    gist_kdtree_run_timing = np.load(f)\n",
    "\n",
    "with open('result/real_world/gist_balltree_run_timing_norm.npy', 'rb') as f:\n",
    "    gist_balltree_run_timing = np.load(f)\n",
    "\n",
    "with open('result/real_world/gist_sn_run_timing_norm.npy', 'rb') as f:\n",
    "    gist_sn_run_timing = np.load(f)"
   ]
  },
  {
   "cell_type": "code",
   "execution_count": 9,
   "id": "virtual-particle",
   "metadata": {},
   "outputs": [
    {
     "name": "stdout",
     "output_type": "stream",
     "text": [
      "index time:\n",
      "kdtree:  310.0\n",
      "balltree:  270.0\n",
      "snn:  25.0\n",
      "\n",
      "run time:\n",
      "brute force 1:  6100.0\n",
      "brute force 2:  1000.0\n",
      "kdtree:  2700.0\n",
      "balltree:  1900.0\n",
      "snn:  220.0\n"
     ]
    }
   ],
   "source": [
    "print('index time:')\n",
    "\n",
    "print('kdtree: ', sigificant_digit(gist_kdtree_index_timing[0]))\n",
    "print('balltree: ', sigificant_digit(gist_balltree_index_timing[0]))\n",
    "print('snn: ', sigificant_digit(gist_sn_index_timing[0]))\n",
    "\n",
    "\n",
    "print('\\nrun time:')\n",
    "print('brute force 1: ', sigificant_digit(np.mean(gist_bf_run_timing1)))\n",
    "print('brute force 2: ', sigificant_digit(np.mean(gist_bf_run_timing2)))\n",
    "print('kdtree: ', sigificant_digit(np.mean(gist_kdtree_run_timing)))\n",
    "print('balltree: ', sigificant_digit(np.mean(gist_balltree_run_timing)))\n",
    "print('snn: ', sigificant_digit(np.mean(gist_sn_run_timing)))\n"
   ]
  },
  {
   "cell_type": "code",
   "execution_count": null,
   "id": "architectural-andrew",
   "metadata": {},
   "outputs": [],
   "source": []
  },
  {
   "cell_type": "code",
   "execution_count": null,
   "id": "other-greene",
   "metadata": {},
   "outputs": [],
   "source": []
  },
  {
   "cell_type": "code",
   "execution_count": null,
   "id": "experimental-sleep",
   "metadata": {},
   "outputs": [],
   "source": []
  },
  {
   "cell_type": "code",
   "execution_count": null,
   "id": "funded-rochester",
   "metadata": {},
   "outputs": [],
   "source": []
  }
 ],
 "metadata": {
  "kernelspec": {
   "display_name": "Python 3",
   "language": "python",
   "name": "python3"
  },
  "language_info": {
   "codemirror_mode": {
    "name": "ipython",
    "version": 3
   },
   "file_extension": ".py",
   "mimetype": "text/x-python",
   "name": "python",
   "nbconvert_exporter": "python",
   "pygments_lexer": "ipython3",
   "version": "3.9.2"
  }
 },
 "nbformat": 4,
 "nbformat_minor": 5
}
