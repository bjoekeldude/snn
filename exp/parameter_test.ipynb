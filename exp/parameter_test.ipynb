{
 "cells": [
  {
   "cell_type": "code",
   "execution_count": 1,
   "id": "bright-pricing",
   "metadata": {},
   "outputs": [],
   "source": [
    "import time\n",
    "import warnings\n",
    "import numpy as np\n",
    "from snnpy import *\n",
    "from sklearn.neighbors import BallTree\n",
    "from sklearn.neighbors import NearestNeighbors\n",
    "from sklearn.neighbors import KDTree\n",
    "from bf_search import *\n",
    "from tqdm import tqdm\n",
    "\n",
    "leaf_size = 40\n",
    "warnings.filterwarnings(\"ignore\")"
   ]
  },
  {
   "cell_type": "markdown",
   "id": "hungarian-blair",
   "metadata": {},
   "source": [
    "### size (ndim=2)"
   ]
  },
  {
   "cell_type": "code",
   "execution_count": 2,
   "id": "honest-pastor",
   "metadata": {},
   "outputs": [
    {
     "name": "stderr",
     "output_type": "stream",
     "text": [
      " 10%|█         | 1/10 [00:05<00:47,  5.30s/it]"
     ]
    },
    {
     "name": "stdout",
     "output_type": "stream",
     "text": [
      "brute force 1 query time: 0.6879978775978088\n",
      "brute force 2 query time: 0.20335817337036133\n",
      "KDtree index: 0.0011867880821228027\n",
      "KDtree query time: 0.1614854335784912\n",
      "Balltree index: 0.0008478164672851562\n",
      "Balltree query time: 0.14854729175567627\n",
      "SNN index: 0.0011959075927734375\n",
      "SNN query time: 0.11953014135360718\n",
      "\n"
     ]
    },
    {
     "name": "stderr",
     "output_type": "stream",
     "text": [
      " 20%|██        | 2/10 [00:18<01:21, 10.20s/it]"
     ]
    },
    {
     "name": "stdout",
     "output_type": "stream",
     "text": [
      "brute force 1 query time: 1.7630468606948853\n",
      "brute force 2 query time: 0.6749171018600464\n",
      "KDtree index: 0.0020766258239746094\n",
      "KDtree query time: 0.3566626310348511\n",
      "Balltree index: 0.0016753077507019043\n",
      "Balltree query time: 0.32474613189697266\n",
      "SNN index: 0.0015149712562561035\n",
      "SNN query time: 0.281421422958374\n",
      "\n"
     ]
    },
    {
     "name": "stderr",
     "output_type": "stream",
     "text": [
      " 30%|███       | 3/10 [00:43<01:57, 16.82s/it]"
     ]
    },
    {
     "name": "stdout",
     "output_type": "stream",
     "text": [
      "brute force 1 query time: 3.1756908893585205\n",
      "brute force 2 query time: 1.394545555114746\n",
      "KDtree index: 0.0030693411827087402\n",
      "KDtree query time: 0.5788576006889343\n",
      "Balltree index: 0.002509772777557373\n",
      "Balltree query time: 0.5293790102005005\n",
      "SNN index: 0.0020872950553894043\n",
      "SNN query time: 0.48824137449264526\n",
      "\n"
     ]
    },
    {
     "name": "stderr",
     "output_type": "stream",
     "text": [
      " 40%|████      | 4/10 [01:22<02:34, 25.71s/it]"
     ]
    },
    {
     "name": "stdout",
     "output_type": "stream",
     "text": [
      "brute force 1 query time: 5.144675433635712\n",
      "brute force 2 query time: 2.3802172541618347\n",
      "KDtree index: 0.00430828332901001\n",
      "KDtree query time: 0.8249497413635254\n",
      "Balltree index: 0.003761768341064453\n",
      "Balltree query time: 0.7263235449790955\n",
      "SNN index: 0.0025453567504882812\n",
      "SNN query time: 0.7402318120002747\n",
      "\n"
     ]
    },
    {
     "name": "stderr",
     "output_type": "stream",
     "text": [
      " 50%|█████     | 5/10 [02:18<03:02, 36.44s/it]"
     ]
    },
    {
     "name": "stdout",
     "output_type": "stream",
     "text": [
      "brute force 1 query time: 7.087666749954224\n",
      "brute force 2 query time: 3.681662142276764\n",
      "KDtree index: 0.005215764045715332\n",
      "KDtree query time: 1.0859613418579102\n",
      "Balltree index: 0.0047035813331604\n",
      "Balltree query time: 0.9622530341148376\n",
      "SNN index: 0.0028922557830810547\n",
      "SNN query time: 1.0338107347488403\n",
      "\n"
     ]
    },
    {
     "name": "stderr",
     "output_type": "stream",
     "text": [
      " 60%|██████    | 6/10 [03:34<03:19, 49.84s/it]"
     ]
    },
    {
     "name": "stdout",
     "output_type": "stream",
     "text": [
      "brute force 1 query time: 9.731633722782135\n",
      "brute force 2 query time: 5.241536498069763\n",
      "KDtree index: 0.006183266639709473\n",
      "KDtree query time: 1.3754166960716248\n",
      "Balltree index: 0.005447089672088623\n",
      "Balltree query time: 1.2282388806343079\n",
      "SNN index: 0.0034348368644714355\n",
      "SNN query time: 1.373120665550232\n",
      "\n"
     ]
    },
    {
     "name": "stderr",
     "output_type": "stream",
     "text": [
      " 70%|███████   | 7/10 [05:11<03:16, 65.45s/it]"
     ]
    },
    {
     "name": "stdout",
     "output_type": "stream",
     "text": [
      "brute force 1 query time: 12.248842358589172\n",
      "brute force 2 query time: 7.115262687206268\n",
      "KDtree index: 0.008004963397979736\n",
      "KDtree query time: 1.7392653822898865\n",
      "Balltree index: 0.007214725017547607\n",
      "Balltree query time: 1.491420567035675\n",
      "SNN index: 0.003874361515045166\n",
      "SNN query time: 1.7784140706062317\n",
      "\n"
     ]
    },
    {
     "name": "stderr",
     "output_type": "stream",
     "text": [
      " 80%|████████  | 8/10 [07:14<02:47, 83.68s/it]"
     ]
    },
    {
     "name": "stdout",
     "output_type": "stream",
     "text": [
      "brute force 1 query time: 15.338769853115082\n",
      "brute force 2 query time: 9.253592789173126\n",
      "KDtree index: 0.008931279182434082\n",
      "KDtree query time: 2.0739572048187256\n",
      "Balltree index: 0.008131742477416992\n",
      "Balltree query time: 1.7861424088478088\n",
      "SNN index: 0.0043312907218933105\n",
      "SNN query time: 2.2049666047096252\n",
      "\n"
     ]
    },
    {
     "name": "stderr",
     "output_type": "stream",
     "text": [
      " 90%|█████████ | 9/10 [09:47<01:45, 105.43s/it]"
     ]
    },
    {
     "name": "stdout",
     "output_type": "stream",
     "text": [
      "brute force 1 query time: 19.250915050506592\n",
      "brute force 2 query time: 11.800126552581787\n",
      "KDtree index: 0.010350525379180908\n",
      "KDtree query time: 2.4286020398139954\n",
      "Balltree index: 0.009354054927825928\n",
      "Balltree query time: 2.114581048488617\n",
      "SNN index: 0.004893898963928223\n",
      "SNN query time: 2.6850820183753967\n",
      "\n"
     ]
    },
    {
     "name": "stderr",
     "output_type": "stream",
     "text": [
      "100%|██████████| 10/10 [12:50<00:00, 77.07s/it] "
     ]
    },
    {
     "name": "stdout",
     "output_type": "stream",
     "text": [
      "brute force 1 query time: 22.647675335407257\n",
      "brute force 2 query time: 14.51008516550064\n",
      "KDtree index: 0.011499345302581787\n",
      "KDtree query time: 2.808230400085449\n",
      "Balltree index: 0.01030033826828003\n",
      "Balltree query time: 2.453445017337799\n",
      "SNN index: 0.005533933639526367\n",
      "SNN query time: 3.259497106075287\n",
      "\n"
     ]
    },
    {
     "name": "stderr",
     "output_type": "stream",
     "text": [
      "\n"
     ]
    }
   ],
   "source": [
    "n_samples = 3000\n",
    "unit_inc = 3000\n",
    "n_dim =  2\n",
    "Rlist = [0.1, 0.3, 0.5, 0.7]\n",
    "\n",
    "\n",
    "index_time_kd = list()\n",
    "index_time_bl = list()\n",
    "index_time_sn = list()\n",
    "\n",
    "run_time_bf1 = list()\n",
    "run_time_bf2 = list()\n",
    "run_time_kd = list()\n",
    "run_time_bl = list()\n",
    "run_time_sn = list()\n",
    "\n",
    "rng = np.random.RandomState(0)\n",
    "xrange = np.arange(n_samples, n_samples + 10*unit_inc, unit_inc)\n",
    "for size in tqdm(range(len(xrange))):\n",
    "    i = xrange[size]\n",
    "    data = rng.random_sample((2*i, n_dim)) \n",
    "    data = (data - data.mean(axis=0))/data.std(axis=0)\n",
    "    X = data[:i]\n",
    "    Query = data[i:]\n",
    "    \n",
    "    bf1et = 0\n",
    "    bf2et = 0\n",
    "    kd_id_et = 0\n",
    "    kd_qy_et = 0 \n",
    "    bl_id_et = 0\n",
    "    bl_qy_et = 0\n",
    "    sn_id_et = 0\n",
    "    sn_qy_et = 0\n",
    "    \n",
    "    for R in Rlist:\n",
    "        st = time.time()\n",
    "        neigh = NearestNeighbors(radius=R, algorithm='brute')\n",
    "        neigh.fit(X)\n",
    "        for j in range(Query.shape[0]): \n",
    "            ind = neigh.radius_neighbors(\n",
    "               Query[j:j+1], radius=R, return_distance=False\n",
    "            )\n",
    "        bf1et += time.time() - st\n",
    "\n",
    "        st = time.time()\n",
    "        for j in range(Query.shape[0]): \n",
    "            ind = bf_radius_fairness(Query[j], X, R, return_distance=False)\n",
    "        bf2et += time.time() - st\n",
    "\n",
    "        # KDtree\n",
    "        st = time.time()\n",
    "        kdtree = KDTree(X, leaf_size=leaf_size)       \n",
    "        kd_id_et += time.time() - st\n",
    "        \n",
    "        \n",
    "        st = time.time()\n",
    "        for j in range(Query.shape[0]): \n",
    "            kdind = kdtree.query_radius(Query[j:j+1], r=R, return_distance=False) \n",
    "        kd_qy_et += time.time() - st\n",
    "        \n",
    "        # Balltree\n",
    "        st = time.time()\n",
    "        bltree = BallTree(X, leaf_size=leaf_size)\n",
    "        bl_id_et += time.time() - st\n",
    "        \n",
    "        st = time.time()\n",
    "        for j in range(Query.shape[0]): \n",
    "            blind = bltree.query_radius(Query[j:j+1], r=R, return_distance=False)  \n",
    "        bl_qy_et += time.time() - st\n",
    "        \n",
    "        # snn\n",
    "        st = time.time()\n",
    "        snn = build_snn_model(X)\n",
    "        sn_id_et += time.time() - st\n",
    "        \n",
    "        st = time.time()\n",
    "        for j in range(Query.shape[0]): \n",
    "            sind = snn.radius_single_query(Query[j], R)\n",
    "        sn_qy_et += time.time() - st\n",
    "        \n",
    "        \n",
    "    print(\"brute force 1 query time:\", bf1et/ len(Rlist))\n",
    "    print(\"brute force 2 query time:\", bf2et/ len(Rlist))\n",
    "    print(\"KDtree index:\", kd_id_et/ len(Rlist))\n",
    "    print(\"KDtree query time:\", kd_qy_et/ len(Rlist))\n",
    "    print(\"Balltree index:\", bl_id_et/ len(Rlist))\n",
    "    print(\"Balltree query time:\", bl_qy_et/ len(Rlist))\n",
    "    print(\"SNN index:\", sn_id_et/ len(Rlist))\n",
    "    print(\"SNN query time:\", sn_qy_et/ len(Rlist))\n",
    "    \n",
    "    index_time_kd.append( kd_id_et / len(Rlist))\n",
    "    run_time_bf1.append(bf1et / len(Rlist))\n",
    "    run_time_bf2.append(bf2et / len(Rlist))\n",
    "    run_time_kd.append( kd_qy_et / len(Rlist))\n",
    "    index_time_bl.append( bl_id_et / len(Rlist))\n",
    "    run_time_bl.append( bl_qy_et / len(Rlist))\n",
    "    index_time_sn.append(sn_id_et / len(Rlist))\n",
    "    run_time_sn.append(sn_qy_et/ len(Rlist))\n",
    "    print()"
   ]
  },
  {
   "cell_type": "code",
   "execution_count": 3,
   "id": "possible-carol",
   "metadata": {},
   "outputs": [],
   "source": [
    "### save the data\n",
    "\n",
    "index_time_kd = np.array(index_time_kd)\n",
    "index_time_bl = np.array(index_time_bl) \n",
    "index_time_sn = np.array(index_time_sn) \n",
    "\n",
    "run_time_bf1 = np.array(run_time_bf1)\n",
    "run_time_bf2 = np.array(run_time_bf2)\n",
    "run_time_kd = np.array(run_time_kd)\n",
    "run_time_bl = np.array(run_time_bl)\n",
    "run_time_sn = np.array(run_time_sn)\n",
    "\n",
    "\n",
    "with open('result/query_r/size/index_time_kd_d2.npy', 'wb') as f:\n",
    "    np.save(f, index_time_kd)\n",
    "\n",
    "with open('result/query_r/size/index_time_bl_d2.npy', 'wb') as f:\n",
    "    np.save(f, index_time_bl)\n",
    "\n",
    "with open('result/query_r/size/index_time_sn_d2.npy', 'wb') as f:\n",
    "    np.save(f, index_time_sn)\n",
    "    \n",
    "with open('result/query_r/size/run_time_bf1_d2.npy', 'wb') as f:\n",
    "    np.save(f, run_time_bf1)\n",
    "\n",
    "with open('result/query_r/size/run_time_bf2_d2.npy', 'wb') as f:\n",
    "    np.save(f, run_time_bf2)\n",
    "\n",
    "with open('result/query_r/size/run_time_kd_d2.npy', 'wb') as f:\n",
    "    np.save(f, run_time_kd)\n",
    "\n",
    "with open('result/query_r/size/run_time_bl_d2.npy', 'wb') as f:\n",
    "    np.save(f, run_time_bl)\n",
    "    \n",
    "with open('result/query_r/size/run_time_sn_d2.npy', 'wb') as f:\n",
    "    np.save(f, run_time_sn)\n",
    "    "
   ]
  },
  {
   "cell_type": "markdown",
   "id": "adequate-marker",
   "metadata": {},
   "source": [
    "### size (ndim=50)"
   ]
  },
  {
   "cell_type": "code",
   "execution_count": 4,
   "id": "mental-anime",
   "metadata": {},
   "outputs": [
    {
     "name": "stderr",
     "output_type": "stream",
     "text": [
      " 10%|█         | 1/10 [00:19<02:53, 19.24s/it]"
     ]
    },
    {
     "name": "stdout",
     "output_type": "stream",
     "text": [
      "brute force 1 query time: 1.3037661910057068\n",
      "brute force 2 query time: 0.7395937442779541\n",
      "KDtree index: 0.011156439781188965\n",
      "KDtree query time: 1.5375614762306213\n",
      "Balltree index: 0.007027685642242432\n",
      "Balltree query time: 0.8262796998023987\n",
      "SNN index: 0.0031054019927978516\n",
      "SNN query time: 0.37819039821624756\n",
      "\n"
     ]
    },
    {
     "name": "stderr",
     "output_type": "stream",
     "text": [
      " 20%|██        | 2/10 [01:27<06:26, 48.30s/it]"
     ]
    },
    {
     "name": "stdout",
     "output_type": "stream",
     "text": [
      "brute force 1 query time: 3.835493266582489\n",
      "brute force 2 query time: 2.8898231983184814\n",
      "KDtree index: 0.025729894638061523\n",
      "KDtree query time: 5.924376487731934\n",
      "Balltree index: 0.01630955934524536\n",
      "Balltree query time: 3.019830346107483\n",
      "SNN index: 0.0058748722076416016\n",
      "SNN query time: 1.436510443687439\n",
      "\n"
     ]
    },
    {
     "name": "stderr",
     "output_type": "stream",
     "text": [
      " 30%|███       | 3/10 [03:46<10:26, 89.57s/it]"
     ]
    },
    {
     "name": "stdout",
     "output_type": "stream",
     "text": [
      "brute force 1 query time: 7.607973217964172\n",
      "brute force 2 query time: 6.37258380651474\n",
      "KDtree index: 0.03843998908996582\n",
      "KDtree query time: 10.893828272819519\n",
      "Balltree index: 0.02500206232070923\n",
      "Balltree query time: 6.600370347499847\n",
      "SNN index: 0.009417951107025146\n",
      "SNN query time: 3.1163224577903748\n",
      "\n"
     ]
    },
    {
     "name": "stderr",
     "output_type": "stream",
     "text": [
      " 40%|████      | 4/10 [08:06<15:42, 157.00s/it]"
     ]
    },
    {
     "name": "stdout",
     "output_type": "stream",
     "text": [
      "brute force 1 query time: 13.54728478193283\n",
      "brute force 2 query time: 11.249231457710266\n",
      "KDtree index: 0.058674514293670654\n",
      "KDtree query time: 22.90510267019272\n",
      "Balltree index: 0.03810042142868042\n",
      "Balltree query time: 11.816990494728088\n",
      "SNN index: 0.013031065464019775\n",
      "SNN query time: 5.456111252307892\n",
      "\n"
     ]
    },
    {
     "name": "stderr",
     "output_type": "stream",
     "text": [
      " 50%|█████     | 5/10 [14:15<19:25, 233.16s/it]"
     ]
    },
    {
     "name": "stdout",
     "output_type": "stream",
     "text": [
      "brute force 1 query time: 18.82118934392929\n",
      "brute force 2 query time: 16.519225895404816\n",
      "KDtree index: 0.0731281042098999\n",
      "KDtree query time: 31.06842678785324\n",
      "Balltree index: 0.04761242866516113\n",
      "Balltree query time: 17.168461740016937\n",
      "SNN index: 0.013477802276611328\n",
      "SNN query time: 8.32328599691391\n",
      "\n"
     ]
    },
    {
     "name": "stderr",
     "output_type": "stream",
     "text": [
      " 60%|██████    | 6/10 [22:43<21:47, 326.78s/it]"
     ]
    },
    {
     "name": "stdout",
     "output_type": "stream",
     "text": [
      "brute force 1 query time: 26.033434808254242\n",
      "brute force 2 query time: 22.645133137702942\n",
      "KDtree index: 0.08812016248703003\n",
      "KDtree query time: 41.558883011341095\n",
      "Balltree index: 0.05802947282791138\n",
      "Balltree query time: 24.872269332408905\n",
      "SNN index: 0.014277875423431396\n",
      "SNN query time: 11.844896078109741\n",
      "\n"
     ]
    },
    {
     "name": "stderr",
     "output_type": "stream",
     "text": [
      " 70%|███████   | 7/10 [35:27<23:28, 469.55s/it]"
     ]
    },
    {
     "name": "stdout",
     "output_type": "stream",
     "text": [
      "brute force 1 query time: 35.552964210510254\n",
      "brute force 2 query time: 29.89563548564911\n",
      "KDtree index: 0.11607033014297485\n",
      "KDtree query time: 74.26196736097336\n",
      "Balltree index: 0.07588553428649902\n",
      "Balltree query time: 34.863049387931824\n",
      "SNN index: 0.017639458179473877\n",
      "SNN query time: 16.07345223426819\n",
      "\n"
     ]
    },
    {
     "name": "stderr",
     "output_type": "stream",
     "text": [
      " 80%|████████  | 8/10 [51:46<21:03, 631.99s/it]"
     ]
    },
    {
     "name": "stdout",
     "output_type": "stream",
     "text": [
      "brute force 1 query time: 47.26668077707291\n",
      "brute force 2 query time: 38.344806134700775\n",
      "KDtree index: 0.13287150859832764\n",
      "KDtree query time: 91.41273123025894\n",
      "Balltree index: 0.08741980791091919\n",
      "Balltree query time: 46.024673104286194\n",
      "SNN index: 0.02023792266845703\n",
      "SNN query time: 21.64852273464203\n",
      "\n"
     ]
    },
    {
     "name": "stderr",
     "output_type": "stream",
     "text": [
      " 90%|█████████ | 9/10 [1:12:25<13:41, 821.56s/it]"
     ]
    },
    {
     "name": "stdout",
     "output_type": "stream",
     "text": [
      "brute force 1 query time: 61.382205069065094\n",
      "brute force 2 query time: 49.941778898239136\n",
      "KDtree index: 0.14984172582626343\n",
      "KDtree query time: 111.3689147233963\n",
      "Balltree index: 0.09907758235931396\n",
      "Balltree query time: 58.862460911273956\n",
      "SNN index: 0.021391689777374268\n",
      "SNN query time: 27.75183594226837\n",
      "\n"
     ]
    },
    {
     "name": "stderr",
     "output_type": "stream",
     "text": [
      "100%|██████████| 10/10 [1:39:37<00:00, 597.73s/it] "
     ]
    },
    {
     "name": "stdout",
     "output_type": "stream",
     "text": [
      "brute force 1 query time: 83.29248046875\n",
      "brute force 2 query time: 65.53899598121643\n",
      "KDtree index: 0.16860413551330566\n",
      "KDtree query time: 141.1906782388687\n",
      "Balltree index: 0.11163163185119629\n",
      "Balltree query time: 81.40453153848648\n",
      "SNN index: 0.023865103721618652\n",
      "SNN query time: 36.23881542682648\n",
      "\n"
     ]
    },
    {
     "name": "stderr",
     "output_type": "stream",
     "text": [
      "\n"
     ]
    }
   ],
   "source": [
    "n_samples = 3000\n",
    "unit_inc = 3000\n",
    "n_dim =  50\n",
    "Rlist = [8, 10, 12, 14]\n",
    "\n",
    "\n",
    "index_time_kd = list()\n",
    "index_time_bl = list()\n",
    "index_time_sn = list()\n",
    "\n",
    "run_time_bf1 = list()\n",
    "run_time_bf2 = list()\n",
    "run_time_kd = list()\n",
    "run_time_bl = list()\n",
    "run_time_sn = list()\n",
    "\n",
    "rng = np.random.RandomState(0)\n",
    "xrange = np.arange(n_samples, n_samples + 10*unit_inc, unit_inc)\n",
    "for size in tqdm(range(len(xrange))):\n",
    "    i = xrange[size]\n",
    "    data = rng.random_sample((2*i, n_dim)) \n",
    "    data = (data - data.mean(axis=0))/data.std(axis=0)\n",
    "    X = data[:i]\n",
    "    Query = data[i:]\n",
    "     \n",
    "    bf1et = 0\n",
    "    bf2et = 0\n",
    "    kd_id_et = 0\n",
    "    kd_qy_et = 0 \n",
    "    bl_id_et = 0\n",
    "    bl_qy_et = 0\n",
    "    sn_id_et = 0\n",
    "    sn_qy_et = 0\n",
    "    \n",
    "    for R in Rlist:\n",
    "        st = time.time()\n",
    "        neigh = NearestNeighbors(radius=R, algorithm='brute')\n",
    "        neigh.fit(X)\n",
    "        for j in range(Query.shape[0]): \n",
    "            ind = neigh.radius_neighbors(\n",
    "               Query[j:j+1], radius=R, return_distance=False\n",
    "            )\n",
    "        bf1et += time.time() - st\n",
    "\n",
    "        st = time.time()\n",
    "        for j in range(Query.shape[0]): \n",
    "            ind = bf_radius_fairness(Query[j], X, R, return_distance=False)\n",
    "        bf2et += time.time() - st\n",
    "\n",
    "        # KDtree\n",
    "        st = time.time()\n",
    "        kdtree = KDTree(X, leaf_size=leaf_size)       \n",
    "        kd_id_et += time.time() - st\n",
    "        \n",
    "        \n",
    "        st = time.time()\n",
    "        for j in range(Query.shape[0]): \n",
    "            kdind = kdtree.query_radius(Query[j:j+1], r=R, return_distance=False) \n",
    "        kd_qy_et += time.time() - st\n",
    "        \n",
    "        # Balltree\n",
    "        st = time.time()\n",
    "        bltree = BallTree(X, leaf_size=leaf_size)\n",
    "        bl_id_et += time.time() - st\n",
    "        \n",
    "        st = time.time()\n",
    "        for j in range(Query.shape[0]): \n",
    "            blind = bltree.query_radius(Query[j:j+1], r=R, return_distance=False)  \n",
    "        bl_qy_et += time.time() - st\n",
    "        \n",
    "        # snn\n",
    "        st = time.time()\n",
    "        snn = build_snn_model(X)\n",
    "        sn_id_et += time.time() - st\n",
    "        \n",
    "        st = time.time()\n",
    "        for j in range(Query.shape[0]): \n",
    "            sind = snn.radius_single_query(Query[j], R)\n",
    "        sn_qy_et += time.time() - st\n",
    "        \n",
    "        \n",
    "    print(\"brute force 1 query time:\", bf1et/ len(Rlist))\n",
    "    print(\"brute force 2 query time:\", bf2et/ len(Rlist))\n",
    "    print(\"KDtree index:\", kd_id_et/ len(Rlist))\n",
    "    print(\"KDtree query time:\", kd_qy_et/ len(Rlist))\n",
    "    print(\"Balltree index:\", bl_id_et/ len(Rlist))\n",
    "    print(\"Balltree query time:\", bl_qy_et/ len(Rlist))\n",
    "    print(\"SNN index:\", sn_id_et/ len(Rlist))\n",
    "    print(\"SNN query time:\", sn_qy_et/ len(Rlist))\n",
    "    \n",
    "    index_time_kd.append(kd_id_et / len(Rlist))\n",
    "    run_time_bf1.append(bf1et / len(Rlist))\n",
    "    run_time_bf2.append(bf2et / len(Rlist))\n",
    "    run_time_kd.append( kd_qy_et / len(Rlist))\n",
    "    index_time_bl.append( bl_id_et / len(Rlist))\n",
    "    run_time_bl.append( bl_qy_et / len(Rlist))\n",
    "    index_time_sn.append(sn_id_et / len(Rlist))\n",
    "    run_time_sn.append(sn_qy_et / len(Rlist))\n",
    "    print()"
   ]
  },
  {
   "cell_type": "code",
   "execution_count": 5,
   "id": "willing-proportion",
   "metadata": {},
   "outputs": [],
   "source": [
    "### save the data\n",
    "\n",
    "index_time_kd = np.array(index_time_kd)\n",
    "index_time_bl = np.array(index_time_bl) \n",
    "index_time_sn = np.array(index_time_sn) \n",
    "\n",
    "run_time_bf1 = np.array(run_time_bf1)\n",
    "run_time_bf2 = np.array(run_time_bf2)\n",
    "run_time_kd = np.array(run_time_kd)\n",
    "run_time_bl = np.array(run_time_bl)\n",
    "run_time_sn = np.array(run_time_sn)\n",
    "\n",
    "\n",
    "with open('result/query_r/size/index_time_kd.npy', 'wb') as f:\n",
    "    np.save(f, index_time_kd)\n",
    "\n",
    "with open('result/query_r/size/index_time_bl.npy', 'wb') as f:\n",
    "    np.save(f, index_time_bl)\n",
    "\n",
    "with open('result/query_r/size/index_time_sn.npy', 'wb') as f:\n",
    "    np.save(f, index_time_sn)\n",
    "    \n",
    "with open('result/query_r/size/run_time_bf1.npy', 'wb') as f:\n",
    "    np.save(f, run_time_bf1)\n",
    "\n",
    "with open('result/query_r/size/run_time_bf2.npy', 'wb') as f:\n",
    "    np.save(f, run_time_bf2)\n",
    "\n",
    "with open('result/query_r/size/run_time_kd.npy', 'wb') as f:\n",
    "    np.save(f, run_time_kd)\n",
    "\n",
    "with open('result/query_r/size/run_time_bl.npy', 'wb') as f:\n",
    "    np.save(f, run_time_bl)\n",
    "    \n",
    "with open('result/query_r/size/run_time_sn.npy', 'wb') as f:\n",
    "    np.save(f, run_time_sn)\n",
    "    "
   ]
  },
  {
   "cell_type": "markdown",
   "id": "optimum-lucas",
   "metadata": {},
   "source": [
    "### dimensions"
   ]
  },
  {
   "cell_type": "code",
   "execution_count": 6,
   "id": "convenient-miracle",
   "metadata": {},
   "outputs": [
    {
     "name": "stderr",
     "output_type": "stream",
     "text": [
      " 10%|█         | 1/10 [00:34<05:06, 34.10s/it]"
     ]
    },
    {
     "name": "stdout",
     "output_type": "stream",
     "text": [
      "average query returns: 0.0\n",
      "brute force 1 query time: 4.440850675106049\n",
      "brute force 2 query time: 1.7097725868225098\n",
      "KDtree index: 0.0031988024711608887\n",
      "KDtree query time: 0.7272554636001587\n",
      "Balltree index: 0.002761542797088623\n",
      "Balltree query time: 0.6679717302322388\n",
      "SNN index: 0.0019333958625793457\n",
      "SNN query time: 0.9706563353538513\n",
      "\n"
     ]
    },
    {
     "name": "stderr",
     "output_type": "stream",
     "text": [
      " 20%|██        | 2/10 [02:03<08:52, 66.53s/it]"
     ]
    },
    {
     "name": "stdout",
     "output_type": "stream",
     "text": [
      "average query returns: 0.0\n",
      "brute force 1 query time: 7.292487263679504\n",
      "brute force 2 query time: 5.027884602546692\n",
      "KDtree index: 0.029164373874664307\n",
      "KDtree query time: 4.522170901298523\n",
      "Balltree index: 0.019347310066223145\n",
      "Balltree query time: 3.0250934958457947\n",
      "SNN index: 0.005454123020172119\n",
      "SNN query time: 2.3813045620918274\n",
      "\n"
     ]
    },
    {
     "name": "stderr",
     "output_type": "stream",
     "text": [
      " 30%|███       | 3/10 [04:54<13:18, 114.12s/it]"
     ]
    },
    {
     "name": "stdout",
     "output_type": "stream",
     "text": [
      "average query returns: 0.0\n",
      "brute force 1 query time: 11.007648825645447\n",
      "brute force 2 query time: 9.410588145256042\n",
      "KDtree index: 0.05222368240356445\n",
      "KDtree query time: 11.073655903339386\n",
      "Balltree index: 0.03387737274169922\n",
      "Balltree query time: 7.165535271167755\n",
      "SNN index: 0.010295331478118896\n",
      "SNN query time: 3.9279227256774902\n",
      "\n"
     ]
    },
    {
     "name": "stderr",
     "output_type": "stream",
     "text": [
      " 40%|████      | 4/10 [09:02<16:41, 166.99s/it]"
     ]
    },
    {
     "name": "stdout",
     "output_type": "stream",
     "text": [
      "average query returns: 0.0\n",
      "brute force 1 query time: 13.717373251914978\n",
      "brute force 2 query time: 11.772422194480896\n",
      "KDtree index: 0.0761823058128357\n",
      "KDtree query time: 21.083118677139282\n",
      "Balltree index: 0.050131797790527344\n",
      "Balltree query time: 10.417532622814178\n",
      "SNN index: 0.015426933765411377\n",
      "SNN query time: 4.866433560848236\n",
      "\n"
     ]
    },
    {
     "name": "stderr",
     "output_type": "stream",
     "text": [
      " 50%|█████     | 5/10 [14:45<19:12, 230.56s/it]"
     ]
    },
    {
     "name": "stdout",
     "output_type": "stream",
     "text": [
      "average query returns: 0.0\n",
      "brute force 1 query time: 17.257472455501556\n",
      "brute force 2 query time: 14.872146368026733\n",
      "KDtree index: 0.10170495510101318\n",
      "KDtree query time: 28.248856484889984\n",
      "Balltree index: 0.06731230020523071\n",
      "Balltree query time: 18.44152396917343\n",
      "SNN index: 0.02217167615890503\n",
      "SNN query time: 6.791499495506287\n",
      "\n"
     ]
    },
    {
     "name": "stderr",
     "output_type": "stream",
     "text": [
      " 60%|██████    | 6/10 [22:15<20:20, 305.09s/it]"
     ]
    },
    {
     "name": "stdout",
     "output_type": "stream",
     "text": [
      "average query returns: 0.0\n",
      "brute force 1 query time: 24.101740300655365\n",
      "brute force 2 query time: 18.59920960664749\n",
      "KDtree index: 0.12403494119644165\n",
      "KDtree query time: 36.74502789974213\n",
      "Balltree index: 0.08419114351272583\n",
      "Balltree query time: 24.770907640457153\n",
      "SNN index: 0.02874445915222168\n",
      "SNN query time: 7.9739073514938354\n",
      "\n"
     ]
    },
    {
     "name": "stderr",
     "output_type": "stream",
     "text": [
      " 70%|███████   | 7/10 [32:28<20:17, 405.71s/it]"
     ]
    },
    {
     "name": "stdout",
     "output_type": "stream",
     "text": [
      "average query returns: 0.0\n",
      "brute force 1 query time: 34.942908465862274\n",
      "brute force 2 query time: 26.839479386806488\n",
      "KDtree index: 0.15670043230056763\n",
      "KDtree query time: 46.986547231674194\n",
      "Balltree index: 0.10705995559692383\n",
      "Balltree query time: 32.5706827044487\n",
      "SNN index: 0.03653371334075928\n",
      "SNN query time: 11.54886257648468\n",
      "\n"
     ]
    },
    {
     "name": "stderr",
     "output_type": "stream",
     "text": [
      " 80%|████████  | 8/10 [45:44<17:40, 530.15s/it]"
     ]
    },
    {
     "name": "stdout",
     "output_type": "stream",
     "text": [
      "average query returns: 0.0\n",
      "brute force 1 query time: 45.255326211452484\n",
      "brute force 2 query time: 36.53483563661575\n",
      "KDtree index: 0.18263334035873413\n",
      "KDtree query time: 58.748392939567566\n",
      "Balltree index: 0.12711012363433838\n",
      "Balltree query time: 42.70298606157303\n",
      "SNN index: 0.04510164260864258\n",
      "SNN query time: 15.528895199298859\n",
      "\n"
     ]
    },
    {
     "name": "stderr",
     "output_type": "stream",
     "text": [
      " 90%|█████████ | 9/10 [1:01:54<11:07, 667.56s/it]"
     ]
    },
    {
     "name": "stdout",
     "output_type": "stream",
     "text": [
      "average query returns: 0.0\n",
      "brute force 1 query time: 55.04029655456543\n",
      "brute force 2 query time: 45.49281454086304\n",
      "KDtree index: 0.2175711989402771\n",
      "KDtree query time: 70.31866812705994\n",
      "Balltree index: 0.15293854475021362\n",
      "Balltree query time: 51.99373185634613\n",
      "SNN index: 0.055715978145599365\n",
      "SNN query time: 19.120432257652283\n",
      "\n"
     ]
    },
    {
     "name": "stderr",
     "output_type": "stream",
     "text": [
      "100%|██████████| 10/10 [1:20:47<00:00, 484.71s/it]"
     ]
    },
    {
     "name": "stdout",
     "output_type": "stream",
     "text": [
      "average query returns: 0.0\n",
      "brute force 1 query time: 65.93228161334991\n",
      "brute force 2 query time: 53.79165202379227\n",
      "KDtree index: 0.24516594409942627\n",
      "KDtree query time: 80.05057007074356\n",
      "Balltree index: 0.17285913228988647\n",
      "Balltree query time: 59.7801952958107\n",
      "SNN index: 0.06613820791244507\n",
      "SNN query time: 23.120337188243866\n",
      "\n"
     ]
    },
    {
     "name": "stderr",
     "output_type": "stream",
     "text": [
      "\n"
     ]
    }
   ],
   "source": [
    "n_samples = 10000\n",
    "unit_inc = 30\n",
    "Rlist = [2.5, 9, 15.5, 22]\n",
    "rng = np.random.RandomState(0)\n",
    "\n",
    "\n",
    "index_time_kd = list()\n",
    "index_time_bl = list()\n",
    "index_time_sn = list()\n",
    "\n",
    "run_time_bf1 = list()\n",
    "run_time_bf2 = list()\n",
    "run_time_kd = list()\n",
    "run_time_bl = list()\n",
    "run_time_sn = list()\n",
    "\n",
    "xrange = np.arange(2, 2 + 10*unit_inc, unit_inc)\n",
    "for dim in tqdm(range(len(xrange))):\n",
    "    qm = 0\n",
    "    i = xrange[dim]\n",
    "    data = rng.random_sample((2*n_samples, i)) \n",
    "    data = (data - data.mean(axis=0))/data.std(axis=0)\n",
    "    X = data[:n_samples]\n",
    "    Query = data[n_samples:]\n",
    "    \n",
    "    bf1et = 0\n",
    "    bf2et = 0\n",
    "    kd_id_et = 0\n",
    "    kd_qy_et = 0 \n",
    "    bl_id_et = 0\n",
    "    bl_qy_et = 0\n",
    "    sn_id_et = 0\n",
    "    sn_qy_et = 0\n",
    "    \n",
    "    for R in Rlist:\n",
    "        st = time.time()\n",
    "        neigh = NearestNeighbors(radius=R, algorithm='brute')\n",
    "        neigh.fit(X)\n",
    "        for j in range(Query.shape[0]): \n",
    "            ind = neigh.radius_neighbors(\n",
    "               Query[j:j+1], radius=R, return_distance=False\n",
    "            )\n",
    "        bf1et += time.time() - st\n",
    "\n",
    "        st = time.time()\n",
    "        for j in range(Query.shape[0]): \n",
    "            ind = bf_radius_fairness(Query[j], X, R, return_distance=False)\n",
    "        bf2et += time.time() - st\n",
    "\n",
    "        # KDtree\n",
    "        st = time.time()\n",
    "        kdtree = KDTree(X, leaf_size=leaf_size)       \n",
    "        kd_id_et += time.time() - st\n",
    "        \n",
    "        \n",
    "        st = time.time()\n",
    "        for j in range(Query.shape[0]): \n",
    "            kdind = kdtree.query_radius(Query[j:j+1], r=R, return_distance=False) \n",
    "        kd_qy_et += time.time() - st\n",
    "        \n",
    "        # Balltree\n",
    "        st = time.time()\n",
    "        bltree = BallTree(X, leaf_size=leaf_size)\n",
    "        bl_id_et += time.time() - st\n",
    "        \n",
    "        st = time.time()\n",
    "        for j in range(Query.shape[0]): \n",
    "            blind = bltree.query_radius(Query[j:j+1], r=R, return_distance=False)  \n",
    "        bl_qy_et += time.time() - st\n",
    "        \n",
    "        # snn\n",
    "        st = time.time()\n",
    "        snn = build_snn_model(X)\n",
    "        sn_id_et += time.time() - st\n",
    "        \n",
    "        st = time.time()\n",
    "        for j in range(Query.shape[0]): \n",
    "            sind = snn.radius_single_query(Query[j], R)\n",
    "        sn_qy_et += time.time() - st\n",
    "        \n",
    "        \n",
    "    print(\"brute force 1 query time:\", bf1et/ len(Rlist))\n",
    "    print(\"brute force 2 query time:\", bf2et/ len(Rlist))\n",
    "    print(\"KDtree index:\", kd_id_et/ len(Rlist))\n",
    "    print(\"KDtree query time:\", kd_qy_et/ len(Rlist))\n",
    "    print(\"Balltree index:\", bl_id_et/ len(Rlist))\n",
    "    print(\"Balltree query time:\", bl_qy_et/ len(Rlist))\n",
    "    print(\"SNN index:\", sn_id_et/ len(Rlist))\n",
    "    print(\"SNN query time:\", sn_qy_et/ len(Rlist))\n",
    "    \n",
    "    index_time_kd.append( kd_id_et / len(Rlist))\n",
    "    run_time_bf1.append(bf1et / len(Rlist))\n",
    "    run_time_bf2.append(bf2et / len(Rlist))\n",
    "    run_time_kd.append( kd_qy_et / len(Rlist))\n",
    "    index_time_bl.append( bl_id_et / len(Rlist))\n",
    "    run_time_bl.append( bl_qy_et / len(Rlist))\n",
    "    index_time_sn.append(sn_id_et / len(Rlist))\n",
    "    run_time_sn.append(sn_qy_et / len(Rlist))\n",
    "    print()\n"
   ]
  },
  {
   "cell_type": "code",
   "execution_count": 7,
   "id": "loving-carpet",
   "metadata": {
    "tags": []
   },
   "outputs": [],
   "source": [
    "### save the data\n",
    "\n",
    "index_time_kd = np.array(index_time_kd)\n",
    "index_time_bl = np.array(index_time_bl) \n",
    "index_time_sn = np.array(index_time_sn) \n",
    "\n",
    "run_time_bf1 = np.array(run_time_bf1)\n",
    "run_time_bf2 = np.array(run_time_bf2)\n",
    "run_time_kd = np.array(run_time_kd)\n",
    "run_time_bl = np.array(run_time_bl)\n",
    "run_time_sn = np.array(run_time_sn)\n",
    "\n",
    "with open('result/query_r/dim/index_time_kd.npy', 'wb') as f:\n",
    "    np.save(f, index_time_kd)\n",
    "\n",
    "with open('result/query_r/dim/index_time_bl.npy', 'wb') as f:\n",
    "    np.save(f, index_time_bl)\n",
    "\n",
    "with open('result/query_r/dim/index_time_sn.npy', 'wb') as f:\n",
    "    np.save(f, index_time_sn)\n",
    "    \n",
    "with open('result/query_r/dim/run_time_bf1.npy', 'wb') as f:\n",
    "    np.save(f, run_time_bf1)\n",
    "\n",
    "with open('result/query_r/dim/run_time_bf2.npy', 'wb') as f:\n",
    "    np.save(f, run_time_bf2)\n",
    "    \n",
    "with open('result/query_r/dim/run_time_kd.npy', 'wb') as f:\n",
    "    np.save(f, run_time_kd)\n",
    "\n",
    "with open('result/query_r/dim/run_time_bl.npy', 'wb') as f:\n",
    "    np.save(f, run_time_bl)\n",
    "    \n",
    "with open('result/query_r/dim/run_time_sn.npy', 'wb') as f:\n",
    "    np.save(f, run_time_sn)\n",
    "    "
   ]
  },
  {
   "cell_type": "code",
   "execution_count": null,
   "id": "biblical-edinburgh",
   "metadata": {},
   "outputs": [],
   "source": []
  },
  {
   "cell_type": "code",
   "execution_count": null,
   "id": "normal-terminal",
   "metadata": {},
   "outputs": [],
   "source": []
  },
  {
   "cell_type": "code",
   "execution_count": null,
   "id": "decent-guide",
   "metadata": {},
   "outputs": [],
   "source": []
  },
  {
   "cell_type": "code",
   "execution_count": null,
   "id": "sharing-affiliate",
   "metadata": {},
   "outputs": [],
   "source": []
  },
  {
   "cell_type": "code",
   "execution_count": null,
   "id": "comparative-tribune",
   "metadata": {},
   "outputs": [],
   "source": []
  }
 ],
 "metadata": {
  "kernelspec": {
   "display_name": "Python 3",
   "language": "python",
   "name": "python3"
  },
  "language_info": {
   "codemirror_mode": {
    "name": "ipython",
    "version": 3
   },
   "file_extension": ".py",
   "mimetype": "text/x-python",
   "name": "python",
   "nbconvert_exporter": "python",
   "pygments_lexer": "ipython3",
   "version": "3.9.2"
  }
 },
 "nbformat": 4,
 "nbformat_minor": 5
}
