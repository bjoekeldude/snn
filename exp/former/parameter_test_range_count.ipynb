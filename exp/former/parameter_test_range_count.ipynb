{
 "cells": [
  {
   "cell_type": "code",
   "execution_count": 1,
   "id": "vanilla-questionnaire",
   "metadata": {},
   "outputs": [],
   "source": [
    "import math\n",
    "import warnings\n",
    "import numpy as np\n",
    "from snnpy import *\n",
    "from sklearn.neighbors import BallTree\n",
    "from sklearn.neighbors import NearestNeighbors\n",
    "from sklearn.neighbors import KDTree\n",
    "from bf_search import *\n",
    "from tqdm import tqdm\n",
    "\n",
    "    \n",
    "def sigificant_digit(number, digits=2):\n",
    "    return round(number, digits - int(math.floor(math.log10(abs(number)))) - 1)\n",
    "\n",
    "\n",
    "warnings.filterwarnings(\"ignore\")"
   ]
  },
  {
   "cell_type": "markdown",
   "id": "combined-skirt",
   "metadata": {},
   "source": [
    "### size (ndim=2)"
   ]
  },
  {
   "cell_type": "code",
   "execution_count": 2,
   "id": "settled-honolulu",
   "metadata": {},
   "outputs": [
    {
     "name": "stderr",
     "output_type": "stream",
     "text": [
      "  0%|          | 0/10 [00:00<?, ?it/s]"
     ]
    },
    {
     "name": "stdout",
     "output_type": "stream",
     "text": [
      "3000, 6000, 9000, 12000, 15000, 18000, 21000, 24000, 27000, 30000\n"
     ]
    },
    {
     "name": "stderr",
     "output_type": "stream",
     "text": [
      " 10%|█         | 1/10 [00:00<00:05,  1.64it/s]"
     ]
    },
    {
     "name": "stdout",
     "output_type": "stream",
     "text": [
      "average query returns: 140.0\n",
      "\n"
     ]
    },
    {
     "name": "stderr",
     "output_type": "stream",
     "text": [
      " 20%|██        | 2/10 [00:02<00:08,  1.11s/it]"
     ]
    },
    {
     "name": "stdout",
     "output_type": "stream",
     "text": [
      "average query returns: 280.0\n",
      "\n"
     ]
    },
    {
     "name": "stderr",
     "output_type": "stream",
     "text": [
      " 30%|███       | 3/10 [00:04<00:11,  1.71s/it]"
     ]
    },
    {
     "name": "stdout",
     "output_type": "stream",
     "text": [
      "average query returns: 430.0\n",
      "\n"
     ]
    },
    {
     "name": "stderr",
     "output_type": "stream",
     "text": [
      " 40%|████      | 4/10 [00:08<00:14,  2.45s/it]"
     ]
    },
    {
     "name": "stdout",
     "output_type": "stream",
     "text": [
      "average query returns: 570.0\n",
      "\n"
     ]
    },
    {
     "name": "stderr",
     "output_type": "stream",
     "text": [
      " 50%|█████     | 5/10 [00:13<00:16,  3.36s/it]"
     ]
    },
    {
     "name": "stdout",
     "output_type": "stream",
     "text": [
      "average query returns: 710.0\n",
      "\n"
     ]
    },
    {
     "name": "stderr",
     "output_type": "stream",
     "text": [
      " 60%|██████    | 6/10 [00:19<00:17,  4.41s/it]"
     ]
    },
    {
     "name": "stdout",
     "output_type": "stream",
     "text": [
      "average query returns: 850.0\n",
      "\n"
     ]
    },
    {
     "name": "stderr",
     "output_type": "stream",
     "text": [
      " 70%|███████   | 7/10 [00:27<00:16,  5.66s/it]"
     ]
    },
    {
     "name": "stdout",
     "output_type": "stream",
     "text": [
      "average query returns: 990.0\n",
      "\n"
     ]
    },
    {
     "name": "stderr",
     "output_type": "stream",
     "text": [
      " 80%|████████  | 8/10 [00:37<00:14,  7.11s/it]"
     ]
    },
    {
     "name": "stdout",
     "output_type": "stream",
     "text": [
      "average query returns: 1100.0\n",
      "\n"
     ]
    },
    {
     "name": "stderr",
     "output_type": "stream",
     "text": [
      " 90%|█████████ | 9/10 [00:50<00:08,  8.72s/it]"
     ]
    },
    {
     "name": "stdout",
     "output_type": "stream",
     "text": [
      "average query returns: 1300.0\n",
      "\n"
     ]
    },
    {
     "name": "stderr",
     "output_type": "stream",
     "text": [
      "100%|██████████| 10/10 [01:05<00:00,  6.50s/it]"
     ]
    },
    {
     "name": "stdout",
     "output_type": "stream",
     "text": [
      "average query returns: 1400.0\n",
      "\n"
     ]
    },
    {
     "name": "stderr",
     "output_type": "stream",
     "text": [
      "\n"
     ]
    }
   ],
   "source": [
    "n_samples = 3000\n",
    "unit_inc = 3000\n",
    "n_dim =  2\n",
    "Rlist = [0.1, 0.3, 0.5, 0.7]\n",
    "\n",
    "query_num = list()\n",
    "\n",
    "rng = np.random.RandomState(0)\n",
    "xrange = np.arange(n_samples, n_samples + 10*unit_inc, unit_inc)\n",
    "print(\", \".join([str(i) for i in xrange]))\n",
    "for size in tqdm(range(len(xrange))):\n",
    "    i = xrange[size]\n",
    "    qm = 0\n",
    "    data = rng.random_sample((2*i, n_dim)) \n",
    "    data = (data - data.mean(axis=0))/data.std(axis=0)\n",
    "    X = data[:i]\n",
    "    Query = data[i:]\n",
    "    \n",
    "    qm_answer = 0\n",
    "    qm_count = 0\n",
    "    \n",
    "    for R in Rlist:\n",
    "        # snn\n",
    "        snn = build_snn_model(X)\n",
    "        \n",
    "        for j in range(Query.shape[0]): \n",
    "            sind = snn.radius_single_query(Query[j], R)\n",
    "            qm_answer = qm_answer + len(sind)\n",
    "        \n",
    "        qm_count = qm_count + Query.shape[0]\n",
    "        \n",
    "    qm = qm_answer / qm_count\n",
    "    print(\"average query returns:\", sigificant_digit(qm))\n",
    "    query_num.append(qm)\n",
    "    print()"
   ]
  },
  {
   "cell_type": "code",
   "execution_count": 3,
   "id": "alpine-deficit",
   "metadata": {},
   "outputs": [],
   "source": [
    "### save the data\n",
    "query_num = np.array(query_num)\n",
    "\n",
    "with open('result/query_r/size/query_num_d2.npy', 'wb') as f:\n",
    "    np.save(f, query_num)"
   ]
  },
  {
   "cell_type": "markdown",
   "id": "multiple-psychiatry",
   "metadata": {},
   "source": [
    "### size (ndim=50)"
   ]
  },
  {
   "cell_type": "code",
   "execution_count": 4,
   "id": "million-louisiana",
   "metadata": {},
   "outputs": [
    {
     "name": "stderr",
     "output_type": "stream",
     "text": [
      " 10%|█         | 1/10 [00:01<00:15,  1.77s/it]"
     ]
    },
    {
     "name": "stdout",
     "output_type": "stream",
     "text": [
      "average query returns: 1900.0\n",
      "\n"
     ]
    },
    {
     "name": "stderr",
     "output_type": "stream",
     "text": [
      " 20%|██        | 2/10 [00:08<00:35,  4.43s/it]"
     ]
    },
    {
     "name": "stdout",
     "output_type": "stream",
     "text": [
      "average query returns: 3800.0\n",
      "\n"
     ]
    },
    {
     "name": "stderr",
     "output_type": "stream",
     "text": [
      " 30%|███       | 3/10 [00:21<00:59,  8.52s/it]"
     ]
    },
    {
     "name": "stdout",
     "output_type": "stream",
     "text": [
      "average query returns: 5700.0\n",
      "\n"
     ]
    },
    {
     "name": "stderr",
     "output_type": "stream",
     "text": [
      " 40%|████      | 4/10 [00:44<01:25, 14.23s/it]"
     ]
    },
    {
     "name": "stdout",
     "output_type": "stream",
     "text": [
      "average query returns: 7600.0\n",
      "\n"
     ]
    },
    {
     "name": "stderr",
     "output_type": "stream",
     "text": [
      " 50%|█████     | 5/10 [01:19<01:48, 21.80s/it]"
     ]
    },
    {
     "name": "stdout",
     "output_type": "stream",
     "text": [
      "average query returns: 9400.0\n",
      "\n"
     ]
    },
    {
     "name": "stderr",
     "output_type": "stream",
     "text": [
      " 60%|██████    | 6/10 [02:09<02:05, 31.40s/it]"
     ]
    },
    {
     "name": "stdout",
     "output_type": "stream",
     "text": [
      "average query returns: 11000.0\n",
      "\n"
     ]
    },
    {
     "name": "stderr",
     "output_type": "stream",
     "text": [
      " 70%|███████   | 7/10 [03:20<02:12, 44.13s/it]"
     ]
    },
    {
     "name": "stdout",
     "output_type": "stream",
     "text": [
      "average query returns: 13000.0\n",
      "\n"
     ]
    },
    {
     "name": "stderr",
     "output_type": "stream",
     "text": [
      " 80%|████████  | 8/10 [04:56<02:01, 60.69s/it]"
     ]
    },
    {
     "name": "stdout",
     "output_type": "stream",
     "text": [
      "average query returns: 15000.0\n",
      "\n"
     ]
    },
    {
     "name": "stderr",
     "output_type": "stream",
     "text": [
      " 90%|█████████ | 9/10 [07:02<01:21, 81.27s/it]"
     ]
    },
    {
     "name": "stdout",
     "output_type": "stream",
     "text": [
      "average query returns: 17000.0\n",
      "\n"
     ]
    },
    {
     "name": "stderr",
     "output_type": "stream",
     "text": [
      "100%|██████████| 10/10 [09:46<00:00, 58.68s/it] "
     ]
    },
    {
     "name": "stdout",
     "output_type": "stream",
     "text": [
      "average query returns: 19000.0\n",
      "\n"
     ]
    },
    {
     "name": "stderr",
     "output_type": "stream",
     "text": [
      "\n"
     ]
    }
   ],
   "source": [
    "n_samples = 3000\n",
    "unit_inc = 3000\n",
    "n_dim =  50\n",
    "Rlist = [8, 10, 12, 14]\n",
    "\n",
    "query_num = list()\n",
    "\n",
    "rng = np.random.RandomState(0)\n",
    "xrange = np.arange(n_samples, n_samples + 10*unit_inc, unit_inc)\n",
    "for size in tqdm(range(len(xrange))):\n",
    "    i = xrange[size]\n",
    "    qm = 0\n",
    "    data = rng.random_sample((2*i, n_dim)) \n",
    "    data = (data - data.mean(axis=0))/data.std(axis=0)\n",
    "    X = data[:i]\n",
    "    Query = data[i:]\n",
    "    \n",
    "    qm_answer = 0\n",
    "    qm_count = 0\n",
    "    \n",
    "    for R in Rlist:\n",
    "        # snn\n",
    "        snn = build_snn_model(X)\n",
    "        \n",
    "        for j in range(Query.shape[0]): \n",
    "            sind = snn.radius_single_query(Query[j], R)\n",
    "            qm_answer = qm_answer + len(sind)\n",
    "        \n",
    "        qm_count = qm_count + Query.shape[0]\n",
    "    \n",
    "    qm = qm_answer / qm_count\n",
    "    print(\"average query returns:\", sigificant_digit(qm))\n",
    "    query_num.append(qm)\n",
    "    print()"
   ]
  },
  {
   "cell_type": "code",
   "execution_count": 5,
   "id": "downtown-albany",
   "metadata": {},
   "outputs": [],
   "source": [
    "### save the data\n",
    "\n",
    "query_num = np.array(query_num)\n",
    "    \n",
    "with open('result/query_r/size/query_num.npy', 'wb') as f:\n",
    "    np.save(f, query_num)"
   ]
  },
  {
   "cell_type": "markdown",
   "id": "several-wireless",
   "metadata": {},
   "source": [
    "### dimensions"
   ]
  },
  {
   "cell_type": "code",
   "execution_count": 6,
   "id": "another-baseline",
   "metadata": {},
   "outputs": [
    {
     "name": "stderr",
     "output_type": "stream",
     "text": [
      " 10%|█         | 1/10 [00:04<00:40,  4.55s/it]"
     ]
    },
    {
     "name": "stdout",
     "output_type": "stream",
     "text": [
      "average query returns: 8500.0\n",
      "\n"
     ]
    },
    {
     "name": "stderr",
     "output_type": "stream",
     "text": [
      " 20%|██        | 2/10 [00:14<01:02,  7.80s/it]"
     ]
    },
    {
     "name": "stdout",
     "output_type": "stream",
     "text": [
      "average query returns: 7200.0\n",
      "\n"
     ]
    },
    {
     "name": "stderr",
     "output_type": "stream",
     "text": [
      " 30%|███       | 3/10 [00:30<01:20, 11.57s/it]"
     ]
    },
    {
     "name": "stdout",
     "output_type": "stream",
     "text": [
      "average query returns: 5000.0\n",
      "\n"
     ]
    },
    {
     "name": "stderr",
     "output_type": "stream",
     "text": [
      " 40%|████      | 4/10 [00:50<01:28, 14.80s/it]"
     ]
    },
    {
     "name": "stdout",
     "output_type": "stream",
     "text": [
      "average query returns: 5000.0\n",
      "\n"
     ]
    },
    {
     "name": "stderr",
     "output_type": "stream",
     "text": [
      " 50%|█████     | 5/10 [01:19<01:39, 19.96s/it]"
     ]
    },
    {
     "name": "stdout",
     "output_type": "stream",
     "text": [
      "average query returns: 3600.0\n",
      "\n"
     ]
    },
    {
     "name": "stderr",
     "output_type": "stream",
     "text": [
      " 60%|██████    | 6/10 [01:54<01:40, 25.04s/it]"
     ]
    },
    {
     "name": "stdout",
     "output_type": "stream",
     "text": [
      "average query returns: 2500.0\n",
      "\n"
     ]
    },
    {
     "name": "stderr",
     "output_type": "stream",
     "text": [
      " 70%|███████   | 7/10 [02:44<01:40, 33.34s/it]"
     ]
    },
    {
     "name": "stdout",
     "output_type": "stream",
     "text": [
      "average query returns: 2500.0\n",
      "\n"
     ]
    },
    {
     "name": "stderr",
     "output_type": "stream",
     "text": [
      " 80%|████████  | 8/10 [03:43<01:23, 41.53s/it]"
     ]
    },
    {
     "name": "stdout",
     "output_type": "stream",
     "text": [
      "average query returns: 2400.0\n",
      "\n"
     ]
    },
    {
     "name": "stderr",
     "output_type": "stream",
     "text": [
      " 90%|█████████ | 9/10 [05:01<00:52, 52.84s/it]"
     ]
    },
    {
     "name": "stdout",
     "output_type": "stream",
     "text": [
      "average query returns: 1300.0\n",
      "\n"
     ]
    },
    {
     "name": "stderr",
     "output_type": "stream",
     "text": [
      "100%|██████████| 10/10 [06:31<00:00, 39.10s/it]"
     ]
    },
    {
     "name": "stdout",
     "output_type": "stream",
     "text": [
      "average query returns: 150.0\n",
      "\n"
     ]
    },
    {
     "name": "stderr",
     "output_type": "stream",
     "text": [
      "\n"
     ]
    }
   ],
   "source": [
    "n_samples = 10000\n",
    "unit_inc = 30\n",
    "Rlist = [1.5, 9, 15.5, 22]\n",
    "rng = np.random.RandomState(0)\n",
    "\n",
    "query_num = list()\n",
    "\n",
    "xrange = np.arange(2, 2 + 10*unit_inc, unit_inc)\n",
    "for dim in tqdm(range(len(xrange))):\n",
    "    qm = 0\n",
    "    i = xrange[dim]\n",
    "    data = rng.random_sample((2*n_samples, i)) \n",
    "    data = (data - data.mean(axis=0))/data.std(axis=0)\n",
    "    X = data[:n_samples]\n",
    "    Query = data[n_samples:]\n",
    "    \n",
    "    qm_answer = 0\n",
    "    qm_count = 0\n",
    "    \n",
    "    for R in Rlist:\n",
    "        # snn\n",
    "        snn = build_snn_model(X)\n",
    "        \n",
    "        for j in range(Query.shape[0]): \n",
    "            sind = snn.radius_single_query(Query[j], R)\n",
    "            qm_answer = qm_answer + len(sind)\n",
    "            \n",
    "        qm_count = qm_count + Query.shape[0]\n",
    "        \n",
    "    qm = qm_answer / qm_count\n",
    "    print(\"average query returns:\", sigificant_digit(qm))\n",
    "    query_num.append(qm)\n",
    "    print()\n"
   ]
  },
  {
   "cell_type": "code",
   "execution_count": 7,
   "id": "inner-egyptian",
   "metadata": {
    "tags": []
   },
   "outputs": [],
   "source": [
    "### save the data\n",
    "query_num = np.array(query_num)\n",
    "\n",
    "    \n",
    "with open('result/query_r/dim/query_num.npy', 'wb') as f:\n",
    "    np.save(f, query_num)"
   ]
  },
  {
   "cell_type": "code",
   "execution_count": null,
   "id": "human-waterproof",
   "metadata": {},
   "outputs": [],
   "source": []
  },
  {
   "cell_type": "code",
   "execution_count": null,
   "id": "automotive-abortion",
   "metadata": {},
   "outputs": [],
   "source": []
  },
  {
   "cell_type": "code",
   "execution_count": null,
   "id": "related-breast",
   "metadata": {},
   "outputs": [],
   "source": []
  },
  {
   "cell_type": "code",
   "execution_count": null,
   "id": "touched-chess",
   "metadata": {},
   "outputs": [],
   "source": []
  }
 ],
 "metadata": {
  "kernelspec": {
   "display_name": "Python 3",
   "language": "python",
   "name": "python3"
  },
  "language_info": {
   "codemirror_mode": {
    "name": "ipython",
    "version": 3
   },
   "file_extension": ".py",
   "mimetype": "text/x-python",
   "name": "python",
   "nbconvert_exporter": "python",
   "pygments_lexer": "ipython3",
   "version": "3.9.2"
  }
 },
 "nbformat": 4,
 "nbformat_minor": 5
}
