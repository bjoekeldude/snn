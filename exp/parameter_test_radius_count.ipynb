{
 "cells": [
  {
   "cell_type": "code",
   "execution_count": 1,
   "id": "several-generator",
   "metadata": {},
   "outputs": [],
   "source": [
    "import math\n",
    "import warnings\n",
    "import numpy as np\n",
    "from snnpy import *\n",
    "from sklearn.neighbors import BallTree\n",
    "from sklearn.neighbors import NearestNeighbors\n",
    "from sklearn.neighbors import KDTree\n",
    "from bf_search import *\n",
    "from tqdm import tqdm\n",
    "\n",
    "\n",
    "    \n",
    "def sigificant_digit(number, digits=2):\n",
    "    return round(number, digits - int(math.floor(math.log10(abs(number)))) - 1)\n",
    "\n",
    "\n",
    "warnings.filterwarnings(\"ignore\")"
   ]
  },
  {
   "cell_type": "markdown",
   "id": "imposed-baptist",
   "metadata": {},
   "source": [
    "### size (ndim=2)"
   ]
  },
  {
   "cell_type": "code",
   "execution_count": 2,
   "id": "infinite-template",
   "metadata": {},
   "outputs": [
    {
     "name": "stderr",
     "output_type": "stream",
     "text": [
      "  0%|          | 0/4 [00:00<?, ?it/s]"
     ]
    },
    {
     "name": "stdout",
     "output_type": "stream",
     "text": [
      "3000, 6000, 9000, 12000, 15000, 18000, 21000, 24000, 27000, 30000\n"
     ]
    },
    {
     "name": "stderr",
     "output_type": "stream",
     "text": [
      " 25%|██▌       | 1/4 [00:07<00:21,  7.03s/it]"
     ]
    },
    {
     "name": "stdout",
     "output_type": "stream",
     "text": [
      "average query returns: 54.0\n",
      "\n"
     ]
    },
    {
     "name": "stderr",
     "output_type": "stream",
     "text": [
      " 50%|█████     | 2/4 [00:18<00:19,  9.65s/it]"
     ]
    },
    {
     "name": "stdout",
     "output_type": "stream",
     "text": [
      "average query returns: 460.0\n",
      "\n"
     ]
    },
    {
     "name": "stderr",
     "output_type": "stream",
     "text": [
      " 75%|███████▌  | 3/4 [00:35<00:13, 13.13s/it]"
     ]
    },
    {
     "name": "stdout",
     "output_type": "stream",
     "text": [
      "average query returns: 1200.0\n",
      "\n"
     ]
    },
    {
     "name": "stderr",
     "output_type": "stream",
     "text": [
      "100%|██████████| 4/4 [00:59<00:00, 14.79s/it]"
     ]
    },
    {
     "name": "stdout",
     "output_type": "stream",
     "text": [
      "average query returns: 2200.0\n",
      "\n"
     ]
    },
    {
     "name": "stderr",
     "output_type": "stream",
     "text": [
      "\n"
     ]
    }
   ],
   "source": [
    "n_samples = 3000\n",
    "unit_inc = 3000\n",
    "n_dim =  2\n",
    "Rlist = [0.1, 0.3, 0.5, 0.7]\n",
    "\n",
    "query_num = list()\n",
    "\n",
    "rng = np.random.RandomState(0)\n",
    "xrange = np.arange(n_samples, n_samples + 10*unit_inc, unit_inc)\n",
    "print(\", \".join([str(i) for i in xrange]))\n",
    "\n",
    "for R in tqdm(Rlist):\n",
    "    qm = 0\n",
    "    \n",
    "    qm_answer = 0\n",
    "    qm_count = 0\n",
    "\n",
    "    for size in range(len(xrange)):\n",
    "        i = xrange[size]\n",
    "        \n",
    "        data = rng.random_sample((2*i, n_dim)) \n",
    "        data = (data - data.mean(axis=0))/data.std(axis=0)\n",
    "        X = data[:i]\n",
    "        Query = data[i:]\n",
    "\n",
    "        # snn\n",
    "        snn = build_snn_model(X)\n",
    "        \n",
    "        for j in range(Query.shape[0]): \n",
    "            sind = snn.radius_single_query(Query[j], R)\n",
    "            qm_answer = qm_answer + len(sind)\n",
    "            \n",
    "        qm_count = qm_count + Query.shape[0]\n",
    "        \n",
    "        \n",
    "    qm = qm_answer / qm_count\n",
    "    print(\"average query returns:\", sigificant_digit(qm))\n",
    "    query_num.append(qm)\n",
    "    print()"
   ]
  },
  {
   "cell_type": "code",
   "execution_count": 3,
   "id": "southeast-distribution",
   "metadata": {},
   "outputs": [],
   "source": [
    "### save the data\n",
    "query_num = np.array(query_num)\n",
    "\n",
    "with open('result/query_r/size/query_num_d2_radius.npy', 'wb') as f:\n",
    "    np.save(f, query_num)"
   ]
  },
  {
   "cell_type": "markdown",
   "id": "infinite-guatemala",
   "metadata": {},
   "source": [
    "### size (ndim=50)"
   ]
  },
  {
   "cell_type": "code",
   "execution_count": 4,
   "id": "industrial-border",
   "metadata": {},
   "outputs": [
    {
     "name": "stderr",
     "output_type": "stream",
     "text": [
      " 25%|██▌       | 1/4 [02:17<06:53, 137.91s/it]"
     ]
    },
    {
     "name": "stdout",
     "output_type": "stream",
     "text": [
      "average query returns: 210.0\n",
      "\n"
     ]
    },
    {
     "name": "stderr",
     "output_type": "stream",
     "text": [
      " 50%|█████     | 2/4 [05:27<05:36, 168.11s/it]"
     ]
    },
    {
     "name": "stdout",
     "output_type": "stream",
     "text": [
      "average query returns: 11000.0\n",
      "\n"
     ]
    },
    {
     "name": "stderr",
     "output_type": "stream",
     "text": [
      " 75%|███████▌  | 3/4 [07:47<02:35, 155.31s/it]"
     ]
    },
    {
     "name": "stdout",
     "output_type": "stream",
     "text": [
      "average query returns: 21000.0\n",
      "\n"
     ]
    },
    {
     "name": "stderr",
     "output_type": "stream",
     "text": [
      "100%|██████████| 4/4 [10:23<00:00, 155.86s/it]"
     ]
    },
    {
     "name": "stdout",
     "output_type": "stream",
     "text": [
      "average query returns: 21000.0\n",
      "\n"
     ]
    },
    {
     "name": "stderr",
     "output_type": "stream",
     "text": [
      "\n"
     ]
    }
   ],
   "source": [
    "n_samples = 3000\n",
    "unit_inc = 3000\n",
    "n_dim =  50\n",
    "Rlist = [8, 10, 12, 14]\n",
    "\n",
    "query_num = list()\n",
    "\n",
    "rng = np.random.RandomState(0)\n",
    "xrange = np.arange(n_samples, n_samples + 10*unit_inc, unit_inc)\n",
    "\n",
    "for R in tqdm(Rlist):\n",
    "    qm = 0\n",
    "    \n",
    "    qm_answer = 0\n",
    "    qm_count = 0\n",
    "    \n",
    "    for size in range(len(xrange)):\n",
    "        i = xrange[size]\n",
    "        \n",
    "        data = rng.random_sample((2*i, n_dim)) \n",
    "        data = (data - data.mean(axis=0))/data.std(axis=0)\n",
    "        X = data[:i]\n",
    "        Query = data[i:]\n",
    "\n",
    "        # snn\n",
    "        snn = build_snn_model(X)\n",
    "        \n",
    "        for j in range(Query.shape[0]): \n",
    "            sind = snn.radius_single_query(Query[j], R)\n",
    "            qm_answer = qm_answer + len(sind)\n",
    "            \n",
    "        qm_count = qm_count + Query.shape[0] \n",
    "        \n",
    "    qm = qm_answer / qm_count\n",
    "    print(\"average query returns:\", sigificant_digit(qm))\n",
    "    query_num.append(qm)\n",
    "    print()"
   ]
  },
  {
   "cell_type": "code",
   "execution_count": 5,
   "id": "usual-guarantee",
   "metadata": {},
   "outputs": [],
   "source": [
    "### save the data\n",
    "\n",
    "query_num = np.array(query_num)\n",
    "    \n",
    "with open('result/query_r/size/query_num_radius.npy', 'wb') as f:\n",
    "    np.save(f, query_num)"
   ]
  },
  {
   "cell_type": "markdown",
   "id": "vocational-wilson",
   "metadata": {},
   "source": [
    "### dimensions"
   ]
  },
  {
   "cell_type": "code",
   "execution_count": 6,
   "id": "beautiful-camel",
   "metadata": {},
   "outputs": [
    {
     "name": "stderr",
     "output_type": "stream",
     "text": [
      " 25%|██▌       | 1/4 [01:15<03:45, 75.22s/it]"
     ]
    },
    {
     "name": "stdout",
     "output_type": "stream",
     "text": [
      "average query returns: 390.0\n",
      "\n"
     ]
    },
    {
     "name": "stderr",
     "output_type": "stream",
     "text": [
      " 50%|█████     | 2/4 [02:59<03:04, 92.32s/it]"
     ]
    },
    {
     "name": "stdout",
     "output_type": "stream",
     "text": [
      "average query returns: 1900.0\n",
      "\n"
     ]
    },
    {
     "name": "stderr",
     "output_type": "stream",
     "text": [
      " 75%|███████▌  | 3/4 [04:47<01:39, 99.58s/it]"
     ]
    },
    {
     "name": "stdout",
     "output_type": "stream",
     "text": [
      "average query returns: 4500.0\n",
      "\n"
     ]
    },
    {
     "name": "stderr",
     "output_type": "stream",
     "text": [
      "100%|██████████| 4/4 [06:48<00:00, 102.13s/it]"
     ]
    },
    {
     "name": "stdout",
     "output_type": "stream",
     "text": [
      "average query returns: 8500.0\n",
      "\n"
     ]
    },
    {
     "name": "stderr",
     "output_type": "stream",
     "text": [
      "\n"
     ]
    }
   ],
   "source": [
    "n_samples = 10000\n",
    "unit_inc = 30\n",
    "Rlist = [1.5, 9, 15.5, 22]\n",
    "rng = np.random.RandomState(0)\n",
    "\n",
    "query_num = list()\n",
    "\n",
    "xrange = np.arange(2, 2 + 10*unit_inc, unit_inc)\n",
    "\n",
    "for R in tqdm(Rlist):\n",
    "    qm = 0\n",
    "    \n",
    "    qm_answer = 0\n",
    "    qm_count = 0\n",
    "    \n",
    "    for dim in range(len(xrange)):\n",
    "        i = xrange[dim]\n",
    "        data = rng.random_sample((2*n_samples, i)) \n",
    "        data = (data - data.mean(axis=0))/data.std(axis=0)\n",
    "        X = data[:n_samples]\n",
    "        Query = data[n_samples:]\n",
    "    \n",
    "        # snn\n",
    "        snn = build_snn_model(X)\n",
    "        \n",
    "        for j in range(Query.shape[0]): \n",
    "            sind = snn.radius_single_query(Query[j], R)\n",
    "            qm_answer = qm_answer + len(sind)\n",
    "            \n",
    "        qm_count = qm_count + Query.shape[0]  \n",
    "        \n",
    "    qm = qm_answer / qm_count\n",
    "    print(\"average query returns:\", sigificant_digit(qm))\n",
    "    query_num.append(qm)\n",
    "    print()\n"
   ]
  },
  {
   "cell_type": "code",
   "execution_count": 7,
   "id": "automated-arizona",
   "metadata": {
    "tags": []
   },
   "outputs": [],
   "source": [
    "### save the data\n",
    "query_num = np.array(query_num)\n",
    "\n",
    "with open('result/query_r/dim/query_num_radius.npy', 'wb') as f:\n",
    "    np.save(f, query_num)"
   ]
  },
  {
   "cell_type": "code",
   "execution_count": null,
   "id": "affecting-victim",
   "metadata": {},
   "outputs": [],
   "source": []
  },
  {
   "cell_type": "code",
   "execution_count": null,
   "id": "experienced-prescription",
   "metadata": {},
   "outputs": [],
   "source": []
  },
  {
   "cell_type": "code",
   "execution_count": null,
   "id": "iraqi-mining",
   "metadata": {},
   "outputs": [],
   "source": []
  }
 ],
 "metadata": {
  "kernelspec": {
   "display_name": "Python 3",
   "language": "python",
   "name": "python3"
  },
  "language_info": {
   "codemirror_mode": {
    "name": "ipython",
    "version": 3
   },
   "file_extension": ".py",
   "mimetype": "text/x-python",
   "name": "python",
   "nbconvert_exporter": "python",
   "pygments_lexer": "ipython3",
   "version": "3.9.2"
  }
 },
 "nbformat": 4,
 "nbformat_minor": 5
}
