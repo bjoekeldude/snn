{
 "cells": [
  {
   "cell_type": "code",
   "execution_count": 1,
   "id": "single-prerequisite",
   "metadata": {},
   "outputs": [],
   "source": [
    "import time\n",
    "import math\n",
    "import numpy as np\n",
    "from snnpy import *\n",
    "from sklearn.neighbors import BallTree\n",
    "from sklearn.neighbors import NearestNeighbors\n",
    "from sklearn.neighbors import KDTree\n",
    "from bf_search import *"
   ]
  },
  {
   "cell_type": "code",
   "execution_count": 2,
   "id": "color-armstrong",
   "metadata": {},
   "outputs": [],
   "source": [
    "def bvecs_read(fname):\n",
    "    a = np.fromfile(fname, dtype=np.int32, count=1)\n",
    "    b = np.fromfile(fname, dtype=np.uint8)\n",
    "    d = a[0]\n",
    "    return b.reshape(-1, d + 4)[:, 4:].copy()\n",
    "\n",
    "\n",
    "def ivecs_read(fname):\n",
    "    a = np.fromfile(fname, dtype='int32')\n",
    "    d = a[0]\n",
    "    return a.reshape(-1, d + 1)[:, 1:].copy()\n",
    "\n",
    "\n",
    "def fvecs_read2(fname):\n",
    "    return ivecs_read(fname).view('float32')\n",
    "\n",
    "\n",
    "def sigificant_digit(number, digits=2):\n",
    "    return round(number, digits - int(math.floor(math.log10(abs(number)))) - 1)\n"
   ]
  },
  {
   "cell_type": "markdown",
   "id": "dynamic-china",
   "metadata": {},
   "source": [
    "### fashion mnist"
   ]
  },
  {
   "cell_type": "code",
   "execution_count": 3,
   "id": "identical-spanking",
   "metadata": {},
   "outputs": [],
   "source": [
    "fmn_train = np.load(\"fashion_mnist/train.npy\")\n",
    "fmn_query = np.load(\"fashion_mnist/queries.npy\")\n",
    "\n",
    "mu = fmn_train.mean(axis=0)\n",
    "scl = fmn_train.std(axis=0)\n",
    "fmn_train = (fmn_train - mu) / scl\n",
    "fmn_query = (fmn_query - mu) / scl\n",
    "\n",
    "fmn_kdtree_index_timing = list()\n",
    "fmn_balltree_index_timing = list()\n",
    "fmn_sn_index_timing = list()\n",
    "\n",
    "fmn_bf_run_timing1 = list()\n",
    "fmn_bf_run_timing2 = list()\n",
    "fmn_kdtree_run_timing = list()\n",
    "fmn_balltree_run_timing = list()\n",
    "fmn_sn_run_timing = list()\n"
   ]
  },
  {
   "cell_type": "code",
   "execution_count": 4,
   "id": "consolidated-statistics",
   "metadata": {},
   "outputs": [],
   "source": [
    "radius =  [10, 12, 14, 16, 18] # test various radius"
   ]
  },
  {
   "cell_type": "code",
   "execution_count": 5,
   "id": "diverse-villa",
   "metadata": {},
   "outputs": [
    {
     "name": "stdout",
     "output_type": "stream",
     "text": [
      "snn index time: 1.1902434825897217\n",
      "Return:  9.3  neighbors\n",
      "snn query time: 81.41821265220642\n",
      "Return:  39.0  neighbors\n",
      "snn query time: 96.53143572807312\n",
      "Return:  130.0  neighbors\n",
      "snn query time: 110.18136858940125\n",
      "Return:  340.0  neighbors\n",
      "snn query time: 121.65405797958374\n",
      "Return:  800.0  neighbors\n",
      "snn query time: 133.60131239891052\n"
     ]
    }
   ],
   "source": [
    "# SNN\n",
    "st = time.time()\n",
    "snn = build_snn_model(fmn_train)\n",
    "et = time.time() - st\n",
    "fmn_sn_index_timing.append(et)\n",
    "print(\"snn index time:\", et)\n",
    "\n",
    "\n",
    "for R in radius:\n",
    "    fmn_sn_nn_num = list()\n",
    "    st = time.time()\n",
    "    for j in range(fmn_query.shape[0]): \n",
    "        ind = snn.radius_single_query(fmn_query[j], R)\n",
    "        fmn_sn_nn_num.append(len(ind))\n",
    "    et = time.time() - st\n",
    "    print(\"Return: \", sigificant_digit(np.mean(fmn_sn_nn_num)), \" neighbors\")\n",
    "    fmn_sn_run_timing.append(et)\n",
    "    print(\"snn query time:\", et)"
   ]
  },
  {
   "cell_type": "code",
   "execution_count": null,
   "id": "adolescent-sentence",
   "metadata": {},
   "outputs": [],
   "source": []
  },
  {
   "cell_type": "code",
   "execution_count": null,
   "id": "fifth-psychiatry",
   "metadata": {},
   "outputs": [],
   "source": []
  },
  {
   "cell_type": "markdown",
   "id": "convenient-sense",
   "metadata": {},
   "source": [
    "### siftsmall"
   ]
  },
  {
   "cell_type": "code",
   "execution_count": 6,
   "id": "respected-senate",
   "metadata": {},
   "outputs": [],
   "source": [
    "sift_train = fvecs_read2('siftsmall/siftsmall_learn.fvecs')\n",
    "sift_query = fvecs_read2('siftsmall/siftsmall_query.fvecs')\n",
    "\n",
    "mu = sift_train.mean(axis=0)\n",
    "scl = sift_train.std(axis=0)\n",
    "sift_train = (sift_train - mu) / scl\n",
    "sift_query = (sift_query - mu) / scl\n",
    "\n",
    "sift_kdtree_index_timing = list()\n",
    "sift_balltree_index_timing = list()\n",
    "sift_sn_index_timing = list()\n",
    "\n",
    "sift_bf_run_timing1 = list()\n",
    "sift_bf_run_timing2 = list()\n",
    "sift_kdtree_run_timing = list()\n",
    "sift_balltree_run_timing = list()\n",
    "sift_sn_run_timing = list()\n",
    "\n",
    "sift_bf_nn_num1 = list()\n",
    "sift_bf_nn_num2 = list()\n",
    "sift_kdtree_nn_num = list()\n",
    "sift_balltree_nn_num = list()\n",
    "sift_sn_nn_num = list()"
   ]
  },
  {
   "cell_type": "code",
   "execution_count": 7,
   "id": "hairy-drunk",
   "metadata": {},
   "outputs": [],
   "source": [
    "radius = [10, 12, 14, 16, 18] # test various radius"
   ]
  },
  {
   "cell_type": "code",
   "execution_count": 8,
   "id": "active-library",
   "metadata": {},
   "outputs": [
    {
     "name": "stdout",
     "output_type": "stream",
     "text": [
      "snn build time: 0.03547072410583496\n",
      "Return:  350.0  neighbors\n",
      "snn query time: 0.08532047271728516\n",
      "Return:  2000.0  neighbors\n",
      "snn query time: 0.11270689964294434\n",
      "Return:  6100.0  neighbors\n",
      "snn query time: 0.12796497344970703\n",
      "Return:  11000.0  neighbors\n",
      "snn query time: 0.13000798225402832\n",
      "Return:  20000.0  neighbors\n",
      "snn query time: 0.13477563858032227\n"
     ]
    }
   ],
   "source": [
    "# SNN\n",
    "st = time.time()\n",
    "snn = build_snn_model(sift_train)\n",
    "et = time.time() - st\n",
    "sift_sn_index_timing.append(et)\n",
    "print(\"snn build time:\", et)\n",
    "\n",
    "\n",
    "for R in radius:\n",
    "    sift_sn_nn_num  = list()\n",
    "    st = time.time()\n",
    "    for j in range(sift_query.shape[0]):\n",
    "        ind = snn.radius_single_query(sift_query[j], R)\n",
    "        sift_sn_nn_num.append(len(ind))\n",
    "    et = time.time() - st\n",
    "    print(\"Return: \", sigificant_digit(np.mean(sift_sn_nn_num)), \" neighbors\")\n",
    "    sift_sn_run_timing.append(et)\n",
    "    # print(ind[np.argsort(dist)][:3], '\\n', dist[np.argsort(dist)][:3])\n",
    "    print(\"snn query time:\", et)"
   ]
  },
  {
   "cell_type": "code",
   "execution_count": null,
   "id": "miniature-ghost",
   "metadata": {},
   "outputs": [],
   "source": []
  },
  {
   "cell_type": "code",
   "execution_count": null,
   "id": "south-exception",
   "metadata": {},
   "outputs": [],
   "source": []
  },
  {
   "cell_type": "code",
   "execution_count": null,
   "id": "difficult-innocent",
   "metadata": {},
   "outputs": [],
   "source": []
  },
  {
   "cell_type": "markdown",
   "id": "functioning-disney",
   "metadata": {},
   "source": [
    "#### sift"
   ]
  },
  {
   "cell_type": "code",
   "execution_count": 9,
   "id": "brief-assembly",
   "metadata": {},
   "outputs": [],
   "source": [
    "sift_train = fvecs_read2('sift/sift_learn.fvecs')\n",
    "sift_query = fvecs_read2('sift/sift_query.fvecs')\n",
    "\n",
    "mu = sift_train.mean(axis=0)\n",
    "scl = sift_train.std(axis=0)\n",
    "sift_train = (sift_train - mu) / scl\n",
    "sift_query = (sift_query - mu) / scl\n",
    "\n",
    "sift_kdtree_index_timing = list()\n",
    "sift_balltree_index_timing = list()\n",
    "sift_sn_index_timing = list()\n",
    "\n",
    "sift_bf_run_timing1 = list()\n",
    "sift_bf_run_timing2 = list()\n",
    "sift_kdtree_run_timing = list()\n",
    "sift_balltree_run_timing = list()\n",
    "sift_sn_run_timing = list()\n",
    "\n",
    "sift_bf_nn_num1 = list()\n",
    "sift_bf_nn_num2 = list()\n",
    "sift_kdtree_nn_num = list()\n",
    "sift_balltree_nn_num = list()\n",
    "sift_sn_nn_num = list()"
   ]
  },
  {
   "cell_type": "code",
   "execution_count": 10,
   "id": "plastic-delaware",
   "metadata": {},
   "outputs": [],
   "source": [
    "radius = [10, 12, 14, 16, 18] # test various radius"
   ]
  },
  {
   "cell_type": "code",
   "execution_count": 11,
   "id": "injured-bulgarian",
   "metadata": {},
   "outputs": [
    {
     "name": "stdout",
     "output_type": "stream",
     "text": [
      "snn build time: 0.17121434211730957\n",
      "Return:  1300.0  neighbors\n",
      "snn query time: 58.20711398124695\n",
      "Return:  7700.0  neighbors\n",
      "snn query time: 80.18133807182312\n",
      "Return:  24000.0  neighbors\n",
      "snn query time: 91.30198049545288\n",
      "Return:  45000.0  neighbors\n",
      "snn query time: 92.79111409187317\n",
      "Return:  82000.0  neighbors\n",
      "snn query time: 93.82447719573975\n"
     ]
    }
   ],
   "source": [
    "\n",
    "\n",
    "\n",
    "# SNN\n",
    "st = time.time()\n",
    "snn = build_snn_model(sift_train)\n",
    "et = time.time() - st\n",
    "sift_sn_index_timing.append(et)\n",
    "print(\"snn build time:\", et)\n",
    "\n",
    "\n",
    "for R in radius:\n",
    "    sift_sn_nn_num = list()\n",
    "    st = time.time()\n",
    "    for j in range(sift_query.shape[0]):\n",
    "        ind = snn.radius_single_query(sift_query[j], R)\n",
    "        sift_sn_nn_num.append(len(ind))\n",
    "    et = time.time() - st\n",
    "    print(\"Return: \", sigificant_digit(np.mean(sift_sn_nn_num)), \" neighbors\")\n",
    "    sift_sn_run_timing.append(et)\n",
    "    # print(ind[np.argsort(dist)][:3], '\\n', dist[np.argsort(dist)][:3])\n",
    "    print(\"snn query time:\", et)"
   ]
  },
  {
   "cell_type": "code",
   "execution_count": null,
   "id": "confirmed-detail",
   "metadata": {},
   "outputs": [],
   "source": []
  },
  {
   "cell_type": "code",
   "execution_count": null,
   "id": "honest-recorder",
   "metadata": {},
   "outputs": [],
   "source": []
  },
  {
   "cell_type": "code",
   "execution_count": null,
   "id": "minor-pension",
   "metadata": {},
   "outputs": [],
   "source": []
  },
  {
   "cell_type": "markdown",
   "id": "respected-inspector",
   "metadata": {},
   "source": [
    "### gist"
   ]
  },
  {
   "cell_type": "code",
   "execution_count": 12,
   "id": "elementary-thanks",
   "metadata": {},
   "outputs": [],
   "source": [
    "gist_train = np.load(\"gist/train.npy\")\n",
    "gist_query = np.load(\"gist/queries.npy\")\n",
    "\n",
    "mu = gist_train.mean(axis=0)\n",
    "scl = gist_train.std(axis=0)\n",
    "gist_train = (gist_train - mu) / scl\n",
    "gist_query = (gist_query - mu) / scl\n",
    "\n",
    "gist_kdtree_index_timing = list()\n",
    "gist_balltree_index_timing = list()\n",
    "gist_sn_index_timing = list()\n",
    "\n",
    "gist_bf_run_timing1 = list()\n",
    "gist_bf_run_timing2 = list()\n",
    "gist_kdtree_run_timing = list()\n",
    "gist_balltree_run_timing = list()\n",
    "gist_sn_run_timing = list()\n",
    "\n",
    "gist_bf_nn_num1 = list()\n",
    "gist_bf_nn_num2 = list()\n",
    "gist_kdtree_nn_num = list()\n",
    "gist_balltree_nn_num = list()\n",
    "gist_sn_nn_num = list()"
   ]
  },
  {
   "cell_type": "code",
   "execution_count": 13,
   "id": "patent-suspension",
   "metadata": {},
   "outputs": [],
   "source": [
    "radius = [10, 12, 14, 16, 18] # test various radius"
   ]
  },
  {
   "cell_type": "code",
   "execution_count": 14,
   "id": "earlier-hierarchy",
   "metadata": {},
   "outputs": [
    {
     "name": "stdout",
     "output_type": "stream",
     "text": [
      "snn build time: 25.67221212387085\n",
      "Return:  42.0  neighbors\n",
      "snn query time: 167.64955687522888\n",
      "Return:  180.0  neighbors\n",
      "snn query time: 196.65022659301758\n",
      "Return:  470.0  neighbors\n",
      "snn query time: 223.76151728630066\n",
      "Return:  930.0  neighbors\n",
      "snn query time: 248.23459839820862\n",
      "Return:  1700.0  neighbors\n",
      "snn query time: 271.54558396339417\n"
     ]
    }
   ],
   "source": [
    "# SNN\n",
    "st = time.time()\n",
    "snn = build_snn_model(gist_train)\n",
    "et = time.time() - st\n",
    "gist_sn_index_timing.append(et)\n",
    "print(\"snn build time:\", et)\n",
    "\n",
    "\n",
    "for R in radius:\n",
    "    gist_sn_nn_num = list()\n",
    "    st = time.time()\n",
    "    for j in range(gist_query.shape[0]):\n",
    "        ind = snn.radius_single_query(gist_query[j], R)\n",
    "        gist_sn_nn_num.append(len(ind))\n",
    "    et = time.time() - st\n",
    "    print(\"Return: \", sigificant_digit(np.mean(gist_sn_nn_num)), \" neighbors\")\n",
    "    gist_sn_run_timing.append(et)\n",
    "    # print(ind[np.argsort(dist)][:3], '\\n', dist[np.argsort(dist)][:3])\n",
    "    print(\"snn query time:\", et)"
   ]
  },
  {
   "cell_type": "code",
   "execution_count": null,
   "id": "ultimate-fitting",
   "metadata": {},
   "outputs": [],
   "source": []
  },
  {
   "cell_type": "code",
   "execution_count": null,
   "id": "referenced-antenna",
   "metadata": {},
   "outputs": [],
   "source": []
  },
  {
   "cell_type": "code",
   "execution_count": null,
   "id": "reliable-junction",
   "metadata": {},
   "outputs": [],
   "source": []
  },
  {
   "cell_type": "code",
   "execution_count": null,
   "id": "pleasant-stephen",
   "metadata": {},
   "outputs": [],
   "source": []
  },
  {
   "cell_type": "code",
   "execution_count": null,
   "id": "stunning-pride",
   "metadata": {},
   "outputs": [],
   "source": []
  },
  {
   "cell_type": "code",
   "execution_count": null,
   "id": "dynamic-watson",
   "metadata": {},
   "outputs": [],
   "source": []
  },
  {
   "cell_type": "code",
   "execution_count": null,
   "id": "continued-multimedia",
   "metadata": {},
   "outputs": [],
   "source": []
  }
 ],
 "metadata": {
  "kernelspec": {
   "display_name": "Python 3",
   "language": "python",
   "name": "python3"
  },
  "language_info": {
   "codemirror_mode": {
    "name": "ipython",
    "version": 3
   },
   "file_extension": ".py",
   "mimetype": "text/x-python",
   "name": "python",
   "nbconvert_exporter": "python",
   "pygments_lexer": "ipython3",
   "version": "3.9.2"
  }
 },
 "nbformat": 4,
 "nbformat_minor": 5
}
