{
 "cells": [
  {
   "cell_type": "code",
   "execution_count": 1,
   "id": "acquired-bunny",
   "metadata": {},
   "outputs": [],
   "source": [
    "import time\n",
    "import warnings\n",
    "import numpy as np\n",
    "from snnpy import *\n",
    "from sklearn.neighbors import BallTree\n",
    "from sklearn.neighbors import NearestNeighbors\n",
    "from sklearn.neighbors import KDTree\n",
    "from bf_search import *\n",
    "from tqdm import tqdm\n",
    "\n",
    "leaf_size = 30\n",
    "warnings.filterwarnings(\"ignore\")"
   ]
  },
  {
   "cell_type": "markdown",
   "id": "authorized-sarah",
   "metadata": {},
   "source": [
    "### dimensions"
   ]
  },
  {
   "cell_type": "code",
   "execution_count": 2,
   "id": "resistant-sphere",
   "metadata": {},
   "outputs": [
    {
     "name": "stderr",
     "output_type": "stream",
     "text": [
      " 10%|█         | 1/10 [01:30<13:32, 90.25s/it]"
     ]
    },
    {
     "name": "stdout",
     "output_type": "stream",
     "text": [
      "brute force 1 query time: 8.53269100189209\n",
      "brute force 2 query time: 1.272822904586792\n",
      "KDtree index: 0.004906415939331055\n",
      "KDtree query time: 3.7898655414581297\n",
      "Balltree index: 0.0038990497589111326\n",
      "Balltree query time: 3.6771608352661134\n",
      "SNN index: 0.0025220870971679687\n",
      "SNN query time: 0.764811372756958\n",
      "\n"
     ]
    },
    {
     "name": "stderr",
     "output_type": "stream",
     "text": [
      " 20%|██        | 2/10 [04:50<20:40, 155.07s/it]"
     ]
    },
    {
     "name": "stdout",
     "output_type": "stream",
     "text": [
      "brute force 1 query time: 12.444607543945313\n",
      "brute force 2 query time: 4.175926685333252\n",
      "KDtree index: 0.03530750274658203\n",
      "KDtree query time: 12.847333812713623\n",
      "Balltree index: 0.027465391159057616\n",
      "Balltree query time: 8.932817459106445\n",
      "SNN index: 0.0074117183685302734\n",
      "SNN query time: 1.613000249862671\n",
      "\n"
     ]
    },
    {
     "name": "stderr",
     "output_type": "stream",
     "text": [
      " 30%|███       | 3/10 [10:32<28:03, 240.45s/it]"
     ]
    },
    {
     "name": "stdout",
     "output_type": "stream",
     "text": [
      "brute force 1 query time: 18.221064805984497\n",
      "brute force 2 query time: 7.95151653289795\n",
      "KDtree index: 0.0632136344909668\n",
      "KDtree query time: 22.867919731140137\n",
      "Balltree index: 0.04878444671630859\n",
      "Balltree query time: 16.474570274353027\n",
      "SNN index: 0.013378047943115234\n",
      "SNN query time: 2.7625435829162597\n",
      "\n"
     ]
    },
    {
     "name": "stderr",
     "output_type": "stream",
     "text": [
      " 40%|████      | 4/10 [17:57<32:05, 320.99s/it]"
     ]
    },
    {
     "name": "stdout",
     "output_type": "stream",
     "text": [
      "brute force 1 query time: 22.65805697441101\n",
      "brute force 2 query time: 10.594118690490722\n",
      "KDtree index: 0.09270281791687011\n",
      "KDtree query time: 31.195228576660156\n",
      "Balltree index: 0.06921191215515136\n",
      "Balltree query time: 20.643914461135864\n",
      "SNN index: 0.02019810676574707\n",
      "SNN query time: 3.6060754299163817\n",
      "\n"
     ]
    },
    {
     "name": "stderr",
     "output_type": "stream",
     "text": [
      " 50%|█████     | 5/10 [28:39<36:24, 436.84s/it]"
     ]
    },
    {
     "name": "stdout",
     "output_type": "stream",
     "text": [
      "brute force 1 query time: 31.71458215713501\n",
      "brute force 2 query time: 15.39807448387146\n",
      "KDtree index: 0.1293653964996338\n",
      "KDtree query time: 43.7151563167572\n",
      "Balltree index: 0.09855179786682129\n",
      "Balltree query time: 31.892113733291627\n",
      "SNN index: 0.027449417114257812\n",
      "SNN query time: 5.461703586578369\n",
      "\n"
     ]
    },
    {
     "name": "stderr",
     "output_type": "stream",
     "text": [
      " 60%|██████    | 6/10 [42:27<37:59, 569.93s/it]"
     ]
    },
    {
     "name": "stdout",
     "output_type": "stream",
     "text": [
      "brute force 1 query time: 42.35680632591247\n",
      "brute force 2 query time: 20.742682647705077\n",
      "KDtree index: 0.15974302291870118\n",
      "KDtree query time: 53.65612258911133\n",
      "Balltree index: 0.12131915092468262\n",
      "Balltree query time: 40.40652112960815\n",
      "SNN index: 0.03767037391662598\n",
      "SNN query time: 8.157477617263794\n",
      "\n"
     ]
    },
    {
     "name": "stderr",
     "output_type": "stream",
     "text": [
      " 70%|███████   | 7/10 [59:42<36:06, 722.00s/it]"
     ]
    },
    {
     "name": "stdout",
     "output_type": "stream",
     "text": [
      "brute force 1 query time: 51.908102130889894\n",
      "brute force 2 query time: 28.730365562438966\n",
      "KDtree index: 0.20204539299011232\n",
      "KDtree query time: 63.77945642471313\n",
      "Balltree index: 0.1554805278778076\n",
      "Balltree query time: 49.96784505844116\n",
      "SNN index: 0.04706859588623047\n",
      "SNN query time: 12.206254959106445\n",
      "\n"
     ]
    },
    {
     "name": "stderr",
     "output_type": "stream",
     "text": [
      " 80%|████████  | 8/10 [1:20:12<29:27, 883.51s/it]"
     ]
    },
    {
     "name": "stdout",
     "output_type": "stream",
     "text": [
      "brute force 1 query time: 62.548076486587526\n",
      "brute force 2 query time: 34.53612232208252\n",
      "KDtree index: 0.2367098808288574\n",
      "KDtree query time: 73.60799751281738\n",
      "Balltree index: 0.18109521865844727\n",
      "Balltree query time: 59.48930602073669\n",
      "SNN index: 0.057553672790527345\n",
      "SNN query time: 15.186445045471192\n",
      "\n"
     ]
    },
    {
     "name": "stderr",
     "output_type": "stream",
     "text": [
      " 90%|█████████ | 9/10 [1:43:15<17:19, 1039.66s/it]"
     ]
    },
    {
     "name": "stdout",
     "output_type": "stream",
     "text": [
      "brute force 1 query time: 67.84930491447449\n",
      "brute force 2 query time: 39.375402736663816\n",
      "KDtree index: 0.27951903343200685\n",
      "KDtree query time: 83.27975225448608\n",
      "Balltree index: 0.21146087646484374\n",
      "Balltree query time: 67.6963939666748\n",
      "SNN index: 0.06776084899902343\n",
      "SNN query time: 17.810234832763673\n",
      "\n"
     ]
    },
    {
     "name": "stderr",
     "output_type": "stream",
     "text": [
      "100%|██████████| 10/10 [2:09:51<00:00, 779.13s/it] "
     ]
    },
    {
     "name": "stdout",
     "output_type": "stream",
     "text": [
      "brute force 1 query time: 83.23849830627441\n",
      "brute force 2 query time: 47.029201650619505\n",
      "KDtree index: 0.3003885746002197\n",
      "KDtree query time: 92.39968962669373\n",
      "Balltree index: 0.230979061126709\n",
      "Balltree query time: 74.60061655044555\n",
      "SNN index: 0.08022751808166503\n",
      "SNN query time: 21.314986276626588\n",
      "\n"
     ]
    },
    {
     "name": "stderr",
     "output_type": "stream",
     "text": [
      "\n"
     ]
    }
   ],
   "source": [
    "n_samples = 10000\n",
    "unit_inc = 30\n",
    "Rlist = [0.5, 2, 3.5, 5, 6.5]\n",
    "rng = np.random.RandomState(0)\n",
    "\n",
    "\n",
    "index_time_kd = list()\n",
    "index_time_bl = list()\n",
    "index_time_sn = list()\n",
    "\n",
    "run_time_bf1 = list()\n",
    "run_time_bf2 = list()\n",
    "run_time_kd = list()\n",
    "run_time_bl = list()\n",
    "run_time_sn = list()\n",
    "\n",
    "xrange = np.arange(2, 2 + 10*unit_inc, unit_inc)\n",
    "for dim in tqdm(range(len(xrange))):\n",
    "    qm = 0\n",
    "    i = xrange[dim]\n",
    "    data = rng.random_sample((2*n_samples, i)) \n",
    "    data = (data - data.mean(axis=0))/data.std(axis=0)\n",
    "    X = data[:n_samples]\n",
    "    Query = data[n_samples:]\n",
    "    \n",
    "    bf1et = 0\n",
    "    bf2et = 0\n",
    "    kd_id_et = 0\n",
    "    kd_qy_et = 0 \n",
    "    bl_id_et = 0\n",
    "    bl_qy_et = 0\n",
    "    sn_id_et = 0\n",
    "    sn_qy_et = 0\n",
    "    \n",
    "    for R in Rlist:\n",
    "        st = time.time()\n",
    "        neigh = NearestNeighbors(radius=R, algorithm='brute')\n",
    "        neigh.fit(X)\n",
    "        for j in range(Query.shape[0]): \n",
    "            ind = neigh.radius_neighbors(\n",
    "               Query[j:j+1], radius=R, return_distance=False\n",
    "            )\n",
    "        bf1et += time.time() - st\n",
    "\n",
    "        st = time.time()\n",
    "        for j in range(Query.shape[0]): \n",
    "            ind = bf_radius_fairness(Query[j], X, R, return_distance=False)\n",
    "        bf2et += time.time() - st\n",
    "\n",
    "\n",
    "        # KDtree\n",
    "        st = time.time()\n",
    "        kdtree = NearestNeighbors(radius=R, algorithm='kd_tree', leaf_size=leaf_size)  \n",
    "        kdtree.fit(X)\n",
    "        kd_id_et += time.time() - st\n",
    "        \n",
    "        st = time.time()\n",
    "        for j in range(Query.shape[0]): \n",
    "            kdind = kdtree.radius_neighbors(Query[j:j+1], radius=R, return_distance=False) \n",
    "        kd_qy_et += time.time() - st\n",
    "        \n",
    "        # Balltree\n",
    "        st = time.time()\n",
    "        bltree = NearestNeighbors(radius=R, algorithm='ball_tree', leaf_size=leaf_size) \n",
    "        bltree.fit(X)\n",
    "        bl_id_et += time.time() - st\n",
    "        \n",
    "        st = time.time()\n",
    "        for j in range(Query.shape[0]): \n",
    "            blind = bltree.radius_neighbors(Query[j:j+1], radius=R, return_distance=False) \n",
    "        bl_qy_et += time.time() - st\n",
    "        \n",
    "        \n",
    "        # snn\n",
    "        st = time.time()\n",
    "        snn = build_snn_model(X)\n",
    "        sn_id_et += time.time() - st\n",
    "        \n",
    "        st = time.time()\n",
    "        for j in range(Query.shape[0]): \n",
    "            sind = snn.query_radius(Query[j], R)\n",
    "        sn_qy_et += time.time() - st\n",
    "        \n",
    "        \n",
    "    print(\"brute force 1 query time:\", bf1et/ len(Rlist))\n",
    "    print(\"brute force 2 query time:\", bf2et/ len(Rlist))\n",
    "    print(\"KDtree index:\", kd_id_et/ len(Rlist))\n",
    "    print(\"KDtree query time:\", kd_qy_et/ len(Rlist))\n",
    "    print(\"Balltree index:\", bl_id_et/ len(Rlist))\n",
    "    print(\"Balltree query time:\", bl_qy_et/ len(Rlist))\n",
    "    print(\"SNN index:\", sn_id_et/ len(Rlist))\n",
    "    print(\"SNN query time:\", sn_qy_et/ len(Rlist))\n",
    "    \n",
    "    index_time_kd.append( kd_id_et / len(Rlist))\n",
    "    run_time_bf1.append(bf1et / len(Rlist))\n",
    "    run_time_bf2.append(bf2et / len(Rlist))\n",
    "    run_time_kd.append(kd_qy_et / len(Rlist))\n",
    "    index_time_bl.append(bl_id_et / len(Rlist))\n",
    "    run_time_bl.append( bl_qy_et / len(Rlist))\n",
    "    index_time_sn.append(sn_id_et / len(Rlist))\n",
    "    run_time_sn.append(sn_qy_et / len(Rlist))\n",
    "    print()\n"
   ]
  },
  {
   "cell_type": "code",
   "execution_count": 3,
   "id": "turkish-laptop",
   "metadata": {
    "tags": []
   },
   "outputs": [],
   "source": [
    "### save the data\n",
    "\n",
    "index_time_kd = np.array(index_time_kd)\n",
    "index_time_bl = np.array(index_time_bl) \n",
    "index_time_sn = np.array(index_time_sn) \n",
    "\n",
    "run_time_bf1 = np.array(run_time_bf1)\n",
    "run_time_bf2 = np.array(run_time_bf2)\n",
    "run_time_kd = np.array(run_time_kd)\n",
    "run_time_bl = np.array(run_time_bl)\n",
    "run_time_sn = np.array(run_time_sn)\n",
    "\n",
    "with open('result/dim/index_time_kd.npy', 'wb') as f:\n",
    "    np.save(f, index_time_kd)\n",
    "\n",
    "with open('result/dim/index_time_bl.npy', 'wb') as f:\n",
    "    np.save(f, index_time_bl)\n",
    "\n",
    "with open('result/dim/index_time_sn.npy', 'wb') as f:\n",
    "    np.save(f, index_time_sn)\n",
    "    \n",
    "with open('result/dim/run_time_bf1.npy', 'wb') as f:\n",
    "    np.save(f, run_time_bf1)\n",
    "\n",
    "with open('result/dim/run_time_bf2.npy', 'wb') as f:\n",
    "    np.save(f, run_time_bf2)\n",
    "    \n",
    "with open('result/dim/run_time_kd.npy', 'wb') as f:\n",
    "    np.save(f, run_time_kd)\n",
    "\n",
    "with open('result/dim/run_time_bl.npy', 'wb') as f:\n",
    "    np.save(f, run_time_bl)\n",
    "    \n",
    "with open('result/dim/run_time_sn.npy', 'wb') as f:\n",
    "    np.save(f, run_time_sn)\n",
    "    "
   ]
  },
  {
   "cell_type": "code",
   "execution_count": null,
   "id": "satellite-equality",
   "metadata": {},
   "outputs": [],
   "source": []
  },
  {
   "cell_type": "code",
   "execution_count": null,
   "id": "bronze-snake",
   "metadata": {},
   "outputs": [],
   "source": []
  },
  {
   "cell_type": "code",
   "execution_count": null,
   "id": "recognized-coalition",
   "metadata": {},
   "outputs": [],
   "source": []
  },
  {
   "cell_type": "code",
   "execution_count": null,
   "id": "underlying-diamond",
   "metadata": {},
   "outputs": [],
   "source": []
  },
  {
   "cell_type": "code",
   "execution_count": null,
   "id": "recorded-speaker",
   "metadata": {},
   "outputs": [],
   "source": []
  }
 ],
 "metadata": {
  "kernelspec": {
   "display_name": "Python 3 (ipykernel)",
   "language": "python",
   "name": "python3"
  },
  "language_info": {
   "codemirror_mode": {
    "name": "ipython",
    "version": 3
   },
   "file_extension": ".py",
   "mimetype": "text/x-python",
   "name": "python",
   "nbconvert_exporter": "python",
   "pygments_lexer": "ipython3",
   "version": "3.9.12"
  }
 },
 "nbformat": 4,
 "nbformat_minor": 5
}
