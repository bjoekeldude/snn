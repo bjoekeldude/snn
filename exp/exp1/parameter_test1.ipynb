{
 "cells": [
  {
   "cell_type": "code",
   "execution_count": 1,
   "id": "general-journalism",
   "metadata": {},
   "outputs": [],
   "source": [
    "import time\n",
    "import warnings\n",
    "import numpy as np\n",
    "from snnpy import *\n",
    "from sklearn.neighbors import BallTree\n",
    "from sklearn.neighbors import NearestNeighbors\n",
    "from sklearn.neighbors import KDTree\n",
    "from bf_search import *\n",
    "from tqdm import tqdm\n",
    "\n",
    "leaf_size = 30\n",
    "warnings.filterwarnings(\"ignore\")"
   ]
  },
  {
   "cell_type": "markdown",
   "id": "stuck-oxygen",
   "metadata": {},
   "source": [
    "### size (ndim=2)"
   ]
  },
  {
   "cell_type": "code",
   "execution_count": 2,
   "id": "medieval-thursday",
   "metadata": {},
   "outputs": [
    {
     "name": "stderr",
     "output_type": "stream",
     "text": [
      " 10%|█         | 1/10 [00:12<01:49, 12.22s/it]"
     ]
    },
    {
     "name": "stdout",
     "output_type": "stream",
     "text": [
      "brute force 1 query time: 0.892121410369873\n",
      "brute force 2 query time: 0.07711148262023926\n",
      "KDtree index: 0.0013301849365234375\n",
      "KDtree query time: 0.7333163738250732\n",
      "Balltree index: 0.0011136531829833984\n",
      "Balltree query time: 0.6782093048095703\n",
      "SNN index: 0.0009559154510498047\n",
      "SNN query time: 0.05891270637512207\n",
      "\n"
     ]
    },
    {
     "name": "stderr",
     "output_type": "stream",
     "text": [
      " 20%|██        | 2/10 [00:38<02:42, 20.31s/it]"
     ]
    },
    {
     "name": "stdout",
     "output_type": "stream",
     "text": [
      "brute force 1 query time: 2.0887484550476074\n",
      "brute force 2 query time: 0.22319679260253905\n",
      "KDtree index: 0.002316188812255859\n",
      "KDtree query time: 1.3855984687805176\n",
      "Balltree index: 0.0015722751617431641\n",
      "Balltree query time: 1.3602072238922118\n",
      "SNN index: 0.0013588905334472657\n",
      "SNN query time: 0.13034820556640625\n",
      "\n"
     ]
    },
    {
     "name": "stderr",
     "output_type": "stream",
     "text": [
      " 30%|███       | 3/10 [01:20<03:31, 30.14s/it]"
     ]
    },
    {
     "name": "stdout",
     "output_type": "stream",
     "text": [
      "brute force 1 query time: 3.530639886856079\n",
      "brute force 2 query time: 0.44072113037109373\n",
      "KDtree index: 0.002806997299194336\n",
      "KDtree query time: 2.110543441772461\n",
      "Balltree index: 0.0022358417510986326\n",
      "Balltree query time: 2.070222187042236\n",
      "SNN index: 0.0016164779663085938\n",
      "SNN query time: 0.2099766254425049\n",
      "\n"
     ]
    },
    {
     "name": "stderr",
     "output_type": "stream",
     "text": [
      " 40%|████      | 4/10 [02:19<04:10, 41.79s/it]"
     ]
    },
    {
     "name": "stdout",
     "output_type": "stream",
     "text": [
      "brute force 1 query time: 5.270484685897827\n",
      "brute force 2 query time: 0.7302399635314941\n",
      "KDtree index: 0.0036507606506347655\n",
      "KDtree query time: 2.8403017044067385\n",
      "Balltree index: 0.0030890464782714843\n",
      "Balltree query time: 2.7780088901519777\n",
      "SNN index: 0.001802825927734375\n",
      "SNN query time: 0.2979975700378418\n",
      "\n"
     ]
    },
    {
     "name": "stderr",
     "output_type": "stream",
     "text": [
      " 50%|█████     | 5/10 [03:39<04:37, 55.45s/it]"
     ]
    },
    {
     "name": "stdout",
     "output_type": "stream",
     "text": [
      "brute force 1 query time: 7.310607242584228\n",
      "brute force 2 query time: 1.0969375610351562\n",
      "KDtree index: 0.004346990585327148\n",
      "KDtree query time: 3.6016801834106444\n",
      "Balltree index: 0.0035769462585449217\n",
      "Balltree query time: 3.5104534149169924\n",
      "SNN index: 0.0020571231842041017\n",
      "SNN query time: 0.40345449447631837\n",
      "\n"
     ]
    },
    {
     "name": "stderr",
     "output_type": "stream",
     "text": [
      " 60%|██████    | 6/10 [05:16<04:38, 69.58s/it]"
     ]
    },
    {
     "name": "stdout",
     "output_type": "stream",
     "text": [
      "brute force 1 query time: 9.124963808059693\n",
      "brute force 2 query time: 1.4341964244842529\n",
      "KDtree index: 0.005086231231689453\n",
      "KDtree query time: 4.242967748641968\n",
      "Balltree index: 0.0045298576354980465\n",
      "Balltree query time: 4.130775499343872\n",
      "SNN index: 0.0025084972381591796\n",
      "SNN query time: 0.4574014186859131\n",
      "\n"
     ]
    },
    {
     "name": "stderr",
     "output_type": "stream",
     "text": [
      " 70%|███████   | 7/10 [07:19<04:20, 87.00s/it]"
     ]
    },
    {
     "name": "stdout",
     "output_type": "stream",
     "text": [
      "brute force 1 query time: 11.734852504730224\n",
      "brute force 2 query time: 2.054579257965088\n",
      "KDtree index: 0.006420707702636719\n",
      "KDtree query time: 5.147843265533448\n",
      "Balltree index: 0.005020713806152344\n",
      "Balltree query time: 5.053049755096436\n",
      "SNN index: 0.0031085491180419924\n",
      "SNN query time: 0.5654738426208497\n",
      "\n"
     ]
    },
    {
     "name": "stderr",
     "output_type": "stream",
     "text": [
      " 80%|████████  | 8/10 [09:45<03:31, 105.98s/it]"
     ]
    },
    {
     "name": "stdout",
     "output_type": "stream",
     "text": [
      "brute force 1 query time: 14.159282350540161\n",
      "brute force 2 query time: 2.6852327823638915\n",
      "KDtree index: 0.007737588882446289\n",
      "KDtree query time: 5.979711055755615\n",
      "Balltree index: 0.006150531768798828\n",
      "Balltree query time: 5.802154779434204\n",
      "SNN index: 0.0032407283782958985\n",
      "SNN query time: 0.6812399387359619\n",
      "\n"
     ]
    },
    {
     "name": "stderr",
     "output_type": "stream",
     "text": [
      " 90%|█████████ | 9/10 [12:38<02:06, 126.80s/it]"
     ]
    },
    {
     "name": "stdout",
     "output_type": "stream",
     "text": [
      "brute force 1 query time: 16.774963235855104\n",
      "brute force 2 query time: 3.4916654586791993\n",
      "KDtree index: 0.00843186378479004\n",
      "KDtree query time: 6.827892541885376\n",
      "Balltree index: 0.006991004943847657\n",
      "Balltree query time: 6.581945991516113\n",
      "SNN index: 0.0034593582153320313\n",
      "SNN query time: 0.8169749259948731\n",
      "\n"
     ]
    },
    {
     "name": "stderr",
     "output_type": "stream",
     "text": [
      "100%|██████████| 10/10 [15:55<00:00, 95.55s/it] "
     ]
    },
    {
     "name": "stdout",
     "output_type": "stream",
     "text": [
      "brute force 1 query time: 19.454589557647704\n",
      "brute force 2 query time: 4.113681507110596\n",
      "KDtree index: 0.008959150314331055\n",
      "KDtree query time: 7.552644205093384\n",
      "Balltree index: 0.007610940933227539\n",
      "Balltree query time: 7.330803251266479\n",
      "SNN index: 0.003923463821411133\n",
      "SNN query time: 0.9372890949249267\n",
      "\n"
     ]
    },
    {
     "name": "stderr",
     "output_type": "stream",
     "text": [
      "\n"
     ]
    }
   ],
   "source": [
    "n_samples = 2000\n",
    "unit_inc = 2000\n",
    "n_dim =  2\n",
    "Rlist = [0.02, 0.05, 0.08, 0.11, 0.14]\n",
    "\n",
    "\n",
    "index_time_kd = list()\n",
    "index_time_bl = list()\n",
    "index_time_sn = list()\n",
    "\n",
    "run_time_bf1 = list()\n",
    "run_time_bf2 = list()\n",
    "run_time_kd = list()\n",
    "run_time_bl = list()\n",
    "run_time_sn = list()\n",
    "\n",
    "rng = np.random.RandomState(0)\n",
    "xrange = np.arange(n_samples, n_samples + 10*unit_inc, unit_inc)\n",
    "for size in tqdm(range(len(xrange))):\n",
    "    i = xrange[size]\n",
    "    data = rng.random_sample((2*i, n_dim)) \n",
    "    X = data[:i]\n",
    "    Query = data[i:]\n",
    "    \n",
    "    bf1et = 0\n",
    "    bf2et = 0\n",
    "    kd_id_et = 0\n",
    "    kd_qy_et = 0 \n",
    "    bl_id_et = 0\n",
    "    bl_qy_et = 0\n",
    "    sn_id_et = 0\n",
    "    sn_qy_et = 0\n",
    "    \n",
    "    for R in Rlist:\n",
    "        st = time.time()\n",
    "        neigh = NearestNeighbors(radius=R, algorithm='brute')\n",
    "        neigh.fit(X)\n",
    "        for j in range(Query.shape[0]): \n",
    "            ind = neigh.radius_neighbors(\n",
    "               Query[j:j+1], radius=R, return_distance=False\n",
    "            )\n",
    "        bf1et += time.time() - st\n",
    "\n",
    "        st = time.time()\n",
    "        for j in range(Query.shape[0]): \n",
    "            ind = bf_radius_fairness(Query[j], X, R, return_distance=False)\n",
    "        bf2et += time.time() - st\n",
    "\n",
    "        # KDtree\n",
    "        st = time.time()\n",
    "        kdtree = NearestNeighbors(radius=R, algorithm='kd_tree', leaf_size=leaf_size)  \n",
    "        kdtree.fit(X)\n",
    "        kd_id_et += time.time() - st\n",
    "        \n",
    "        \n",
    "        st = time.time()\n",
    "        for j in range(Query.shape[0]): \n",
    "            kdind = kdtree.radius_neighbors(Query[j:j+1], radius=R, return_distance=False) \n",
    "        kd_qy_et += time.time() - st\n",
    "        \n",
    "        # Balltree\n",
    "        st = time.time()\n",
    "        bltree = NearestNeighbors(radius=R, algorithm='ball_tree', leaf_size=leaf_size) \n",
    "        bltree.fit(X)\n",
    "        bl_id_et += time.time() - st\n",
    "        \n",
    "        st = time.time()\n",
    "        for j in range(Query.shape[0]): \n",
    "            blind = bltree.radius_neighbors(Query[j:j+1], radius=R, return_distance=False) \n",
    "        bl_qy_et += time.time() - st\n",
    "        \n",
    "        # snn\n",
    "        st = time.time()\n",
    "        snn = build_snn_model(X)\n",
    "        sn_id_et += time.time() - st\n",
    "        \n",
    "        st = time.time()\n",
    "        for j in range(Query.shape[0]): \n",
    "            sind = snn.query_radius(Query[j], R)\n",
    "        sn_qy_et += time.time() - st\n",
    "        \n",
    "        \n",
    "    print(\"brute force 1 query time:\", bf1et/ len(Rlist))\n",
    "    print(\"brute force 2 query time:\", bf2et/ len(Rlist))\n",
    "    print(\"KDtree index:\", kd_id_et/ len(Rlist))\n",
    "    print(\"KDtree query time:\", kd_qy_et/ len(Rlist))\n",
    "    print(\"Balltree index:\", bl_id_et/ len(Rlist))\n",
    "    print(\"Balltree query time:\", bl_qy_et/ len(Rlist))\n",
    "    print(\"SNN index:\", sn_id_et/ len(Rlist))\n",
    "    print(\"SNN query time:\", sn_qy_et/ len(Rlist))\n",
    "    \n",
    "    index_time_kd.append( kd_id_et / len(Rlist))\n",
    "    run_time_bf1.append(bf1et / len(Rlist))\n",
    "    run_time_bf2.append(bf2et / len(Rlist))\n",
    "    run_time_kd.append( kd_qy_et / len(Rlist))\n",
    "    index_time_bl.append( bl_id_et / len(Rlist))\n",
    "    run_time_bl.append( bl_qy_et / len(Rlist))\n",
    "    index_time_sn.append(sn_id_et / len(Rlist))\n",
    "    run_time_sn.append(sn_qy_et/ len(Rlist))\n",
    "    print()"
   ]
  },
  {
   "cell_type": "code",
   "execution_count": 3,
   "id": "banned-shelter",
   "metadata": {},
   "outputs": [],
   "source": [
    "### save the data\n",
    "\n",
    "index_time_kd = np.array(index_time_kd)\n",
    "index_time_bl = np.array(index_time_bl) \n",
    "index_time_sn = np.array(index_time_sn) \n",
    "\n",
    "run_time_bf1 = np.array(run_time_bf1)\n",
    "run_time_bf2 = np.array(run_time_bf2)\n",
    "run_time_kd = np.array(run_time_kd)\n",
    "run_time_bl = np.array(run_time_bl)\n",
    "run_time_sn = np.array(run_time_sn)\n",
    "\n",
    "\n",
    "with open('result/query_r/size/index_time_kd_d2.npy', 'wb') as f:\n",
    "    np.save(f, index_time_kd)\n",
    "\n",
    "with open('result/query_r/size/index_time_bl_d2.npy', 'wb') as f:\n",
    "    np.save(f, index_time_bl)\n",
    "\n",
    "with open('result/query_r/size/index_time_sn_d2.npy', 'wb') as f:\n",
    "    np.save(f, index_time_sn)\n",
    "    \n",
    "with open('result/query_r/size/run_time_bf1_d2.npy', 'wb') as f:\n",
    "    np.save(f, run_time_bf1)\n",
    "\n",
    "with open('result/query_r/size/run_time_bf2_d2.npy', 'wb') as f:\n",
    "    np.save(f, run_time_bf2)\n",
    "\n",
    "with open('result/query_r/size/run_time_kd_d2.npy', 'wb') as f:\n",
    "    np.save(f, run_time_kd)\n",
    "\n",
    "with open('result/query_r/size/run_time_bl_d2.npy', 'wb') as f:\n",
    "    np.save(f, run_time_bl)\n",
    "    \n",
    "with open('result/query_r/size/run_time_sn_d2.npy', 'wb') as f:\n",
    "    np.save(f, run_time_sn)\n",
    "    "
   ]
  },
  {
   "cell_type": "markdown",
   "id": "expanded-median",
   "metadata": {},
   "source": [
    "### size (ndim=50)"
   ]
  },
  {
   "cell_type": "code",
   "execution_count": 4,
   "id": "matched-repository",
   "metadata": {},
   "outputs": [
    {
     "name": "stderr",
     "output_type": "stream",
     "text": [
      " 10%|█         | 1/10 [00:21<03:15, 21.77s/it]"
     ]
    },
    {
     "name": "stdout",
     "output_type": "stream",
     "text": [
      "brute force 1 query time: 1.2857616901397706\n",
      "brute force 2 query time: 0.2525928020477295\n",
      "KDtree index: 0.00824422836303711\n",
      "KDtree query time: 1.600658655166626\n",
      "Balltree index: 0.005670595169067383\n",
      "Balltree query time: 1.0759779930114746\n",
      "SNN index: 0.002515840530395508\n",
      "SNN query time: 0.12198481559753419\n",
      "\n"
     ]
    },
    {
     "name": "stderr",
     "output_type": "stream",
     "text": [
      " 20%|██        | 2/10 [01:26<06:18, 47.29s/it]"
     ]
    },
    {
     "name": "stdout",
     "output_type": "stream",
     "text": [
      "brute force 1 query time: 3.5274044990539553\n",
      "brute force 2 query time: 1.0507651805877685\n",
      "KDtree index: 0.018450832366943358\n",
      "KDtree query time: 5.024897718429566\n",
      "Balltree index: 0.013147830963134766\n",
      "Balltree query time: 2.896449565887451\n",
      "SNN index: 0.004449701309204102\n",
      "SNN query time: 0.4945737361907959\n",
      "\n"
     ]
    },
    {
     "name": "stderr",
     "output_type": "stream",
     "text": [
      " 30%|███       | 3/10 [03:26<09:21, 80.26s/it]"
     ]
    },
    {
     "name": "stdout",
     "output_type": "stream",
     "text": [
      "brute force 1 query time: 6.638609409332275\n",
      "brute force 2 query time: 2.4020076751708985\n",
      "KDtree index: 0.027284955978393553\n",
      "KDtree query time: 8.526308155059814\n",
      "Balltree index: 0.019746160507202147\n",
      "Balltree query time: 5.166051435470581\n",
      "SNN index: 0.0070989131927490234\n",
      "SNN query time: 1.1100894927978515\n",
      "\n"
     ]
    },
    {
     "name": "stderr",
     "output_type": "stream",
     "text": [
      " 40%|████      | 4/10 [07:07<13:35, 135.96s/it]"
     ]
    },
    {
     "name": "stdout",
     "output_type": "stream",
     "text": [
      "brute force 1 query time: 10.501354312896728\n",
      "brute force 2 query time: 4.17706151008606\n",
      "KDtree index: 0.04130067825317383\n",
      "KDtree query time: 18.912963533401488\n",
      "Balltree index: 0.03014826774597168\n",
      "Balltree query time: 8.64463996887207\n",
      "SNN index: 0.009214019775390625\n",
      "SNN query time: 1.9505250930786133\n",
      "\n"
     ]
    },
    {
     "name": "stderr",
     "output_type": "stream",
     "text": [
      " 50%|█████     | 5/10 [13:35<18:53, 226.65s/it]"
     ]
    },
    {
     "name": "stdout",
     "output_type": "stream",
     "text": [
      "brute force 1 query time: 16.42732768058777\n",
      "brute force 2 query time: 6.4816522121429445\n",
      "KDtree index: 0.05551347732543945\n",
      "KDtree query time: 31.5589777469635\n",
      "Balltree index: 0.04117393493652344\n",
      "Balltree query time: 19.844099760055542\n",
      "SNN index: 0.012276601791381837\n",
      "SNN query time: 3.0650165557861326\n",
      "\n"
     ]
    },
    {
     "name": "stderr",
     "output_type": "stream",
     "text": [
      " 60%|██████    | 6/10 [22:57<22:43, 340.93s/it]"
     ]
    },
    {
     "name": "stdout",
     "output_type": "stream",
     "text": [
      "brute force 1 query time: 22.218090629577638\n",
      "brute force 2 query time: 9.717243337631226\n",
      "KDtree index: 0.06725263595581055\n",
      "KDtree query time: 49.45512132644653\n",
      "Balltree index: 0.049594688415527347\n",
      "Balltree query time: 26.61669478416443\n",
      "SNN index: 0.014846372604370116\n",
      "SNN query time: 4.41048846244812\n",
      "\n"
     ]
    },
    {
     "name": "stderr",
     "output_type": "stream",
     "text": [
      " 70%|███████   | 7/10 [36:52<25:07, 502.45s/it]"
     ]
    },
    {
     "name": "stdout",
     "output_type": "stream",
     "text": [
      "brute force 1 query time: 31.027120113372803\n",
      "brute force 2 query time: 13.046793556213379\n",
      "KDtree index: 0.08338637351989746\n",
      "KDtree query time: 67.5608229637146\n",
      "Balltree index: 0.06746654510498047\n",
      "Balltree query time: 48.83416194915772\n",
      "SNN index: 0.017702627182006835\n",
      "SNN query time: 6.354003000259399\n",
      "\n"
     ]
    },
    {
     "name": "stderr",
     "output_type": "stream",
     "text": [
      " 80%|████████  | 8/10 [54:20<22:31, 675.87s/it]"
     ]
    },
    {
     "name": "stdout",
     "output_type": "stream",
     "text": [
      "brute force 1 query time: 41.97265753746033\n",
      "brute force 2 query time: 17.197084617614745\n",
      "KDtree index: 0.1019866943359375\n",
      "KDtree query time: 91.94804821014404\n",
      "Balltree index: 0.07225623130798339\n",
      "Balltree query time: 49.25440516471863\n",
      "SNN index: 0.01941704750061035\n",
      "SNN query time: 8.871907186508178\n",
      "\n"
     ]
    },
    {
     "name": "stderr",
     "output_type": "stream",
     "text": [
      " 90%|█████████ | 9/10 [1:15:27<14:20, 860.73s/it]"
     ]
    },
    {
     "name": "stdout",
     "output_type": "stream",
     "text": [
      "brute force 1 query time: 48.655680131912234\n",
      "brute force 2 query time: 22.084027147293092\n",
      "KDtree index: 0.11615700721740722\n",
      "KDtree query time: 107.80477318763732\n",
      "Balltree index: 0.08374629020690919\n",
      "Balltree query time: 62.53867907524109\n",
      "SNN index: 0.02195148468017578\n",
      "SNN query time: 12.127765130996703\n",
      "\n"
     ]
    },
    {
     "name": "stderr",
     "output_type": "stream",
     "text": [
      "100%|██████████| 10/10 [1:42:06<00:00, 612.65s/it] "
     ]
    },
    {
     "name": "stdout",
     "output_type": "stream",
     "text": [
      "brute force 1 query time: 64.09627637863159\n",
      "brute force 2 query time: 28.675651597976685\n",
      "KDtree index: 0.1340017795562744\n",
      "KDtree query time: 131.5664942264557\n",
      "Balltree index: 0.09935789108276367\n",
      "Balltree query time: 79.32814283370972\n",
      "SNN index: 0.023569345474243164\n",
      "SNN query time: 15.905593109130859\n",
      "\n"
     ]
    },
    {
     "name": "stderr",
     "output_type": "stream",
     "text": [
      "\n"
     ]
    }
   ],
   "source": [
    "n_samples = 2000\n",
    "unit_inc = 2000\n",
    "n_dim =  50\n",
    "Rlist = [2, 2.1, 2.2, 2.3, 2.4]\n",
    "\n",
    "\n",
    "index_time_kd = list()\n",
    "index_time_bl = list()\n",
    "index_time_sn = list()\n",
    "\n",
    "run_time_bf1 = list()\n",
    "run_time_bf2 = list()\n",
    "run_time_kd = list()\n",
    "run_time_bl = list()\n",
    "run_time_sn = list()\n",
    "\n",
    "rng = np.random.RandomState(0)\n",
    "xrange = np.arange(n_samples, n_samples + 10*unit_inc, unit_inc)\n",
    "for size in tqdm(range(len(xrange))):\n",
    "    i = xrange[size]\n",
    "    data = rng.random_sample((2*i, n_dim)) \n",
    "    X = data[:i]\n",
    "    Query = data[i:]\n",
    "     \n",
    "    bf1et = 0\n",
    "    bf2et = 0\n",
    "    kd_id_et = 0\n",
    "    kd_qy_et = 0 \n",
    "    bl_id_et = 0\n",
    "    bl_qy_et = 0\n",
    "    sn_id_et = 0\n",
    "    sn_qy_et = 0\n",
    "    \n",
    "    for R in Rlist:\n",
    "        st = time.time()\n",
    "        neigh = NearestNeighbors(radius=R, algorithm='brute')\n",
    "        neigh.fit(X)\n",
    "        for j in range(Query.shape[0]): \n",
    "            ind = neigh.radius_neighbors(\n",
    "               Query[j:j+1], radius=R, return_distance=False\n",
    "            )\n",
    "        bf1et += time.time() - st\n",
    "\n",
    "        st = time.time()\n",
    "        for j in range(Query.shape[0]): \n",
    "            ind = bf_radius_fairness(Query[j], X, R, return_distance=False)\n",
    "        bf2et += time.time() - st\n",
    "\n",
    "\n",
    "        # KDtree\n",
    "        st = time.time()\n",
    "        kdtree = NearestNeighbors(radius=R, algorithm='kd_tree', leaf_size=leaf_size)  \n",
    "        kdtree.fit(X)\n",
    "        kd_id_et += time.time() - st\n",
    "        \n",
    "        st = time.time()\n",
    "        for j in range(Query.shape[0]): \n",
    "            kdind = kdtree.radius_neighbors(Query[j:j+1], radius=R, return_distance=False) \n",
    "        kd_qy_et += time.time() - st\n",
    "        \n",
    "        # Balltree\n",
    "        st = time.time()\n",
    "        bltree = NearestNeighbors(radius=R, algorithm='ball_tree', leaf_size=leaf_size) \n",
    "        bltree.fit(X)\n",
    "        bl_id_et += time.time() - st\n",
    "        \n",
    "        st = time.time()\n",
    "        for j in range(Query.shape[0]): \n",
    "            blind = bltree.radius_neighbors(Query[j:j+1], radius=R, return_distance=False) \n",
    "        bl_qy_et += time.time() - st\n",
    "        \n",
    "        \n",
    "        # snn\n",
    "        st = time.time()\n",
    "        snn = build_snn_model(X)\n",
    "        sn_id_et += time.time() - st\n",
    "        \n",
    "        st = time.time()\n",
    "        for j in range(Query.shape[0]): \n",
    "            sind = snn.query_radius(Query[j], R)\n",
    "        sn_qy_et += time.time() - st\n",
    "        \n",
    "        \n",
    "    print(\"brute force 1 query time:\", bf1et/ len(Rlist))\n",
    "    print(\"brute force 2 query time:\", bf2et/ len(Rlist))\n",
    "    print(\"KDtree index:\", kd_id_et/ len(Rlist))\n",
    "    print(\"KDtree query time:\", kd_qy_et/ len(Rlist))\n",
    "    print(\"Balltree index:\", bl_id_et/ len(Rlist))\n",
    "    print(\"Balltree query time:\", bl_qy_et/ len(Rlist))\n",
    "    print(\"SNN index:\", sn_id_et/ len(Rlist))\n",
    "    print(\"SNN query time:\", sn_qy_et/ len(Rlist))\n",
    "    \n",
    "    index_time_kd.append(kd_id_et / len(Rlist))\n",
    "    run_time_bf1.append(bf1et / len(Rlist))\n",
    "    run_time_bf2.append(bf2et / len(Rlist))\n",
    "    run_time_kd.append( kd_qy_et / len(Rlist))\n",
    "    index_time_bl.append( bl_id_et / len(Rlist))\n",
    "    run_time_bl.append( bl_qy_et / len(Rlist))\n",
    "    index_time_sn.append(sn_id_et / len(Rlist))\n",
    "    run_time_sn.append(sn_qy_et / len(Rlist))\n",
    "    print()"
   ]
  },
  {
   "cell_type": "code",
   "execution_count": 5,
   "id": "twelve-statistics",
   "metadata": {},
   "outputs": [],
   "source": [
    "### save the data\n",
    "\n",
    "index_time_kd = np.array(index_time_kd)\n",
    "index_time_bl = np.array(index_time_bl) \n",
    "index_time_sn = np.array(index_time_sn) \n",
    "\n",
    "run_time_bf1 = np.array(run_time_bf1)\n",
    "run_time_bf2 = np.array(run_time_bf2)\n",
    "run_time_kd = np.array(run_time_kd)\n",
    "run_time_bl = np.array(run_time_bl)\n",
    "run_time_sn = np.array(run_time_sn)\n",
    "\n",
    "\n",
    "with open('result/size/index_time_kd.npy', 'wb') as f:\n",
    "    np.save(f, index_time_kd)\n",
    "\n",
    "with open('result/size/index_time_bl.npy', 'wb') as f:\n",
    "    np.save(f, index_time_bl)\n",
    "\n",
    "with open('result/size/index_time_sn.npy', 'wb') as f:\n",
    "    np.save(f, index_time_sn)\n",
    "    \n",
    "with open('result/size/run_time_bf1.npy', 'wb') as f:\n",
    "    np.save(f, run_time_bf1)\n",
    "\n",
    "with open('result/size/run_time_bf2.npy', 'wb') as f:\n",
    "    np.save(f, run_time_bf2)\n",
    "\n",
    "with open('result/size/run_time_kd.npy', 'wb') as f:\n",
    "    np.save(f, run_time_kd)\n",
    "\n",
    "with open('result/size/run_time_bl.npy', 'wb') as f:\n",
    "    np.save(f, run_time_bl)\n",
    "    \n",
    "with open('result/size/run_time_sn.npy', 'wb') as f:\n",
    "    np.save(f, run_time_sn)\n",
    "    "
   ]
  },
  {
   "cell_type": "code",
   "execution_count": null,
   "id": "driving-general",
   "metadata": {},
   "outputs": [],
   "source": []
  },
  {
   "cell_type": "code",
   "execution_count": null,
   "id": "related-mongolia",
   "metadata": {},
   "outputs": [],
   "source": []
  },
  {
   "cell_type": "code",
   "execution_count": null,
   "id": "contemporary-leisure",
   "metadata": {},
   "outputs": [],
   "source": []
  },
  {
   "cell_type": "code",
   "execution_count": null,
   "id": "internal-weekend",
   "metadata": {},
   "outputs": [],
   "source": []
  },
  {
   "cell_type": "code",
   "execution_count": null,
   "id": "entitled-faculty",
   "metadata": {},
   "outputs": [],
   "source": []
  }
 ],
 "metadata": {
  "kernelspec": {
   "display_name": "Python 3 (ipykernel)",
   "language": "python",
   "name": "python3"
  },
  "language_info": {
   "codemirror_mode": {
    "name": "ipython",
    "version": 3
   },
   "file_extension": ".py",
   "mimetype": "text/x-python",
   "name": "python",
   "nbconvert_exporter": "python",
   "pygments_lexer": "ipython3",
   "version": "3.9.12"
  }
 },
 "nbformat": 4,
 "nbformat_minor": 5
}
