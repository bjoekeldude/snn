{
 "cells": [
  {
   "cell_type": "code",
   "execution_count": 1,
   "id": "returning-arctic",
   "metadata": {},
   "outputs": [],
   "source": [
    "import time\n",
    "import numpy as np"
   ]
  },
  {
   "cell_type": "code",
   "execution_count": 2,
   "id": "operating-mexico",
   "metadata": {},
   "outputs": [],
   "source": [
    "def bvecs_read(fname):\n",
    "    a = np.fromfile(fname, dtype=np.int32, count=1)\n",
    "    b = np.fromfile(fname, dtype=np.uint8)\n",
    "    d = a[0]\n",
    "    return b.reshape(-1, d + 4)[:, 4:].copy()\n",
    "\n",
    "\n",
    "def ivecs_read(fname):\n",
    "    a = np.fromfile(fname, dtype='int32')\n",
    "    d = a[0]\n",
    "    return a.reshape(-1, d + 1)[:, 1:].copy()\n",
    "\n",
    "\n",
    "def fvecs_read2(fname):\n",
    "    return ivecs_read(fname).view('float32')"
   ]
  },
  {
   "cell_type": "code",
   "execution_count": 3,
   "id": "nuclear-vacuum",
   "metadata": {},
   "outputs": [
    {
     "name": "stdout",
     "output_type": "stream",
     "text": [
      "fmn_train dimensions: (60000, 784)\n",
      "fmn_query dimensions: (10000, 784)\n",
      "siftsmall_train dimensions: (25000, 128)\n",
      "siftsmall_query dimensions: (100, 128)\n",
      "sift_train dimensions: (100000, 128)\n",
      "sift_query dimensions: (10000, 128)\n",
      "gist_train dimensions: (1000000, 960)\n",
      "gist_query dimensions: (1000, 960)\n"
     ]
    }
   ],
   "source": [
    "fmn_train = np.load(\"fashion_mnist/train.npy\")\n",
    "fmn_query = np.load(\"fashion_mnist/queries.npy\")\n",
    "\n",
    "print(\"fmn_train dimensions:\", fmn_train.shape)\n",
    "print(\"fmn_query dimensions:\", fmn_query.shape)\n",
    "\n",
    "sift_train = fvecs_read2('siftsmall/siftsmall_learn.fvecs')\n",
    "sift_query = fvecs_read2('siftsmall/siftsmall_query.fvecs')\n",
    "\n",
    "print(\"siftsmall_train dimensions:\", sift_train.shape)\n",
    "print(\"siftsmall_query dimensions:\", sift_query.shape)\n",
    "\n",
    "sift_train = fvecs_read2('sift/sift_learn.fvecs')\n",
    "sift_query = fvecs_read2('sift/sift_query.fvecs')\n",
    "\n",
    "print(\"sift_train dimensions:\", sift_train.shape)\n",
    "print(\"sift_query dimensions:\", sift_query.shape)\n",
    "\n",
    "gist_train = np.load(\"gist/train.npy\")\n",
    "gist_query = np.load(\"gist/queries.npy\")\n",
    "\n",
    "print(\"gist_train dimensions:\", gist_train.shape)\n",
    "print(\"gist_query dimensions:\", gist_query.shape)\n"
   ]
  },
  {
   "cell_type": "code",
   "execution_count": null,
   "id": "suspended-texture",
   "metadata": {},
   "outputs": [],
   "source": []
  },
  {
   "cell_type": "code",
   "execution_count": null,
   "id": "exact-engineering",
   "metadata": {},
   "outputs": [],
   "source": []
  },
  {
   "cell_type": "code",
   "execution_count": null,
   "id": "violent-title",
   "metadata": {},
   "outputs": [],
   "source": []
  }
 ],
 "metadata": {
  "kernelspec": {
   "display_name": "Python 3",
   "language": "python",
   "name": "python3"
  },
  "language_info": {
   "codemirror_mode": {
    "name": "ipython",
    "version": 3
   },
   "file_extension": ".py",
   "mimetype": "text/x-python",
   "name": "python",
   "nbconvert_exporter": "python",
   "pygments_lexer": "ipython3",
   "version": "3.9.2"
  }
 },
 "nbformat": 4,
 "nbformat_minor": 5
}
